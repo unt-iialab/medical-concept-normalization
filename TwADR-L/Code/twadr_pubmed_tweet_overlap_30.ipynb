{
  "nbformat": 4,
  "nbformat_minor": 0,
  "metadata": {
    "colab": {
      "name": "twadr_pubmed_tweet_overlap_30.ipynb",
      "provenance": [],
      "collapsed_sections": [],
      "toc_visible": true,
      "include_colab_link": true
    },
    "kernelspec": {
      "name": "python3",
      "display_name": "Python 3"
    },
    "accelerator": "TPU"
  },
  "cells": [
    {
      "cell_type": "markdown",
      "metadata": {
        "id": "view-in-github",
        "colab_type": "text"
      },
      "source": [
        "<a href=\"https://colab.research.google.com/github/unt-iialab/medical-concept-normalization/blob/master/TwADR-L/Code/twadr_pubmed_tweet_overlap_30.ipynb\" target=\"_parent\"><img src=\"https://colab.research.google.com/assets/colab-badge.svg\" alt=\"Open In Colab\"/></a>"
      ]
    },
    {
      "cell_type": "code",
      "metadata": {
        "id": "adSi6i2-dWxy",
        "colab_type": "code",
        "colab": {}
      },
      "source": [
        "import os"
      ],
      "execution_count": 0,
      "outputs": []
    },
    {
      "cell_type": "code",
      "metadata": {
        "id": "E7xYCRGPjd9B",
        "colab_type": "code",
        "colab": {}
      },
      "source": [
        "base_dir = 'medical-concept-normalization'"
      ],
      "execution_count": 0,
      "outputs": []
    },
    {
      "cell_type": "code",
      "metadata": {
        "id": "yvIW3aUDjYNS",
        "colab_type": "code",
        "colab": {}
      },
      "source": [
        "if os.path.exists('medical-concept-normalization'):\n",
        "  print('folder exist')\n",
        "else:\n",
        "  os.mkdir(base_dir)"
      ],
      "execution_count": 0,
      "outputs": []
    },
    {
      "cell_type": "code",
      "metadata": {
        "id": "es-FFLlfk6SG",
        "colab_type": "code",
        "colab": {}
      },
      "source": [
        "if os.path.exists('medical-concept-normalization/data_collection'):\n",
        "  print('folder exist')\n",
        "else:\n",
        "  os.mkdir('medical-concept-normalization/data_collection')"
      ],
      "execution_count": 0,
      "outputs": []
    },
    {
      "cell_type": "markdown",
      "metadata": {
        "id": "0R-Guw_VoJXm",
        "colab_type": "text"
      },
      "source": [
        "**Install fastai and clone the fastai for text classification**\n",
        "\n"
      ]
    },
    {
      "cell_type": "code",
      "metadata": {
        "id": "QVZa3Z0PmHFH",
        "colab_type": "code",
        "outputId": "4f749938-afc2-4889-950d-8a9c3c421da0",
        "colab": {
          "base_uri": "https://localhost:8080/",
          "height": 68
        }
      },
      "source": [
        "!curl https://course-v3.fast.ai/setup/colab | bash"
      ],
      "execution_count": 7,
      "outputs": [
        {
          "output_type": "stream",
          "text": [
            "  % Total    % Received % Xferd  Average Speed   Time    Time     Time  Current\n",
            "                                 Dload  Upload   Total   Spent    Left  Speed\n",
            "\r  0     0    0     0    0     0      0      0 --:--:-- --:--:-- --:--:--     0curl: (6) Could not resolve host: course-v3.fast.ai\n"
          ],
          "name": "stdout"
        }
      ]
    },
    {
      "cell_type": "code",
      "metadata": {
        "id": "_FBFFEBrmJC0",
        "colab_type": "code",
        "outputId": "88a3388a-750a-491e-c160-b93aebbfc7d7",
        "colab": {
          "base_uri": "https://localhost:8080/",
          "height": 85
        }
      },
      "source": [
        "!git clone https://github.com/wshuyi/demo-nlp-classification-fastai.git"
      ],
      "execution_count": 8,
      "outputs": [
        {
          "output_type": "stream",
          "text": [
            "Cloning into 'demo-nlp-classification-fastai'...\n",
            "remote: Enumerating objects: 9, done.\u001b[K\n",
            "remote: Total 9 (delta 0), reused 0 (delta 0), pack-reused 9\u001b[K\n",
            "Unpacking objects: 100% (9/9), done.\n"
          ],
          "name": "stdout"
        }
      ]
    },
    {
      "cell_type": "code",
      "metadata": {
        "id": "66zfh_JqmWMU",
        "colab_type": "code",
        "colab": {}
      },
      "source": [
        "from fastai import *\n",
        "from fastai.text import *"
      ],
      "execution_count": 0,
      "outputs": []
    },
    {
      "cell_type": "markdown",
      "metadata": {
        "id": "mNIw-yALdBU9",
        "colab_type": "text"
      },
      "source": [
        "**Set the path of the data collections**"
      ]
    },
    {
      "cell_type": "code",
      "metadata": {
        "id": "pzH7VMh4mqCL",
        "colab_type": "code",
        "colab": {}
      },
      "source": [
        "path = Path('medical-concept-normalization/data_collection')"
      ],
      "execution_count": 0,
      "outputs": []
    },
    {
      "cell_type": "code",
      "metadata": {
        "id": "r8cdqCa-Oeog",
        "colab_type": "code",
        "colab": {}
      },
      "source": [
        "# datasets\n",
        "\n",
        "train_csv = 'https://raw.githubusercontent.com/unt-iialab/medical-concept-normalization/master/TwADR-L/Experiment%20(Change%20test%20dataset)/Training%20set/tward_training_folder_0.csv'\n",
        "valid_csv = 'https://raw.githubusercontent.com/unt-iialab/medical-concept-normalization/master/TwADR-L/Experiment%20(Change%20test%20dataset)/Validation%20set/tward_validation_folder_0.csv'\n",
        "test_csv = 'https://raw.githubusercontent.com/unt-iialab/medical-concept-normalization/master/TwADR-L/Experiment%20(Change%20test%20dataset)/Testing%20set/tward_testing_overlap_30.csv'\n",
        "fine_tuning_data = 'fine_tuning_language_model_pubmed_bigtweet_mixed.csv'"
      ],
      "execution_count": 0,
      "outputs": []
    },
    {
      "cell_type": "code",
      "metadata": {
        "id": "b8fjI6yyn4aS",
        "colab_type": "code",
        "outputId": "e962bc78-f7d9-41bd-e4ba-d381cba1fa26",
        "colab": {
          "base_uri": "https://localhost:8080/",
          "height": 119
        }
      },
      "source": [
        "# training data set\n",
        "train = pd.read_csv(train_csv, header=None)\n",
        "print(train.head())\n",
        "\n",
        "# validating data set\n",
        "valid = pd.read_csv(valid_csv,header=None)\n",
        "# valid.head()\n",
        "\n",
        "# testing data set\n",
        "test = pd.read_csv(test_csv,header=None)\n",
        "# test.head()"
      ],
      "execution_count": 12,
      "outputs": [
        {
          "output_type": "stream",
          "text": [
            "      0                      1\n",
            "0  1945    Adrenergic syndrome\n",
            "1  1586  Hearing Loss, Partial\n",
            "2   580          Typhoid Fever\n",
            "3   784      Carcinoma of lung\n",
            "4   660              Pregnancy\n"
          ],
          "name": "stdout"
        }
      ]
    },
    {
      "cell_type": "code",
      "metadata": {
        "id": "Vo-YNvVYoaH6",
        "colab_type": "code",
        "outputId": "37be4eb5-1dfe-498c-a67f-fec81db72bb2",
        "colab": {
          "base_uri": "https://localhost:8080/",
          "height": 17
        }
      },
      "source": [
        "# Creating DataBunch for language modelling\n",
        "data_lm = TextLMDataBunch.from_csv(path, fine_tuning_data)"
      ],
      "execution_count": 14,
      "outputs": [
        {
          "output_type": "display_data",
          "data": {
            "text/html": [
              ""
            ],
            "text/plain": [
              "<IPython.core.display.HTML object>"
            ]
          },
          "metadata": {
            "tags": []
          }
        },
        {
          "output_type": "display_data",
          "data": {
            "text/html": [
              ""
            ],
            "text/plain": [
              "<IPython.core.display.HTML object>"
            ]
          },
          "metadata": {
            "tags": []
          }
        }
      ]
    },
    {
      "cell_type": "code",
      "metadata": {
        "id": "1ScY9afDsnvE",
        "colab_type": "code",
        "colab": {}
      },
      "source": [
        "# Creating DataBunch for classification\n",
        "\n",
        "# data_clas = TextClasDataBunch.from_df(path, train, valid, test, vocab=data_lm.train_ds.vocab, bs=128)"
      ],
      "execution_count": 0,
      "outputs": []
    },
    {
      "cell_type": "code",
      "metadata": {
        "id": "gzrSdQcvey9p",
        "colab_type": "code",
        "outputId": "2fb1d40d-34cd-4170-a8a4-d68831a1b946",
        "colab": {
          "base_uri": "https://localhost:8080/",
          "height": 17
        }
      },
      "source": [
        "data_clas = TextClasDataBunch.from_df(path, train, valid, vocab=data_lm.train_ds.vocab, bs=128)"
      ],
      "execution_count": 16,
      "outputs": [
        {
          "output_type": "display_data",
          "data": {
            "text/html": [
              ""
            ],
            "text/plain": [
              "<IPython.core.display.HTML object>"
            ]
          },
          "metadata": {
            "tags": []
          }
        },
        {
          "output_type": "display_data",
          "data": {
            "text/html": [
              ""
            ],
            "text/plain": [
              "<IPython.core.display.HTML object>"
            ]
          },
          "metadata": {
            "tags": []
          }
        }
      ]
    },
    {
      "cell_type": "code",
      "metadata": {
        "id": "MD27Tf0Ke3ou",
        "colab_type": "code",
        "outputId": "fa6ced45-3d78-4203-a48e-95d943c83078",
        "colab": {
          "base_uri": "https://localhost:8080/",
          "height": 17
        }
      },
      "source": [
        "data_clas.add_test(test,label=0)"
      ],
      "execution_count": 17,
      "outputs": [
        {
          "output_type": "display_data",
          "data": {
            "text/html": [
              ""
            ],
            "text/plain": [
              "<IPython.core.display.HTML object>"
            ]
          },
          "metadata": {
            "tags": []
          }
        }
      ]
    },
    {
      "cell_type": "code",
      "metadata": {
        "id": "-dpjnk_rstwk",
        "colab_type": "code",
        "colab": {}
      },
      "source": [
        "data_lm.save()\n",
        "data_clas.save()"
      ],
      "execution_count": 0,
      "outputs": []
    },
    {
      "cell_type": "code",
      "metadata": {
        "id": "4OkiJa36sw5s",
        "colab_type": "code",
        "outputId": "1cb200e8-4e8e-4f5a-9db9-467cf9e5c0b5",
        "colab": {
          "base_uri": "https://localhost:8080/",
          "height": 1000
        }
      },
      "source": [
        "data_lm.train_ds.vocab.itos"
      ],
      "execution_count": 19,
      "outputs": [
        {
          "output_type": "execute_result",
          "data": {
            "text/plain": [
              "['xxunk',\n",
              " 'xxpad',\n",
              " 'xxbos',\n",
              " 'xxeos',\n",
              " 'xxfld',\n",
              " 'xxmaj',\n",
              " 'xxup',\n",
              " 'xxrep',\n",
              " 'xxwrep',\n",
              " 'the',\n",
              " 'of',\n",
              " 'and',\n",
              " 'in',\n",
              " 'to',\n",
              " 'a',\n",
              " 'for',\n",
              " 'with',\n",
              " 'was',\n",
              " 'diclofenac',\n",
              " 'were',\n",
              " 'on',\n",
              " 'is',\n",
              " 'rt',\n",
              " 'sodium',\n",
              " 'by',\n",
              " 'that',\n",
              " 'as',\n",
              " 'at',\n",
              " 'patients',\n",
              " 'or',\n",
              " 'this',\n",
              " 'from',\n",
              " 'drug',\n",
              " 'you',\n",
              " 'i',\n",
              " 'mg',\n",
              " 'group',\n",
              " 'be',\n",
              " 'disease',\n",
              " 'study',\n",
              " 'are',\n",
              " 'treatment',\n",
              " 'pain',\n",
              " 'after',\n",
              " 'an',\n",
              " 'not',\n",
              " 'it',\n",
              " 'amp',\n",
              " 'have',\n",
              " 'p',\n",
              " 'release',\n",
              " 'gluten',\n",
              " 'we',\n",
              " 'all',\n",
              " 'than',\n",
              " 'free',\n",
              " 'effect',\n",
              " 'no',\n",
              " 'new',\n",
              " 'compared',\n",
              " 'more',\n",
              " 'using',\n",
              " 'groups',\n",
              " 'your',\n",
              " 'both',\n",
              " 'effects',\n",
              " 'our',\n",
              " 'h',\n",
              " 'two',\n",
              " 'time',\n",
              " 'its',\n",
              " 'about',\n",
              " 'significantly',\n",
              " 'between',\n",
              " 'inflammatory',\n",
              " 'significant',\n",
              " 'my',\n",
              " 'drugs',\n",
              " 'these',\n",
              " 'use',\n",
              " 'out',\n",
              " 'but',\n",
              " 'can',\n",
              " 'anti',\n",
              " 'day',\n",
              " 'used',\n",
              " 'which',\n",
              " 'voltaren',\n",
              " 'dose',\n",
              " 'potassium',\n",
              " 'has',\n",
              " 'results',\n",
              " 'also',\n",
              " 'placebo',\n",
              " 'do',\n",
              " 'glutenfree',\n",
              " 'what',\n",
              " 's',\n",
              " 'there',\n",
              " 'efficacy',\n",
              " 'one',\n",
              " 'may',\n",
              " 'celiac',\n",
              " 'nt',\n",
              " 'm',\n",
              " 'ds',\n",
              " 'treated',\n",
              " 'days',\n",
              " 'ml',\n",
              " 'showed',\n",
              " 'w',\n",
              " 'had',\n",
              " 'now',\n",
              " 'when',\n",
              " 'up',\n",
              " 'administration',\n",
              " 'c',\n",
              " 'been',\n",
              " 'rats',\n",
              " 'different',\n",
              " 'oral',\n",
              " 'topical',\n",
              " 'products',\n",
              " 'control',\n",
              " 'concentration',\n",
              " 'studies',\n",
              " 'during',\n",
              " 'food',\n",
              " 'induced',\n",
              " 'their',\n",
              " 'how',\n",
              " 'well',\n",
              " 'via',\n",
              " 'test',\n",
              " 'acid',\n",
              " 'if',\n",
              " 'other',\n",
              " 'into',\n",
              " 'found',\n",
              " 'nsaids',\n",
              " 'did',\n",
              " 'respectively',\n",
              " 'non',\n",
              " 'plasma',\n",
              " 'right',\n",
              " 'who',\n",
              " 'rate',\n",
              " 'high',\n",
              " 'first',\n",
              " 'method',\n",
              " 'tablets',\n",
              " 'mean',\n",
              " 'formulation',\n",
              " 'hours',\n",
              " 'could',\n",
              " 'clinical',\n",
              " 'post',\n",
              " 'formulations',\n",
              " 'effective',\n",
              " 'diet',\n",
              " 'ph',\n",
              " 'g',\n",
              " 'received',\n",
              " 'those',\n",
              " 'review',\n",
              " 'n',\n",
              " 'three',\n",
              " 'd',\n",
              " 'observed',\n",
              " 'gel',\n",
              " 'blood',\n",
              " 'solution',\n",
              " 'over',\n",
              " 'kg',\n",
              " 'tip',\n",
              " 'levels',\n",
              " 'increased',\n",
              " 'vitro',\n",
              " 'so',\n",
              " 'controlled',\n",
              " 'analysis',\n",
              " 'each',\n",
              " 'adverse',\n",
              " 'dblclick',\n",
              " 'period',\n",
              " 'activity',\n",
              " 'atorvastatin',\n",
              " 'only',\n",
              " 'pic',\n",
              " 'analgesic',\n",
              " 'concentrations',\n",
              " 'week',\n",
              " 'data',\n",
              " 'less',\n",
              " 'total',\n",
              " 'most',\n",
              " 'daily',\n",
              " 'single',\n",
              " 'following',\n",
              " 'acute',\n",
              " 'why',\n",
              " 'skin',\n",
              " 'here',\n",
              " 'however',\n",
              " 'some',\n",
              " 'randomized',\n",
              " 'model',\n",
              " 'patient',\n",
              " 'difference',\n",
              " 'they',\n",
              " 'before',\n",
              " 'low',\n",
              " 'weeks',\n",
              " 'good',\n",
              " 'years',\n",
              " 'surgery',\n",
              " 'similar',\n",
              " 'lower',\n",
              " 'symptoms',\n",
              " 't',\n",
              " 'evaluated',\n",
              " 'obtained',\n",
              " 'l',\n",
              " 'me',\n",
              " 'therapy',\n",
              " 'vs',\n",
              " 'will',\n",
              " 'dissolution',\n",
              " 'check',\n",
              " 'know',\n",
              " 'nsaid',\n",
              " 'tablet',\n",
              " 'double',\n",
              " 'under',\n",
              " 'cells',\n",
              " 'love',\n",
              " 'increase',\n",
              " 'renal',\n",
              " 'while',\n",
              " 'based',\n",
              " 'water',\n",
              " 'order',\n",
              " 'healthy',\n",
              " 'postoperative',\n",
              " 'should',\n",
              " 'any',\n",
              " 'combination',\n",
              " 'relief',\n",
              " 'get',\n",
              " 'higher',\n",
              " 'like',\n",
              " 'just',\n",
              " 'life',\n",
              " 'studied',\n",
              " 'present',\n",
              " 'min',\n",
              " 'conditions',\n",
              " 'prepared',\n",
              " 'help',\n",
              " 'b',\n",
              " 'associated',\n",
              " 'administered',\n",
              " 'reported',\n",
              " 'doses',\n",
              " 'given',\n",
              " 'trial',\n",
              " 'great',\n",
              " 'events',\n",
              " 'cell',\n",
              " 'response',\n",
              " 'differences',\n",
              " 'such',\n",
              " 'reduced',\n",
              " 'values',\n",
              " 'serum',\n",
              " 'application',\n",
              " 'performed',\n",
              " 'nonsteroidal',\n",
              " 'changes',\n",
              " 'developed',\n",
              " 'inflammation',\n",
              " 'investigated',\n",
              " 'blind',\n",
              " 'system',\n",
              " 'x',\n",
              " 'us',\n",
              " 'within',\n",
              " 'absorption',\n",
              " 'better',\n",
              " 'due',\n",
              " 'gfb',\n",
              " 'does',\n",
              " 'thanks',\n",
              " 'decreased',\n",
              " 'need',\n",
              " 'containing',\n",
              " 'assessed',\n",
              " 'type',\n",
              " 'cholesterol',\n",
              " 'parameters',\n",
              " 'posted',\n",
              " 're',\n",
              " 'safety',\n",
              " 'four',\n",
              " 'side',\n",
              " 'risk',\n",
              " 'either',\n",
              " 'recipe',\n",
              " 'v',\n",
              " 'subjects',\n",
              " 'without',\n",
              " 'phase',\n",
              " 'properties',\n",
              " 'show',\n",
              " 'indomethacin',\n",
              " 'people',\n",
              " 'ca',\n",
              " 'samples',\n",
              " 'auc',\n",
              " 'ratio',\n",
              " 'ng',\n",
              " 'measured',\n",
              " 'steroidal',\n",
              " 'delivery',\n",
              " 'number',\n",
              " 'reduction',\n",
              " 'times',\n",
              " 'through',\n",
              " 'statistically',\n",
              " 'e',\n",
              " 'included',\n",
              " 'oa',\n",
              " 'being',\n",
              " 'function',\n",
              " 'liquid',\n",
              " 'applied',\n",
              " 'evaluate',\n",
              " 'vivo',\n",
              " 'health',\n",
              " 'many',\n",
              " 'compare',\n",
              " 'potential',\n",
              " 'make',\n",
              " 'heres',\n",
              " 'minutes',\n",
              " 'gastrointestinal',\n",
              " 'best',\n",
              " 'active',\n",
              " 'mm',\n",
              " 'range',\n",
              " 'level',\n",
              " 'lipitor',\n",
              " '30',\n",
              " 'related',\n",
              " 'therapeutic',\n",
              " 'size',\n",
              " 'greater',\n",
              " 'year',\n",
              " '\\r \\n ',\n",
              " 'bioavailability',\n",
              " 'k',\n",
              " 'tolerability',\n",
              " 'injection',\n",
              " 'eat',\n",
              " 'addition',\n",
              " 'development',\n",
              " 'very',\n",
              " 'determined',\n",
              " 'sensitivity',\n",
              " 'intolerance',\n",
              " 'primary',\n",
              " 'medication',\n",
              " 'then',\n",
              " 'matrix',\n",
              " 'archives',\n",
              " 'living',\n",
              " 'coated',\n",
              " 'available',\n",
              " 'form',\n",
              " 'severe',\n",
              " 'tissue',\n",
              " 'jennieo',\n",
              " 'because',\n",
              " 'scores',\n",
              " 'change',\n",
              " 'baseline',\n",
              " 'revealed',\n",
              " 'read',\n",
              " 'process',\n",
              " 'tips',\n",
              " 'knee',\n",
              " 'cox',\n",
              " 'months',\n",
              " 'per',\n",
              " 'arthritis',\n",
              " 'scale',\n",
              " 'sustained',\n",
              " 'aim',\n",
              " 'osteoarthritis',\n",
              " 'normal',\n",
              " 'dependent',\n",
              " 'tested',\n",
              " 'visual',\n",
              " 'made',\n",
              " 'ii',\n",
              " 'news',\n",
              " 'area',\n",
              " 'mice',\n",
              " 'demonstrated',\n",
              " 'important',\n",
              " 'aqueous',\n",
              " 'polymer',\n",
              " 'swelling',\n",
              " 'na',\n",
              " 'going',\n",
              " 'long',\n",
              " 'weight',\n",
              " 'today',\n",
              " 'human',\n",
              " 'among',\n",
              " 'eye',\n",
              " 'gastric',\n",
              " 'volunteers',\n",
              " 'end',\n",
              " 'improvement',\n",
              " 'safe',\n",
              " 'chicken',\n",
              " 'agent',\n",
              " 'hour',\n",
              " 'alone',\n",
              " 'article',\n",
              " 'much',\n",
              " 'tolerated',\n",
              " 'presence',\n",
              " 'inhibitor',\n",
              " 'chronic',\n",
              " 'exposure',\n",
              " 'shown',\n",
              " 'trials',\n",
              " 'action',\n",
              " 'case',\n",
              " 'go',\n",
              " 'local',\n",
              " 'cd',\n",
              " 'mechanism',\n",
              " 'score',\n",
              " 'treatments',\n",
              " 'migraine',\n",
              " 'various',\n",
              " 'follow',\n",
              " 'dosage',\n",
              " '1',\n",
              " 'animals',\n",
              " 'relative',\n",
              " 'would',\n",
              " 'suggest',\n",
              " 'age',\n",
              " 'caused',\n",
              " 'ibuprofen',\n",
              " 'same',\n",
              " 'further',\n",
              " 'take',\n",
              " 'vehicle',\n",
              " 'inhibition',\n",
              " 'way',\n",
              " 'think',\n",
              " 'protein',\n",
              " 'cm',\n",
              " 'whereas',\n",
              " 'big',\n",
              " 'diagnosis',\n",
              " 'moderate',\n",
              " 'pressure',\n",
              " 'randomly',\n",
              " 'standard',\n",
              " 'share',\n",
              " 'profiles',\n",
              " 'agents',\n",
              " 'peak',\n",
              " '\\r \\n \\r \\n ',\n",
              " 'followed',\n",
              " 'content',\n",
              " 'rat',\n",
              " 'formation',\n",
              " 'pre',\n",
              " '2',\n",
              " 'decrease',\n",
              " 'indicated',\n",
              " 'including',\n",
              " 'o',\n",
              " 'reaction',\n",
              " 'product',\n",
              " 'cases',\n",
              " 'f',\n",
              " 'old',\n",
              " 'vas',\n",
              " 'diagnosed',\n",
              " 'pharmaceutical',\n",
              " 'intensity',\n",
              " 'conducted',\n",
              " 'enteric',\n",
              " 'part',\n",
              " 'versus',\n",
              " 'experimental',\n",
              " 'six',\n",
              " 'divided',\n",
              " 'degrees',\n",
              " 'secondary',\n",
              " 'permeation',\n",
              " 'research',\n",
              " 'male',\n",
              " 'growth',\n",
              " 'care',\n",
              " 'least',\n",
              " 'please',\n",
              " 'pizza',\n",
              " 'although',\n",
              " 'common',\n",
              " 'month',\n",
              " 'u',\n",
              " 'pharmacokinetic',\n",
              " 'awareness',\n",
              " 'eating',\n",
              " 'find',\n",
              " 'rapid',\n",
              " 'rofecoxib',\n",
              " 'determine',\n",
              " 'resulted',\n",
              " 'profile',\n",
              " 'ever',\n",
              " 'provide',\n",
              " 'r',\n",
              " 'damage',\n",
              " 'produced',\n",
              " 'urine',\n",
              " 'cmax',\n",
              " 'five',\n",
              " 'amount',\n",
              " 'onset',\n",
              " 'physical',\n",
              " 'systemic',\n",
              " 'happy',\n",
              " 'against',\n",
              " 'th',\n",
              " 'third',\n",
              " 'multiple',\n",
              " 'cross',\n",
              " 'overall',\n",
              " 'pellets',\n",
              " 'muscle',\n",
              " 'temperature',\n",
              " 'efficiency',\n",
              " 'lesions',\n",
              " 'corneal',\n",
              " 'combined',\n",
              " 'surface',\n",
              " 'work',\n",
              " 'once',\n",
              " 'blog',\n",
              " 'quality',\n",
              " '4',\n",
              " 'body',\n",
              " 'sensitive',\n",
              " 'cookbook',\n",
              " 'preparation',\n",
              " 'where',\n",
              " 'plus',\n",
              " 'synthesis',\n",
              " 'second',\n",
              " 'want',\n",
              " 'microspheres',\n",
              " 'models',\n",
              " 'evidence',\n",
              " 'achieved',\n",
              " 'according',\n",
              " 'term',\n",
              " 'ci',\n",
              " 'global',\n",
              " 'intestinal',\n",
              " 'co',\n",
              " 'determination',\n",
              " 'analgesia',\n",
              " 'evaluation',\n",
              " 'investigate',\n",
              " 'gf',\n",
              " 'solid',\n",
              " 'linked',\n",
              " 'might',\n",
              " 'maximum',\n",
              " 'technique',\n",
              " 'complete',\n",
              " 'detection',\n",
              " 'try',\n",
              " 'beads',\n",
              " 'novel',\n",
              " 'receiving',\n",
              " 'cause',\n",
              " 'duration',\n",
              " 'value',\n",
              " 'production',\n",
              " 'joint',\n",
              " 'soup',\n",
              " 'medium',\n",
              " 'commercial',\n",
              " 'eyes',\n",
              " 'still',\n",
              " 'improved',\n",
              " 'dr',\n",
              " 'participants',\n",
              " 'design',\n",
              " 'looking',\n",
              " 'medical',\n",
              " 'diffusion',\n",
              " 'easy',\n",
              " 'needed',\n",
              " 'saline',\n",
              " 'edema',\n",
              " 'superior',\n",
              " 'aspirin',\n",
              " 'membrane',\n",
              " 'extent',\n",
              " '5',\n",
              " 'specific',\n",
              " 'women',\n",
              " 'influence',\n",
              " 'assessment',\n",
              " 'them',\n",
              " 'even',\n",
              " 'possible',\n",
              " 'de',\n",
              " 'every',\n",
              " 'carried',\n",
              " 'initial',\n",
              " 'thus',\n",
              " 'simple',\n",
              " 'rates',\n",
              " 'reference',\n",
              " 'super',\n",
              " 'examined',\n",
              " 'autographed',\n",
              " 'rheumatoid',\n",
              " 'medications',\n",
              " 'naproxen',\n",
              " 'volume',\n",
              " 'inhibited',\n",
              " 'ocular',\n",
              " 'complex',\n",
              " 'phosphate',\n",
              " 'methods',\n",
              " 'current',\n",
              " 'comparable',\n",
              " 'responses',\n",
              " 'misoprostol',\n",
              " 'drops',\n",
              " 'factor',\n",
              " 'increasing',\n",
              " 'tissues',\n",
              " 'see',\n",
              " 'interaction',\n",
              " 'provided',\n",
              " 'expression',\n",
              " 'degree',\n",
              " 'alternative',\n",
              " 'considered',\n",
              " 'small',\n",
              " 'indicate',\n",
              " 'released',\n",
              " 'prostaglandin',\n",
              " 'additional',\n",
              " 'comparison',\n",
              " 'liver',\n",
              " 'hplc',\n",
              " 'inhibitors',\n",
              " 'brain',\n",
              " 'patch',\n",
              " 'max',\n",
              " 'since',\n",
              " 'affect',\n",
              " 'nm',\n",
              " 'back',\n",
              " 'whether',\n",
              " 'antiinflammatory',\n",
              " 'friends',\n",
              " 'foods',\n",
              " 'dic',\n",
              " 'bone',\n",
              " 'open',\n",
              " 'flow',\n",
              " 'got',\n",
              " 'buffer',\n",
              " 'calcium',\n",
              " 'story',\n",
              " 'findings',\n",
              " 'assess',\n",
              " 'thank',\n",
              " 'state',\n",
              " 'others',\n",
              " 'paracetamol',\n",
              " 'capsules',\n",
              " 'recorded',\n",
              " 'tests',\n",
              " 'site',\n",
              " 'cardiovascular',\n",
              " 'early',\n",
              " 'analyzed',\n",
              " 'last',\n",
              " 'characterized',\n",
              " 'index',\n",
              " 'affected',\n",
              " 'taking',\n",
              " 'microg',\n",
              " 'microm',\n",
              " 'treat',\n",
              " 'few',\n",
              " 'enhanced',\n",
              " 'percentage',\n",
              " '2014',\n",
              " 'cream',\n",
              " 'bread',\n",
              " 'outcome',\n",
              " 'ldl',\n",
              " 'vascular',\n",
              " 'alpha',\n",
              " 'performance',\n",
              " 'preparations',\n",
              " 'options',\n",
              " 'delicious',\n",
              " 'loaded',\n",
              " 'having',\n",
              " 've',\n",
              " 'too',\n",
              " 'lipid',\n",
              " 'twice',\n",
              " 'recipes',\n",
              " 'intramuscular',\n",
              " 'characteristics',\n",
              " 'oil',\n",
              " 'mild',\n",
              " 'celecoxib',\n",
              " 'terms',\n",
              " 'beta',\n",
              " 'extraction',\n",
              " 'fluid',\n",
              " 'aged',\n",
              " 'giveaway',\n",
              " 'operative',\n",
              " 'incidence',\n",
              " 'clinically',\n",
              " 'dpsgc',\n",
              " 'syndrome',\n",
              " 'pge',\n",
              " 'solutions',\n",
              " 'learn',\n",
              " 'ketorolac',\n",
              " 'top',\n",
              " 'wheat',\n",
              " 'start',\n",
              " 'clearance',\n",
              " 'kinetics',\n",
              " 'support',\n",
              " 'exhibited',\n",
              " 'children',\n",
              " 'objective',\n",
              " 'experience',\n",
              " 'point',\n",
              " 'hp',\n",
              " 'modified',\n",
              " 'factors',\n",
              " 'info',\n",
              " 'tmax',\n",
              " 'reduce',\n",
              " 'forms',\n",
              " 'therefore',\n",
              " 'cataract',\n",
              " 'role',\n",
              " 'known',\n",
              " 'solubility',\n",
              " 'several',\n",
              " 'transdermal',\n",
              " 'cyclooxygenase',\n",
              " 'prolonged',\n",
              " 'next',\n",
              " 'gi',\n",
              " 'market',\n",
              " 'major',\n",
              " 'density',\n",
              " 'rabbits',\n",
              " 'arthrotec',\n",
              " 'required',\n",
              " 'crossover',\n",
              " 'develop',\n",
              " 'peg',\n",
              " 'cambia',\n",
              " 'salt',\n",
              " 'faster',\n",
              " 'suggested',\n",
              " 'information',\n",
              " 'eudragit',\n",
              " 'receive',\n",
              " 'book',\n",
              " 'systems',\n",
              " 'bowl',\n",
              " 'really',\n",
              " 'activities',\n",
              " 'able',\n",
              " 'structure',\n",
              " '10',\n",
              " 'always',\n",
              " 'potent',\n",
              " 'acetaminophen',\n",
              " 'getting',\n",
              " 'drop',\n",
              " 'special',\n",
              " 'chitosan',\n",
              " 'analgesics',\n",
              " 'positive',\n",
              " 'capsule',\n",
              " 'collected',\n",
              " 'penetration',\n",
              " 'sd',\n",
              " 'list',\n",
              " 'page',\n",
              " 'hospital',\n",
              " 'experiments',\n",
              " 'especially',\n",
              " 'ability',\n",
              " 'scanning',\n",
              " 'approximately',\n",
              " 'criteria',\n",
              " 'seen',\n",
              " 'excretion',\n",
              " 'ophthalmic',\n",
              " 'headache',\n",
              " 'kids',\n",
              " 'loading',\n",
              " 'aes',\n",
              " 'twenty',\n",
              " 'issues',\n",
              " 'il',\n",
              " 'df',\n",
              " 'child',\n",
              " 'serious',\n",
              " 'proposed',\n",
              " 'statin',\n",
              " 'chocolate',\n",
              " 'limit',\n",
              " 'hpmc',\n",
              " 'death',\n",
              " 'dfs',\n",
              " 'another',\n",
              " 'event',\n",
              " 'selected',\n",
              " 'dcf',\n",
              " 'injected',\n",
              " 'interesting',\n",
              " 'world',\n",
              " 'compounds',\n",
              " 'management',\n",
              " 'particle',\n",
              " 'occurred',\n",
              " 'orally',\n",
              " 'urinary',\n",
              " 'stability',\n",
              " 'feel',\n",
              " 'average',\n",
              " 'reasons',\n",
              " 'quinoa',\n",
              " 'across',\n",
              " 'hand',\n",
              " 'eight',\n",
              " 'intravenous',\n",
              " 'molecular',\n",
              " 'confirmed',\n",
              " 'procedure',\n",
              " 'target',\n",
              " 'detected',\n",
              " 'population',\n",
              " 'variables',\n",
              " 'binding',\n",
              " 'activation',\n",
              " 'testing',\n",
              " 'fast',\n",
              " 'laser',\n",
              " 'female',\n",
              " 'independent',\n",
              " 'useful',\n",
              " 'established',\n",
              " 'statins',\n",
              " 'randomised',\n",
              " 'kcnq',\n",
              " 'rescue',\n",
              " 'reducing',\n",
              " 'microscopy',\n",
              " 'assay',\n",
              " 'respect',\n",
              " 'sr',\n",
              " 'america',\n",
              " 'zero',\n",
              " 'signs',\n",
              " 'convention',\n",
              " 'ak',\n",
              " 'effectiveness',\n",
              " 'direct',\n",
              " 'later',\n",
              " 'designed',\n",
              " 'interview',\n",
              " 'short',\n",
              " 'coeliac',\n",
              " 'morning',\n",
              " 'metabolism',\n",
              " 'outcomes',\n",
              " 'selective',\n",
              " 'optimized',\n",
              " 'must',\n",
              " 'assigned',\n",
              " 'prior',\n",
              " 'widely',\n",
              " 'cs',\n",
              " 'his',\n",
              " 'highly',\n",
              " 'community',\n",
              " 'join',\n",
              " 'electron',\n",
              " 'relaxation',\n",
              " 'interactions',\n",
              " 'behavior',\n",
              " 'involved',\n",
              " 'cookies',\n",
              " 'likely',\n",
              " 'chloride',\n",
              " 'down',\n",
              " 'series',\n",
              " 'improve',\n",
              " 'flare',\n",
              " 'approach',\n",
              " 'allergy',\n",
              " 'dosing',\n",
              " 'molar',\n",
              " 'adult',\n",
              " 'creatinine',\n",
              " 'measures',\n",
              " 'live',\n",
              " 'sample',\n",
              " 'examination',\n",
              " 'yes',\n",
              " 'hey',\n",
              " 'whole',\n",
              " 'fed',\n",
              " 'breakfast',\n",
              " 'chemical',\n",
              " 'flurbiprofen',\n",
              " 'mt',\n",
              " 'meal',\n",
              " 'coming',\n",
              " 'sunday',\n",
              " 'hip',\n",
              " 'own',\n",
              " 'ask',\n",
              " 'dsg',\n",
              " 'equivalent',\n",
              " 'injury',\n",
              " 'individual',\n",
              " 'ty',\n",
              " 'media',\n",
              " 'recent',\n",
              " 'coating',\n",
              " 'stem',\n",
              " 'off',\n",
              " 'purpose',\n",
              " 'frequently',\n",
              " 'median',\n",
              " 'seven',\n",
              " 'severity',\n",
              " 'avoid',\n",
              " 'measurements',\n",
              " 'plant',\n",
              " 'distribution',\n",
              " 'analogue',\n",
              " 'toxicity',\n",
              " 'link',\n",
              " 'parallel',\n",
              " 'kidney',\n",
              " 'spectroscopy',\n",
              " 'analog',\n",
              " 'someone',\n",
              " 'mediated',\n",
              " 'diabetes',\n",
              " 'laboratory',\n",
              " 'curve',\n",
              " 'pharmacokinetics',\n",
              " 'hr',\n",
              " 'interval',\n",
              " 'report',\n",
              " 'percent',\n",
              " 'recently',\n",
              " 'reactions',\n",
              " 'ray',\n",
              " 'experienced',\n",
              " 'he',\n",
              " 'never',\n",
              " ...]"
            ]
          },
          "metadata": {
            "tags": []
          },
          "execution_count": 19
        }
      ]
    },
    {
      "cell_type": "code",
      "metadata": {
        "id": "yPWr03mls3VT",
        "colab_type": "code",
        "outputId": "a4107b6a-2101-4795-cf9e-25854598f1d4",
        "colab": {
          "base_uri": "https://localhost:8080/",
          "height": 17
        }
      },
      "source": [
        "model_path = path/'models'\n",
        "model_path.mkdir(exist_ok=True)\n",
        "url = 'http://files.fast.ai/models/wt103_v1/'\n",
        "download_url(f'{url}lstm_wt103.pth', model_path/'lstm_wt103.pth')\n",
        "download_url(f'{url}itos_wt103.pkl', model_path/'itos_wt103.pkl')"
      ],
      "execution_count": 20,
      "outputs": [
        {
          "output_type": "display_data",
          "data": {
            "text/html": [
              ""
            ],
            "text/plain": [
              "<IPython.core.display.HTML object>"
            ]
          },
          "metadata": {
            "tags": []
          }
        },
        {
          "output_type": "display_data",
          "data": {
            "text/html": [
              ""
            ],
            "text/plain": [
              "<IPython.core.display.HTML object>"
            ]
          },
          "metadata": {
            "tags": []
          }
        }
      ]
    },
    {
      "cell_type": "code",
      "metadata": {
        "id": "JRzvWg8RtGGr",
        "colab_type": "code",
        "outputId": "51001dd6-1c52-4ba5-cc6f-0dcf9c48cf8e",
        "colab": {
          "base_uri": "https://localhost:8080/",
          "height": 34
        }
      },
      "source": [
        "learn = language_model_learner(data_lm, AWD_LSTM, drop_mult=0.5)"
      ],
      "execution_count": 21,
      "outputs": [
        {
          "output_type": "stream",
          "text": [
            "Downloading https://s3.amazonaws.com/fast-ai-modelzoo/wt103-fwd\n"
          ],
          "name": "stdout"
        },
        {
          "output_type": "display_data",
          "data": {
            "text/html": [
              ""
            ],
            "text/plain": [
              "<IPython.core.display.HTML object>"
            ]
          },
          "metadata": {
            "tags": []
          }
        }
      ]
    },
    {
      "cell_type": "code",
      "metadata": {
        "id": "xKK7GeBev7Xn",
        "colab_type": "code",
        "outputId": "fa2676ee-75b5-46bc-e52b-79eb2b206bf8",
        "colab": {
          "base_uri": "https://localhost:8080/",
          "height": 80
        }
      },
      "source": [
        "learn.fit_one_cycle(1, 1e-2)"
      ],
      "execution_count": 22,
      "outputs": [
        {
          "output_type": "display_data",
          "data": {
            "text/html": [
              "<table border=\"1\" class=\"dataframe\">\n",
              "  <thead>\n",
              "    <tr style=\"text-align: left;\">\n",
              "      <th>epoch</th>\n",
              "      <th>train_loss</th>\n",
              "      <th>valid_loss</th>\n",
              "      <th>accuracy</th>\n",
              "      <th>time</th>\n",
              "    </tr>\n",
              "  </thead>\n",
              "  <tbody>\n",
              "    <tr>\n",
              "      <td>0</td>\n",
              "      <td>5.197753</td>\n",
              "      <td>4.623670</td>\n",
              "      <td>0.251851</td>\n",
              "      <td>23:00</td>\n",
              "    </tr>\n",
              "  </tbody>\n",
              "</table>"
            ],
            "text/plain": [
              "<IPython.core.display.HTML object>"
            ]
          },
          "metadata": {
            "tags": []
          }
        }
      ]
    },
    {
      "cell_type": "code",
      "metadata": {
        "id": "iB7rHGQCwd12",
        "colab_type": "code",
        "outputId": "173c2dd0-c52d-43f0-f944-34c039cd2423",
        "colab": {
          "base_uri": "https://localhost:8080/",
          "height": 80
        }
      },
      "source": [
        "learn.fit_one_cycle(1, 1e-2)"
      ],
      "execution_count": 23,
      "outputs": [
        {
          "output_type": "display_data",
          "data": {
            "text/html": [
              "<table border=\"1\" class=\"dataframe\">\n",
              "  <thead>\n",
              "    <tr style=\"text-align: left;\">\n",
              "      <th>epoch</th>\n",
              "      <th>train_loss</th>\n",
              "      <th>valid_loss</th>\n",
              "      <th>accuracy</th>\n",
              "      <th>time</th>\n",
              "    </tr>\n",
              "  </thead>\n",
              "  <tbody>\n",
              "    <tr>\n",
              "      <td>0</td>\n",
              "      <td>4.436646</td>\n",
              "      <td>4.280147</td>\n",
              "      <td>0.285658</td>\n",
              "      <td>23:01</td>\n",
              "    </tr>\n",
              "  </tbody>\n",
              "</table>"
            ],
            "text/plain": [
              "<IPython.core.display.HTML object>"
            ]
          },
          "metadata": {
            "tags": []
          }
        }
      ]
    },
    {
      "cell_type": "code",
      "metadata": {
        "id": "_BnSuAeCwkBe",
        "colab_type": "code",
        "outputId": "dc12ed06-415e-4bdc-fee3-16e64a9cfc89",
        "colab": {
          "base_uri": "https://localhost:8080/",
          "height": 80
        }
      },
      "source": [
        "learn.fit_one_cycle(1, 1e-3)"
      ],
      "execution_count": 24,
      "outputs": [
        {
          "output_type": "display_data",
          "data": {
            "text/html": [
              "<table border=\"1\" class=\"dataframe\">\n",
              "  <thead>\n",
              "    <tr style=\"text-align: left;\">\n",
              "      <th>epoch</th>\n",
              "      <th>train_loss</th>\n",
              "      <th>valid_loss</th>\n",
              "      <th>accuracy</th>\n",
              "      <th>time</th>\n",
              "    </tr>\n",
              "  </thead>\n",
              "  <tbody>\n",
              "    <tr>\n",
              "      <td>0</td>\n",
              "      <td>4.109447</td>\n",
              "      <td>4.239304</td>\n",
              "      <td>0.290086</td>\n",
              "      <td>23:06</td>\n",
              "    </tr>\n",
              "  </tbody>\n",
              "</table>"
            ],
            "text/plain": [
              "<IPython.core.display.HTML object>"
            ]
          },
          "metadata": {
            "tags": []
          }
        }
      ]
    },
    {
      "cell_type": "code",
      "metadata": {
        "id": "MuTm-RFjwrEX",
        "colab_type": "code",
        "outputId": "4eae5034-cb94-4c78-ca58-3e75e5d29545",
        "colab": {
          "base_uri": "https://localhost:8080/",
          "height": 80
        }
      },
      "source": [
        "learn.fit_one_cycle(1, 1e-3)"
      ],
      "execution_count": 25,
      "outputs": [
        {
          "output_type": "display_data",
          "data": {
            "text/html": [
              "<table border=\"1\" class=\"dataframe\">\n",
              "  <thead>\n",
              "    <tr style=\"text-align: left;\">\n",
              "      <th>epoch</th>\n",
              "      <th>train_loss</th>\n",
              "      <th>valid_loss</th>\n",
              "      <th>accuracy</th>\n",
              "      <th>time</th>\n",
              "    </tr>\n",
              "  </thead>\n",
              "  <tbody>\n",
              "    <tr>\n",
              "      <td>0</td>\n",
              "      <td>4.057153</td>\n",
              "      <td>4.207888</td>\n",
              "      <td>0.293545</td>\n",
              "      <td>23:09</td>\n",
              "    </tr>\n",
              "  </tbody>\n",
              "</table>"
            ],
            "text/plain": [
              "<IPython.core.display.HTML object>"
            ]
          },
          "metadata": {
            "tags": []
          }
        }
      ]
    },
    {
      "cell_type": "code",
      "metadata": {
        "id": "1Er2ExO8wr7Y",
        "colab_type": "code",
        "colab": {}
      },
      "source": [
        "learn.save_encoder('tuning_pubmed_bigtweet_overlap_0_first')"
      ],
      "execution_count": 0,
      "outputs": []
    },
    {
      "cell_type": "code",
      "metadata": {
        "id": "z52cZs2qwvad",
        "colab_type": "code",
        "colab": {
          "base_uri": "https://localhost:8080/",
          "height": 80
        },
        "outputId": "cd34ecbf-b0ce-4e15-8a72-fca233d8594b"
      },
      "source": [
        "learn = text_classifier_learner(data_clas,AWD_LSTM, drop_mult=0.5)\n",
        "learn.load_encoder('tuning_pubmed_bigtweet_overlap_0_first')\n",
        "learn.fit_one_cycle(1, 1e-2)"
      ],
      "execution_count": 27,
      "outputs": [
        {
          "output_type": "display_data",
          "data": {
            "text/html": [
              "<table border=\"1\" class=\"dataframe\">\n",
              "  <thead>\n",
              "    <tr style=\"text-align: left;\">\n",
              "      <th>epoch</th>\n",
              "      <th>train_loss</th>\n",
              "      <th>valid_loss</th>\n",
              "      <th>accuracy</th>\n",
              "      <th>time</th>\n",
              "    </tr>\n",
              "  </thead>\n",
              "  <tbody>\n",
              "    <tr>\n",
              "      <td>0</td>\n",
              "      <td>7.096726</td>\n",
              "      <td>6.286728</td>\n",
              "      <td>0.104348</td>\n",
              "      <td>00:56</td>\n",
              "    </tr>\n",
              "  </tbody>\n",
              "</table>"
            ],
            "text/plain": [
              "<IPython.core.display.HTML object>"
            ]
          },
          "metadata": {
            "tags": []
          }
        }
      ]
    },
    {
      "cell_type": "code",
      "metadata": {
        "id": "ImwQP1PJwzxd",
        "colab_type": "code",
        "colab": {
          "base_uri": "https://localhost:8080/",
          "height": 80
        },
        "outputId": "3330bad8-f2a7-407e-d8cb-1862447860eb"
      },
      "source": [
        "learn.freeze_to(-2)\n",
        "learn.fit_one_cycle(1, slice(5e-3/2., 5e-3))"
      ],
      "execution_count": 28,
      "outputs": [
        {
          "output_type": "display_data",
          "data": {
            "text/html": [
              "<table border=\"1\" class=\"dataframe\">\n",
              "  <thead>\n",
              "    <tr style=\"text-align: left;\">\n",
              "      <th>epoch</th>\n",
              "      <th>train_loss</th>\n",
              "      <th>valid_loss</th>\n",
              "      <th>accuracy</th>\n",
              "      <th>time</th>\n",
              "    </tr>\n",
              "  </thead>\n",
              "  <tbody>\n",
              "    <tr>\n",
              "      <td>0</td>\n",
              "      <td>6.232969</td>\n",
              "      <td>4.998733</td>\n",
              "      <td>0.139130</td>\n",
              "      <td>00:57</td>\n",
              "    </tr>\n",
              "  </tbody>\n",
              "</table>"
            ],
            "text/plain": [
              "<IPython.core.display.HTML object>"
            ]
          },
          "metadata": {
            "tags": []
          }
        }
      ]
    },
    {
      "cell_type": "code",
      "metadata": {
        "id": "Owff_BJXw53u",
        "colab_type": "code",
        "colab": {
          "base_uri": "https://localhost:8080/",
          "height": 80
        },
        "outputId": "a948db31-d551-40e3-a4f1-c5f8d63bdc21"
      },
      "source": [
        "learn.unfreeze()\n",
        "learn.fit_one_cycle(1, slice(2e-3/100, 2e-3))"
      ],
      "execution_count": 29,
      "outputs": [
        {
          "output_type": "display_data",
          "data": {
            "text/html": [
              "<table border=\"1\" class=\"dataframe\">\n",
              "  <thead>\n",
              "    <tr style=\"text-align: left;\">\n",
              "      <th>epoch</th>\n",
              "      <th>train_loss</th>\n",
              "      <th>valid_loss</th>\n",
              "      <th>accuracy</th>\n",
              "      <th>time</th>\n",
              "    </tr>\n",
              "  </thead>\n",
              "  <tbody>\n",
              "    <tr>\n",
              "      <td>0</td>\n",
              "      <td>5.746493</td>\n",
              "      <td>4.706879</td>\n",
              "      <td>0.200000</td>\n",
              "      <td>01:12</td>\n",
              "    </tr>\n",
              "  </tbody>\n",
              "</table>"
            ],
            "text/plain": [
              "<IPython.core.display.HTML object>"
            ]
          },
          "metadata": {
            "tags": []
          }
        }
      ]
    },
    {
      "cell_type": "code",
      "metadata": {
        "id": "lqAyu56V8Waq",
        "colab_type": "code",
        "colab": {
          "base_uri": "https://localhost:8080/",
          "height": 111
        },
        "outputId": "ff90d28f-0cde-49aa-b608-a2b0f767316f"
      },
      "source": [
        "learn.fit_one_cycle(2, slice(2e-3/100, 2e-3))"
      ],
      "execution_count": 30,
      "outputs": [
        {
          "output_type": "display_data",
          "data": {
            "text/html": [
              "<table border=\"1\" class=\"dataframe\">\n",
              "  <thead>\n",
              "    <tr style=\"text-align: left;\">\n",
              "      <th>epoch</th>\n",
              "      <th>train_loss</th>\n",
              "      <th>valid_loss</th>\n",
              "      <th>accuracy</th>\n",
              "      <th>time</th>\n",
              "    </tr>\n",
              "  </thead>\n",
              "  <tbody>\n",
              "    <tr>\n",
              "      <td>0</td>\n",
              "      <td>5.544164</td>\n",
              "      <td>4.552039</td>\n",
              "      <td>0.226087</td>\n",
              "      <td>01:13</td>\n",
              "    </tr>\n",
              "    <tr>\n",
              "      <td>1</td>\n",
              "      <td>5.343126</td>\n",
              "      <td>4.478106</td>\n",
              "      <td>0.226087</td>\n",
              "      <td>01:08</td>\n",
              "    </tr>\n",
              "  </tbody>\n",
              "</table>"
            ],
            "text/plain": [
              "<IPython.core.display.HTML object>"
            ]
          },
          "metadata": {
            "tags": []
          }
        }
      ]
    },
    {
      "cell_type": "code",
      "metadata": {
        "id": "a7I1xMRp8bUd",
        "colab_type": "code",
        "colab": {
          "base_uri": "https://localhost:8080/",
          "height": 111
        },
        "outputId": "4031b09e-80a1-4951-9730-ab9f873742eb"
      },
      "source": [
        "learn.fit_one_cycle(2, slice(2e-3/100, 2e-3))"
      ],
      "execution_count": 31,
      "outputs": [
        {
          "output_type": "display_data",
          "data": {
            "text/html": [
              "<table border=\"1\" class=\"dataframe\">\n",
              "  <thead>\n",
              "    <tr style=\"text-align: left;\">\n",
              "      <th>epoch</th>\n",
              "      <th>train_loss</th>\n",
              "      <th>valid_loss</th>\n",
              "      <th>accuracy</th>\n",
              "      <th>time</th>\n",
              "    </tr>\n",
              "  </thead>\n",
              "  <tbody>\n",
              "    <tr>\n",
              "      <td>0</td>\n",
              "      <td>5.128808</td>\n",
              "      <td>4.328499</td>\n",
              "      <td>0.217391</td>\n",
              "      <td>01:06</td>\n",
              "    </tr>\n",
              "    <tr>\n",
              "      <td>1</td>\n",
              "      <td>4.951905</td>\n",
              "      <td>4.310407</td>\n",
              "      <td>0.200000</td>\n",
              "      <td>01:06</td>\n",
              "    </tr>\n",
              "  </tbody>\n",
              "</table>"
            ],
            "text/plain": [
              "<IPython.core.display.HTML object>"
            ]
          },
          "metadata": {
            "tags": []
          }
        }
      ]
    },
    {
      "cell_type": "code",
      "metadata": {
        "id": "UAnti-XmGVfO",
        "colab_type": "code",
        "colab": {
          "base_uri": "https://localhost:8080/",
          "height": 111
        },
        "outputId": "3e2f1d22-92c8-437f-d1a6-4fda8fea9314"
      },
      "source": [
        "learn.fit_one_cycle(2, slice(2e-3/100, 2e-3))"
      ],
      "execution_count": 32,
      "outputs": [
        {
          "output_type": "display_data",
          "data": {
            "text/html": [
              "<table border=\"1\" class=\"dataframe\">\n",
              "  <thead>\n",
              "    <tr style=\"text-align: left;\">\n",
              "      <th>epoch</th>\n",
              "      <th>train_loss</th>\n",
              "      <th>valid_loss</th>\n",
              "      <th>accuracy</th>\n",
              "      <th>time</th>\n",
              "    </tr>\n",
              "  </thead>\n",
              "  <tbody>\n",
              "    <tr>\n",
              "      <td>0</td>\n",
              "      <td>4.820769</td>\n",
              "      <td>4.229099</td>\n",
              "      <td>0.243478</td>\n",
              "      <td>01:08</td>\n",
              "    </tr>\n",
              "    <tr>\n",
              "      <td>1</td>\n",
              "      <td>4.677196</td>\n",
              "      <td>4.242352</td>\n",
              "      <td>0.252174</td>\n",
              "      <td>01:11</td>\n",
              "    </tr>\n",
              "  </tbody>\n",
              "</table>"
            ],
            "text/plain": [
              "<IPython.core.display.HTML object>"
            ]
          },
          "metadata": {
            "tags": []
          }
        }
      ]
    },
    {
      "cell_type": "code",
      "metadata": {
        "id": "bIft7W25GwSu",
        "colab_type": "code",
        "colab": {
          "base_uri": "https://localhost:8080/",
          "height": 111
        },
        "outputId": "8b1fe79a-194a-4aca-8571-9bb2e43fd158"
      },
      "source": [
        "learn.fit_one_cycle(2, slice(2e-3/100, 2e-3))"
      ],
      "execution_count": 33,
      "outputs": [
        {
          "output_type": "display_data",
          "data": {
            "text/html": [
              "<table border=\"1\" class=\"dataframe\">\n",
              "  <thead>\n",
              "    <tr style=\"text-align: left;\">\n",
              "      <th>epoch</th>\n",
              "      <th>train_loss</th>\n",
              "      <th>valid_loss</th>\n",
              "      <th>accuracy</th>\n",
              "      <th>time</th>\n",
              "    </tr>\n",
              "  </thead>\n",
              "  <tbody>\n",
              "    <tr>\n",
              "      <td>0</td>\n",
              "      <td>4.530648</td>\n",
              "      <td>4.155343</td>\n",
              "      <td>0.234783</td>\n",
              "      <td>01:08</td>\n",
              "    </tr>\n",
              "    <tr>\n",
              "      <td>1</td>\n",
              "      <td>4.383674</td>\n",
              "      <td>4.125904</td>\n",
              "      <td>0.243478</td>\n",
              "      <td>01:12</td>\n",
              "    </tr>\n",
              "  </tbody>\n",
              "</table>"
            ],
            "text/plain": [
              "<IPython.core.display.HTML object>"
            ]
          },
          "metadata": {
            "tags": []
          }
        }
      ]
    },
    {
      "cell_type": "code",
      "metadata": {
        "id": "EEHszVRvGyFt",
        "colab_type": "code",
        "colab": {
          "base_uri": "https://localhost:8080/",
          "height": 111
        },
        "outputId": "7d92a58c-77a0-4ae4-ee48-bdaf970f5add"
      },
      "source": [
        "learn.fit_one_cycle(2, slice(2e-3/100, 2e-3))"
      ],
      "execution_count": 34,
      "outputs": [
        {
          "output_type": "display_data",
          "data": {
            "text/html": [
              "<table border=\"1\" class=\"dataframe\">\n",
              "  <thead>\n",
              "    <tr style=\"text-align: left;\">\n",
              "      <th>epoch</th>\n",
              "      <th>train_loss</th>\n",
              "      <th>valid_loss</th>\n",
              "      <th>accuracy</th>\n",
              "      <th>time</th>\n",
              "    </tr>\n",
              "  </thead>\n",
              "  <tbody>\n",
              "    <tr>\n",
              "      <td>0</td>\n",
              "      <td>4.215895</td>\n",
              "      <td>4.036333</td>\n",
              "      <td>0.260870</td>\n",
              "      <td>01:11</td>\n",
              "    </tr>\n",
              "    <tr>\n",
              "      <td>1</td>\n",
              "      <td>4.120699</td>\n",
              "      <td>4.076908</td>\n",
              "      <td>0.208696</td>\n",
              "      <td>01:06</td>\n",
              "    </tr>\n",
              "  </tbody>\n",
              "</table>"
            ],
            "text/plain": [
              "<IPython.core.display.HTML object>"
            ]
          },
          "metadata": {
            "tags": []
          }
        }
      ]
    },
    {
      "cell_type": "code",
      "metadata": {
        "id": "XsHfrhCHG3dN",
        "colab_type": "code",
        "colab": {
          "base_uri": "https://localhost:8080/",
          "height": 173
        },
        "outputId": "03231fd4-37a4-482b-9504-5b5f765f5403"
      },
      "source": [
        "learn.fit_one_cycle(4, slice(2e-3/100, 2e-3))"
      ],
      "execution_count": 35,
      "outputs": [
        {
          "output_type": "display_data",
          "data": {
            "text/html": [
              "<table border=\"1\" class=\"dataframe\">\n",
              "  <thead>\n",
              "    <tr style=\"text-align: left;\">\n",
              "      <th>epoch</th>\n",
              "      <th>train_loss</th>\n",
              "      <th>valid_loss</th>\n",
              "      <th>accuracy</th>\n",
              "      <th>time</th>\n",
              "    </tr>\n",
              "  </thead>\n",
              "  <tbody>\n",
              "    <tr>\n",
              "      <td>0</td>\n",
              "      <td>3.961344</td>\n",
              "      <td>4.076978</td>\n",
              "      <td>0.286957</td>\n",
              "      <td>01:08</td>\n",
              "    </tr>\n",
              "    <tr>\n",
              "      <td>1</td>\n",
              "      <td>3.909445</td>\n",
              "      <td>3.956740</td>\n",
              "      <td>0.286957</td>\n",
              "      <td>01:11</td>\n",
              "    </tr>\n",
              "    <tr>\n",
              "      <td>2</td>\n",
              "      <td>3.714388</td>\n",
              "      <td>3.976409</td>\n",
              "      <td>0.252174</td>\n",
              "      <td>01:13</td>\n",
              "    </tr>\n",
              "    <tr>\n",
              "      <td>3</td>\n",
              "      <td>3.571216</td>\n",
              "      <td>3.971912</td>\n",
              "      <td>0.243478</td>\n",
              "      <td>01:11</td>\n",
              "    </tr>\n",
              "  </tbody>\n",
              "</table>"
            ],
            "text/plain": [
              "<IPython.core.display.HTML object>"
            ]
          },
          "metadata": {
            "tags": []
          }
        }
      ]
    },
    {
      "cell_type": "code",
      "metadata": {
        "id": "0Zsd99isb9EQ",
        "colab_type": "code",
        "colab": {
          "base_uri": "https://localhost:8080/",
          "height": 173
        },
        "outputId": "ff2a551a-997c-479e-d393-c032c146ea8f"
      },
      "source": [
        "learn.fit_one_cycle(4, slice(2e-3/100, 2e-3))"
      ],
      "execution_count": 36,
      "outputs": [
        {
          "output_type": "display_data",
          "data": {
            "text/html": [
              "<table border=\"1\" class=\"dataframe\">\n",
              "  <thead>\n",
              "    <tr style=\"text-align: left;\">\n",
              "      <th>epoch</th>\n",
              "      <th>train_loss</th>\n",
              "      <th>valid_loss</th>\n",
              "      <th>accuracy</th>\n",
              "      <th>time</th>\n",
              "    </tr>\n",
              "  </thead>\n",
              "  <tbody>\n",
              "    <tr>\n",
              "      <td>0</td>\n",
              "      <td>3.481093</td>\n",
              "      <td>3.914340</td>\n",
              "      <td>0.243478</td>\n",
              "      <td>01:09</td>\n",
              "    </tr>\n",
              "    <tr>\n",
              "      <td>1</td>\n",
              "      <td>3.457930</td>\n",
              "      <td>3.966869</td>\n",
              "      <td>0.252174</td>\n",
              "      <td>01:08</td>\n",
              "    </tr>\n",
              "    <tr>\n",
              "      <td>2</td>\n",
              "      <td>3.306016</td>\n",
              "      <td>3.923901</td>\n",
              "      <td>0.243478</td>\n",
              "      <td>01:06</td>\n",
              "    </tr>\n",
              "    <tr>\n",
              "      <td>3</td>\n",
              "      <td>3.182087</td>\n",
              "      <td>3.944561</td>\n",
              "      <td>0.260870</td>\n",
              "      <td>01:05</td>\n",
              "    </tr>\n",
              "  </tbody>\n",
              "</table>"
            ],
            "text/plain": [
              "<IPython.core.display.HTML object>"
            ]
          },
          "metadata": {
            "tags": []
          }
        }
      ]
    },
    {
      "cell_type": "code",
      "metadata": {
        "id": "atNWNKDFPbuI",
        "colab_type": "code",
        "colab": {
          "base_uri": "https://localhost:8080/",
          "height": 173
        },
        "outputId": "f1ee86a6-f247-4f34-bbaa-63cfe92a1f9d"
      },
      "source": [
        "learn.fit_one_cycle(4, slice(2e-3/100, 2e-3))"
      ],
      "execution_count": 37,
      "outputs": [
        {
          "output_type": "display_data",
          "data": {
            "text/html": [
              "<table border=\"1\" class=\"dataframe\">\n",
              "  <thead>\n",
              "    <tr style=\"text-align: left;\">\n",
              "      <th>epoch</th>\n",
              "      <th>train_loss</th>\n",
              "      <th>valid_loss</th>\n",
              "      <th>accuracy</th>\n",
              "      <th>time</th>\n",
              "    </tr>\n",
              "  </thead>\n",
              "  <tbody>\n",
              "    <tr>\n",
              "      <td>0</td>\n",
              "      <td>3.076191</td>\n",
              "      <td>3.954099</td>\n",
              "      <td>0.243478</td>\n",
              "      <td>01:12</td>\n",
              "    </tr>\n",
              "    <tr>\n",
              "      <td>1</td>\n",
              "      <td>3.013112</td>\n",
              "      <td>4.028509</td>\n",
              "      <td>0.234783</td>\n",
              "      <td>01:07</td>\n",
              "    </tr>\n",
              "    <tr>\n",
              "      <td>2</td>\n",
              "      <td>2.841556</td>\n",
              "      <td>3.940191</td>\n",
              "      <td>0.278261</td>\n",
              "      <td>01:14</td>\n",
              "    </tr>\n",
              "    <tr>\n",
              "      <td>3</td>\n",
              "      <td>2.772004</td>\n",
              "      <td>4.008952</td>\n",
              "      <td>0.260870</td>\n",
              "      <td>01:08</td>\n",
              "    </tr>\n",
              "  </tbody>\n",
              "</table>"
            ],
            "text/plain": [
              "<IPython.core.display.HTML object>"
            ]
          },
          "metadata": {
            "tags": []
          }
        }
      ]
    },
    {
      "cell_type": "code",
      "metadata": {
        "id": "rKrBTZ0T1uVA",
        "colab_type": "code",
        "colab": {
          "base_uri": "https://localhost:8080/",
          "height": 173
        },
        "outputId": "12c126ae-d067-4235-e8ce-6804e0817950"
      },
      "source": [
        "learn.fit_one_cycle(4, slice(2e-3/100, 2e-3))"
      ],
      "execution_count": 38,
      "outputs": [
        {
          "output_type": "display_data",
          "data": {
            "text/html": [
              "<table border=\"1\" class=\"dataframe\">\n",
              "  <thead>\n",
              "    <tr style=\"text-align: left;\">\n",
              "      <th>epoch</th>\n",
              "      <th>train_loss</th>\n",
              "      <th>valid_loss</th>\n",
              "      <th>accuracy</th>\n",
              "      <th>time</th>\n",
              "    </tr>\n",
              "  </thead>\n",
              "  <tbody>\n",
              "    <tr>\n",
              "      <td>0</td>\n",
              "      <td>2.652328</td>\n",
              "      <td>4.038305</td>\n",
              "      <td>0.260870</td>\n",
              "      <td>01:13</td>\n",
              "    </tr>\n",
              "    <tr>\n",
              "      <td>1</td>\n",
              "      <td>2.752751</td>\n",
              "      <td>4.092868</td>\n",
              "      <td>0.226087</td>\n",
              "      <td>01:06</td>\n",
              "    </tr>\n",
              "    <tr>\n",
              "      <td>2</td>\n",
              "      <td>2.607561</td>\n",
              "      <td>4.023578</td>\n",
              "      <td>0.278261</td>\n",
              "      <td>01:09</td>\n",
              "    </tr>\n",
              "    <tr>\n",
              "      <td>3</td>\n",
              "      <td>2.462204</td>\n",
              "      <td>4.003863</td>\n",
              "      <td>0.286957</td>\n",
              "      <td>01:07</td>\n",
              "    </tr>\n",
              "  </tbody>\n",
              "</table>"
            ],
            "text/plain": [
              "<IPython.core.display.HTML object>"
            ]
          },
          "metadata": {
            "tags": []
          }
        }
      ]
    },
    {
      "cell_type": "code",
      "metadata": {
        "id": "ajQC6WDg1yA9",
        "colab_type": "code",
        "colab": {
          "base_uri": "https://localhost:8080/",
          "height": 173
        },
        "outputId": "ac35a5c6-50dd-487b-be20-d4942e9d0857"
      },
      "source": [
        "learn.fit_one_cycle(4, slice(2e-3/100, 2e-3))"
      ],
      "execution_count": 39,
      "outputs": [
        {
          "output_type": "display_data",
          "data": {
            "text/html": [
              "<table border=\"1\" class=\"dataframe\">\n",
              "  <thead>\n",
              "    <tr style=\"text-align: left;\">\n",
              "      <th>epoch</th>\n",
              "      <th>train_loss</th>\n",
              "      <th>valid_loss</th>\n",
              "      <th>accuracy</th>\n",
              "      <th>time</th>\n",
              "    </tr>\n",
              "  </thead>\n",
              "  <tbody>\n",
              "    <tr>\n",
              "      <td>0</td>\n",
              "      <td>2.376794</td>\n",
              "      <td>4.048458</td>\n",
              "      <td>0.252174</td>\n",
              "      <td>01:06</td>\n",
              "    </tr>\n",
              "    <tr>\n",
              "      <td>1</td>\n",
              "      <td>2.380484</td>\n",
              "      <td>4.082301</td>\n",
              "      <td>0.234783</td>\n",
              "      <td>01:09</td>\n",
              "    </tr>\n",
              "    <tr>\n",
              "      <td>2</td>\n",
              "      <td>2.273695</td>\n",
              "      <td>4.024547</td>\n",
              "      <td>0.252174</td>\n",
              "      <td>01:12</td>\n",
              "    </tr>\n",
              "    <tr>\n",
              "      <td>3</td>\n",
              "      <td>2.207670</td>\n",
              "      <td>4.079610</td>\n",
              "      <td>0.243478</td>\n",
              "      <td>01:08</td>\n",
              "    </tr>\n",
              "  </tbody>\n",
              "</table>"
            ],
            "text/plain": [
              "<IPython.core.display.HTML object>"
            ]
          },
          "metadata": {
            "tags": []
          }
        }
      ]
    },
    {
      "cell_type": "code",
      "metadata": {
        "id": "KKydb0B4BKGk",
        "colab_type": "code",
        "colab": {
          "base_uri": "https://localhost:8080/",
          "height": 173
        },
        "outputId": "23f9609a-fe5a-4164-ad40-3e8d4a6a5425"
      },
      "source": [
        "learn.fit_one_cycle(4, slice(2e-3/100, 2e-3))"
      ],
      "execution_count": 40,
      "outputs": [
        {
          "output_type": "display_data",
          "data": {
            "text/html": [
              "<table border=\"1\" class=\"dataframe\">\n",
              "  <thead>\n",
              "    <tr style=\"text-align: left;\">\n",
              "      <th>epoch</th>\n",
              "      <th>train_loss</th>\n",
              "      <th>valid_loss</th>\n",
              "      <th>accuracy</th>\n",
              "      <th>time</th>\n",
              "    </tr>\n",
              "  </thead>\n",
              "  <tbody>\n",
              "    <tr>\n",
              "      <td>0</td>\n",
              "      <td>2.170852</td>\n",
              "      <td>4.154757</td>\n",
              "      <td>0.278261</td>\n",
              "      <td>01:08</td>\n",
              "    </tr>\n",
              "    <tr>\n",
              "      <td>1</td>\n",
              "      <td>2.201084</td>\n",
              "      <td>4.208361</td>\n",
              "      <td>0.260870</td>\n",
              "      <td>01:13</td>\n",
              "    </tr>\n",
              "    <tr>\n",
              "      <td>2</td>\n",
              "      <td>2.147114</td>\n",
              "      <td>4.148467</td>\n",
              "      <td>0.278261</td>\n",
              "      <td>01:08</td>\n",
              "    </tr>\n",
              "    <tr>\n",
              "      <td>3</td>\n",
              "      <td>2.070100</td>\n",
              "      <td>4.145962</td>\n",
              "      <td>0.269565</td>\n",
              "      <td>01:07</td>\n",
              "    </tr>\n",
              "  </tbody>\n",
              "</table>"
            ],
            "text/plain": [
              "<IPython.core.display.HTML object>"
            ]
          },
          "metadata": {
            "tags": []
          }
        }
      ]
    },
    {
      "cell_type": "code",
      "metadata": {
        "id": "T2APKtFKBpGY",
        "colab_type": "code",
        "colab": {
          "base_uri": "https://localhost:8080/",
          "height": 173
        },
        "outputId": "ea76a156-7bb8-4198-af88-4e940d889c1a"
      },
      "source": [
        "learn.fit_one_cycle(4, slice(2e-3/100, 2e-3))"
      ],
      "execution_count": 41,
      "outputs": [
        {
          "output_type": "display_data",
          "data": {
            "text/html": [
              "<table border=\"1\" class=\"dataframe\">\n",
              "  <thead>\n",
              "    <tr style=\"text-align: left;\">\n",
              "      <th>epoch</th>\n",
              "      <th>train_loss</th>\n",
              "      <th>valid_loss</th>\n",
              "      <th>accuracy</th>\n",
              "      <th>time</th>\n",
              "    </tr>\n",
              "  </thead>\n",
              "  <tbody>\n",
              "    <tr>\n",
              "      <td>0</td>\n",
              "      <td>1.858366</td>\n",
              "      <td>4.146889</td>\n",
              "      <td>0.252174</td>\n",
              "      <td>01:14</td>\n",
              "    </tr>\n",
              "    <tr>\n",
              "      <td>1</td>\n",
              "      <td>1.951072</td>\n",
              "      <td>4.316057</td>\n",
              "      <td>0.260870</td>\n",
              "      <td>01:09</td>\n",
              "    </tr>\n",
              "    <tr>\n",
              "      <td>2</td>\n",
              "      <td>1.921545</td>\n",
              "      <td>4.355181</td>\n",
              "      <td>0.260870</td>\n",
              "      <td>01:13</td>\n",
              "    </tr>\n",
              "    <tr>\n",
              "      <td>3</td>\n",
              "      <td>1.913205</td>\n",
              "      <td>4.401814</td>\n",
              "      <td>0.260870</td>\n",
              "      <td>01:06</td>\n",
              "    </tr>\n",
              "  </tbody>\n",
              "</table>"
            ],
            "text/plain": [
              "<IPython.core.display.HTML object>"
            ]
          },
          "metadata": {
            "tags": []
          }
        }
      ]
    },
    {
      "cell_type": "code",
      "metadata": {
        "id": "qtTypA1sPgLU",
        "colab_type": "code",
        "colab": {
          "base_uri": "https://localhost:8080/",
          "height": 111
        },
        "outputId": "ddcf1ab4-2d5d-4c8f-ad1c-7eb537373149"
      },
      "source": [
        "learn.fit_one_cycle(2, slice(2e-3/100, 2e-3))"
      ],
      "execution_count": 42,
      "outputs": [
        {
          "output_type": "display_data",
          "data": {
            "text/html": [
              "<table border=\"1\" class=\"dataframe\">\n",
              "  <thead>\n",
              "    <tr style=\"text-align: left;\">\n",
              "      <th>epoch</th>\n",
              "      <th>train_loss</th>\n",
              "      <th>valid_loss</th>\n",
              "      <th>accuracy</th>\n",
              "      <th>time</th>\n",
              "    </tr>\n",
              "  </thead>\n",
              "  <tbody>\n",
              "    <tr>\n",
              "      <td>0</td>\n",
              "      <td>1.874783</td>\n",
              "      <td>4.398427</td>\n",
              "      <td>0.278261</td>\n",
              "      <td>01:09</td>\n",
              "    </tr>\n",
              "    <tr>\n",
              "      <td>1</td>\n",
              "      <td>1.866931</td>\n",
              "      <td>4.379682</td>\n",
              "      <td>0.278261</td>\n",
              "      <td>01:06</td>\n",
              "    </tr>\n",
              "  </tbody>\n",
              "</table>"
            ],
            "text/plain": [
              "<IPython.core.display.HTML object>"
            ]
          },
          "metadata": {
            "tags": []
          }
        }
      ]
    },
    {
      "cell_type": "code",
      "metadata": {
        "id": "b242kBsTUp9Y",
        "colab_type": "code",
        "colab": {
          "base_uri": "https://localhost:8080/",
          "height": 111
        },
        "outputId": "0d8fedad-6a8c-499b-aada-0ac56af16119"
      },
      "source": [
        "learn.fit_one_cycle(2, slice(2e-3/100, 2e-3))"
      ],
      "execution_count": 43,
      "outputs": [
        {
          "output_type": "display_data",
          "data": {
            "text/html": [
              "<table border=\"1\" class=\"dataframe\">\n",
              "  <thead>\n",
              "    <tr style=\"text-align: left;\">\n",
              "      <th>epoch</th>\n",
              "      <th>train_loss</th>\n",
              "      <th>valid_loss</th>\n",
              "      <th>accuracy</th>\n",
              "      <th>time</th>\n",
              "    </tr>\n",
              "  </thead>\n",
              "  <tbody>\n",
              "    <tr>\n",
              "      <td>0</td>\n",
              "      <td>1.850635</td>\n",
              "      <td>4.416687</td>\n",
              "      <td>0.278261</td>\n",
              "      <td>01:11</td>\n",
              "    </tr>\n",
              "    <tr>\n",
              "      <td>1</td>\n",
              "      <td>1.786559</td>\n",
              "      <td>4.378592</td>\n",
              "      <td>0.252174</td>\n",
              "      <td>01:08</td>\n",
              "    </tr>\n",
              "  </tbody>\n",
              "</table>"
            ],
            "text/plain": [
              "<IPython.core.display.HTML object>"
            ]
          },
          "metadata": {
            "tags": []
          }
        }
      ]
    },
    {
      "cell_type": "code",
      "metadata": {
        "id": "Duwf1Ih5VeDZ",
        "colab_type": "code",
        "colab": {
          "base_uri": "https://localhost:8080/",
          "height": 80
        },
        "outputId": "3b46ed55-2a86-4a9d-d08f-2ef1b4dba473"
      },
      "source": [
        "learn.fit_one_cycle(1, slice(2e-3/100, 2e-3))"
      ],
      "execution_count": 44,
      "outputs": [
        {
          "output_type": "display_data",
          "data": {
            "text/html": [
              "<table border=\"1\" class=\"dataframe\">\n",
              "  <thead>\n",
              "    <tr style=\"text-align: left;\">\n",
              "      <th>epoch</th>\n",
              "      <th>train_loss</th>\n",
              "      <th>valid_loss</th>\n",
              "      <th>accuracy</th>\n",
              "      <th>time</th>\n",
              "    </tr>\n",
              "  </thead>\n",
              "  <tbody>\n",
              "    <tr>\n",
              "      <td>0</td>\n",
              "      <td>1.818326</td>\n",
              "      <td>4.438716</td>\n",
              "      <td>0.286957</td>\n",
              "      <td>01:10</td>\n",
              "    </tr>\n",
              "  </tbody>\n",
              "</table>"
            ],
            "text/plain": [
              "<IPython.core.display.HTML object>"
            ]
          },
          "metadata": {
            "tags": []
          }
        }
      ]
    },
    {
      "cell_type": "code",
      "metadata": {
        "id": "c65d-osfDUXm",
        "colab_type": "code",
        "colab": {}
      },
      "source": [
        "# save the best model\n",
        "\n",
        "learn.save_encoder('tuning_pubmed_bigtweet_overlap_0_last')"
      ],
      "execution_count": 0,
      "outputs": []
    },
    {
      "cell_type": "markdown",
      "metadata": {
        "id": "rCwZU0E2RgM6",
        "colab_type": "text"
      },
      "source": [
        "# Part three: Predict on the test dataset"
      ]
    },
    {
      "cell_type": "code",
      "metadata": {
        "id": "gDm72c-dOu7d",
        "colab_type": "code",
        "colab": {
          "base_uri": "https://localhost:8080/",
          "height": 17
        },
        "outputId": "8dc054cc-77e3-4279-82c7-cda831d6afb5"
      },
      "source": [
        "# use the test data for prediction\n",
        "\n",
        "preds, y = learn.get_preds(DatasetType.Test)"
      ],
      "execution_count": 46,
      "outputs": [
        {
          "output_type": "display_data",
          "data": {
            "text/html": [
              ""
            ],
            "text/plain": [
              "<IPython.core.display.HTML object>"
            ]
          },
          "metadata": {
            "tags": []
          }
        }
      ]
    },
    {
      "cell_type": "code",
      "metadata": {
        "id": "6tFSQcsWPvxn",
        "colab_type": "code",
        "colab": {
          "base_uri": "https://localhost:8080/",
          "height": 105
        },
        "outputId": "a7198bb9-53f7-4ff3-a3b4-d655926c575a"
      },
      "source": [
        "predictions, *_ = learn.get_preds(DatasetType.Test)\n",
        "labels = np.argmax(predictions, 1)\n",
        "predict_list = labels.tolist()\n",
        "standard_list = test[0].tolist()\n",
        "\n",
        "print(len(predict_list))\n",
        "print(len(standard_list))\n",
        "\n",
        "print(predict_list)\n",
        "print(standard_list)"
      ],
      "execution_count": 47,
      "outputs": [
        {
          "output_type": "display_data",
          "data": {
            "text/html": [
              ""
            ],
            "text/plain": [
              "<IPython.core.display.HTML object>"
            ]
          },
          "metadata": {
            "tags": []
          }
        },
        {
          "output_type": "stream",
          "text": [
            "205\n",
            "205\n",
            "[2099, 2099, 1308, 1247, 2088, 1639, 744, 803, 135, 1411, 1049, 744, 854, 1639, 860, 87, 854, 711, 965, 1072, 106, 803, 931, 744, 1802, 171, 1077, 744, 1307, 2099, 1935, 1639, 1308, 744, 12, 309, 744, 744, 244, 1411, 2099, 1407, 1932, 171, 106, 1935, 1307, 621, 2097, 854, 1811, 574, 744, 194, 135, 1546, 1583, 2182, 2088, 1077, 92, 375, 1932, 1376, 744, 931, 744, 1935, 1956, 860, 2099, 1811, 903, 1546, 1546, 700, 744, 2099, 978, 574, 724, 1038, 92, 1307, 909, 1323, 513, 1472, 1307, 359, 230, 135, 106, 744, 2165, 1920, 1546, 798, 170, 744, 1639, 744, 931, 1034, 2099, 1034, 1478, 2088, 1307, 744, 1411, 1077, 135, 744, 1411, 2099, 744, 1956, 574, 451, 1811, 1307, 201, 860, 268, 127, 2099, 171, 649, 2099, 170, 744, 574, 903, 744, 135, 2097, 860, 744, 744, 1308, 621, 1773, 170, 1542, 909, 1034, 744, 744, 1811, 983, 189, 840, 170, 441, 2046, 2099, 744, 700, 744, 1392, 170, 135, 1308, 1376, 2046, 135, 1652, 744, 170, 2099, 79, 249, 89, 441, 909, 847, 744, 744, 1308, 574, 79, 2214, 744, 700, 744, 333, 2046, 744, 170, 170, 1583, 2188, 449, 1220, 744, 744, 1935, 1652, 574, 2188, 1935, 744, 744, 574]\n",
            "[1576, 2099, 1698, 1811, 476, 840, 440, 2099, 171, 309, 703, 135, 375, 1326, 860, 574, 2003, 210, 1408, 237, 106, 1576, 700, 1095, 1194, 1307, 239, 935, 833, 1076, 1935, 1008, 2176, 1576, 2088, 1407, 1411, 505, 1811, 1576, 803, 605, 1652, 931, 92, 974, 2088, 1075, 491, 1932, 1075, 574, 1220, 1032, 2048, 2088, 1583, 1043, 2188, 1095, 872, 854, 1307, 1950, 170, 700, 1698, 170, 451, 860, 1076, 2099, 309, 872, 210, 700, 237, 2003, 1077, 1299, 99, 1038, 106, 2218, 1698, 1666, 135, 1698, 171, 1534, 1811, 699, 854, 171, 621, 794, 941, 89, 965, 472, 1935, 574, 336, 1348, 803, 1403, 2027, 1811, 1752, 1025, 1411, 2099, 1932, 989, 2046, 2099, 724, 1308, 1106, 621, 1811, 699, 1307, 574, 268, 959, 2099, 1308, 1542, 860, 2201, 1308, 574, 309, 1472, 384, 384, 854, 833, 79, 467, 2165, 1049, 956, 2097, 1542, 1811, 384, 1220, 1811, 983, 378, 840, 170, 441, 2046, 2099, 1932, 700, 2099, 1392, 170, 135, 1308, 1376, 2046, 135, 79, 1962, 170, 2099, 79, 249, 89, 441, 909, 847, 1034, 931, 1308, 574, 79, 1213, 194, 700, 854, 333, 2046, 1698, 170, 170, 1583, 2188, 449, 1220, 2099, 854, 744, 1652, 574, 2188, 1447, 244, 854, 574]\n"
          ],
          "name": "stdout"
        }
      ]
    },
    {
      "cell_type": "code",
      "metadata": {
        "id": "XIC4zufnMxtq",
        "colab_type": "code",
        "colab": {
          "base_uri": "https://localhost:8080/",
          "height": 51
        },
        "outputId": "1bf374fd-644c-41b5-8a04-4baa831e2119"
      },
      "source": [
        "correct_num = 0\n",
        "\n",
        "for i in range(0, len(standard_list)):\n",
        "  if predict_list[i] == standard_list[i]:\n",
        "    correct_num = correct_num+1\n",
        "  else:\n",
        "    pass\n",
        "print(correct_num)\n",
        "\n",
        "predict_accuracy = correct_num/len(predict_list)\n",
        "print(predict_accuracy)"
      ],
      "execution_count": 48,
      "outputs": [
        {
          "output_type": "stream",
          "text": [
            "54\n",
            "0.2634146341463415\n"
          ],
          "name": "stdout"
        }
      ]
    }
  ]
}