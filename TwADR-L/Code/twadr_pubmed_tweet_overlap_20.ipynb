{
  "nbformat": 4,
  "nbformat_minor": 0,
  "metadata": {
    "colab": {
      "name": "twadr_pubmed_tweet_overlap_20.ipynb",
      "provenance": [],
      "collapsed_sections": [],
      "toc_visible": true,
      "include_colab_link": true
    },
    "kernelspec": {
      "name": "python3",
      "display_name": "Python 3"
    },
    "accelerator": "TPU"
  },
  "cells": [
    {
      "cell_type": "markdown",
      "metadata": {
        "id": "view-in-github",
        "colab_type": "text"
      },
      "source": [
        "<a href=\"https://colab.research.google.com/github/unt-iialab/medical-concept-normalization/blob/master/TwADR-L/Code/twadr_pubmed_tweet_overlap_20.ipynb\" target=\"_parent\"><img src=\"https://colab.research.google.com/assets/colab-badge.svg\" alt=\"Open In Colab\"/></a>"
      ]
    },
    {
      "cell_type": "code",
      "metadata": {
        "id": "adSi6i2-dWxy",
        "colab_type": "code",
        "colab": {}
      },
      "source": [
        "import os"
      ],
      "execution_count": 0,
      "outputs": []
    },
    {
      "cell_type": "code",
      "metadata": {
        "id": "E7xYCRGPjd9B",
        "colab_type": "code",
        "colab": {}
      },
      "source": [
        "base_dir = 'medical-concept-normalization'"
      ],
      "execution_count": 0,
      "outputs": []
    },
    {
      "cell_type": "code",
      "metadata": {
        "id": "yvIW3aUDjYNS",
        "colab_type": "code",
        "colab": {}
      },
      "source": [
        "if os.path.exists('medical-concept-normalization'):\n",
        "  print('folder exist')\n",
        "else:\n",
        "  os.mkdir(base_dir)"
      ],
      "execution_count": 0,
      "outputs": []
    },
    {
      "cell_type": "code",
      "metadata": {
        "id": "es-FFLlfk6SG",
        "colab_type": "code",
        "colab": {}
      },
      "source": [
        "if os.path.exists('medical-concept-normalization/data_collection'):\n",
        "  print('folder exist')\n",
        "else:\n",
        "  os.mkdir('medical-concept-normalization/data_collection')"
      ],
      "execution_count": 0,
      "outputs": []
    },
    {
      "cell_type": "markdown",
      "metadata": {
        "id": "0R-Guw_VoJXm",
        "colab_type": "text"
      },
      "source": [
        "**Install fastai and clone the fastai for text classification**\n",
        "\n"
      ]
    },
    {
      "cell_type": "code",
      "metadata": {
        "id": "QVZa3Z0PmHFH",
        "colab_type": "code",
        "outputId": "1e03e198-b1a5-4d16-dacb-806ac4192597",
        "colab": {
          "base_uri": "https://localhost:8080/",
          "height": 89
        }
      },
      "source": [
        "!curl https://course-v3.fast.ai/setup/colab | bash"
      ],
      "execution_count": 5,
      "outputs": [
        {
          "output_type": "stream",
          "text": [
            "  % Total    % Received % Xferd  Average Speed   Time    Time     Time  Current\n",
            "                                 Dload  Upload   Total   Spent    Left  Speed\n",
            "\r  0     0    0     0    0     0      0      0 --:--:-- --:--:-- --:--:--     0curl: (6) Could not resolve host: course-v3.fast.ai\n"
          ],
          "name": "stdout"
        }
      ]
    },
    {
      "cell_type": "code",
      "metadata": {
        "id": "_FBFFEBrmJC0",
        "colab_type": "code",
        "outputId": "bf4ab5a8-9b4a-4ff5-a157-15e1bb6000c8",
        "colab": {
          "base_uri": "https://localhost:8080/",
          "height": 87
        }
      },
      "source": [
        "!git clone https://github.com/wshuyi/demo-nlp-classification-fastai.git"
      ],
      "execution_count": 6,
      "outputs": [
        {
          "output_type": "stream",
          "text": [
            "Cloning into 'demo-nlp-classification-fastai'...\n",
            "remote: Enumerating objects: 9, done.\u001b[K\n",
            "remote: Total 9 (delta 0), reused 0 (delta 0), pack-reused 9\u001b[K\n",
            "Unpacking objects: 100% (9/9), done.\n"
          ],
          "name": "stdout"
        }
      ]
    },
    {
      "cell_type": "code",
      "metadata": {
        "id": "66zfh_JqmWMU",
        "colab_type": "code",
        "colab": {}
      },
      "source": [
        "from fastai import *\n",
        "from fastai.text import *"
      ],
      "execution_count": 0,
      "outputs": []
    },
    {
      "cell_type": "markdown",
      "metadata": {
        "id": "mNIw-yALdBU9",
        "colab_type": "text"
      },
      "source": [
        "**Set the path of the data collections**"
      ]
    },
    {
      "cell_type": "code",
      "metadata": {
        "id": "pzH7VMh4mqCL",
        "colab_type": "code",
        "colab": {}
      },
      "source": [
        "path = Path('medical-concept-normalization/data_collection')"
      ],
      "execution_count": 0,
      "outputs": []
    },
    {
      "cell_type": "code",
      "metadata": {
        "id": "r8cdqCa-Oeog",
        "colab_type": "code",
        "colab": {}
      },
      "source": [
        "# datasets\n",
        "\n",
        "train_csv = 'https://raw.githubusercontent.com/unt-iialab/medical-concept-normalization/master/TwADR-L/Experiment%20(Change%20test%20dataset)/Training%20set/tward_training_folder_0.csv'\n",
        "valid_csv = 'https://raw.githubusercontent.com/unt-iialab/medical-concept-normalization/master/TwADR-L/Experiment%20(Change%20test%20dataset)/Validation%20set/tward_validation_folder_0.csv'\n",
        "test_csv = 'https://raw.githubusercontent.com/unt-iialab/medical-concept-normalization/master/TwADR-L/Experiment%20(Change%20test%20dataset)/Testing%20set/tward_testing_overlap_20.csv'\n",
        "fine_tuning_data = 'fine_tuning_language_model_pubmed_bigtweet_mixed.csv'"
      ],
      "execution_count": 0,
      "outputs": []
    },
    {
      "cell_type": "code",
      "metadata": {
        "id": "b8fjI6yyn4aS",
        "colab_type": "code",
        "outputId": "8a69b46b-0b13-4ecd-eaaa-2499aa126f73",
        "colab": {
          "base_uri": "https://localhost:8080/",
          "height": 121
        }
      },
      "source": [
        "# training data set\n",
        "train = pd.read_csv(train_csv, header=None)\n",
        "print(train.head())\n",
        "\n",
        "# validating data set\n",
        "valid = pd.read_csv(valid_csv,header=None)\n",
        "# valid.head()\n",
        "\n",
        "# testing data set\n",
        "test = pd.read_csv(test_csv,header=None)\n",
        "# test.head()"
      ],
      "execution_count": 10,
      "outputs": [
        {
          "output_type": "stream",
          "text": [
            "      0                      1\n",
            "0  1945    Adrenergic syndrome\n",
            "1  1586  Hearing Loss, Partial\n",
            "2   580          Typhoid Fever\n",
            "3   784      Carcinoma of lung\n",
            "4   660              Pregnancy\n"
          ],
          "name": "stdout"
        }
      ]
    },
    {
      "cell_type": "code",
      "metadata": {
        "id": "Vo-YNvVYoaH6",
        "colab_type": "code",
        "outputId": "a75886a5-d34c-483c-965d-157efcfe4eec",
        "colab": {
          "base_uri": "https://localhost:8080/",
          "height": 17
        }
      },
      "source": [
        "# Creating DataBunch for language modelling\n",
        "data_lm = TextLMDataBunch.from_csv(path, fine_tuning_data)"
      ],
      "execution_count": 12,
      "outputs": [
        {
          "output_type": "display_data",
          "data": {
            "text/html": [
              ""
            ],
            "text/plain": [
              "<IPython.core.display.HTML object>"
            ]
          },
          "metadata": {
            "tags": []
          }
        },
        {
          "output_type": "display_data",
          "data": {
            "text/html": [
              ""
            ],
            "text/plain": [
              "<IPython.core.display.HTML object>"
            ]
          },
          "metadata": {
            "tags": []
          }
        }
      ]
    },
    {
      "cell_type": "code",
      "metadata": {
        "id": "1ScY9afDsnvE",
        "colab_type": "code",
        "colab": {}
      },
      "source": [
        "# Creating DataBunch for classification\n",
        "\n",
        "# data_clas = TextClasDataBunch.from_df(path, train, valid, test, vocab=data_lm.train_ds.vocab, bs=128)"
      ],
      "execution_count": 0,
      "outputs": []
    },
    {
      "cell_type": "code",
      "metadata": {
        "id": "gzrSdQcvey9p",
        "colab_type": "code",
        "outputId": "67196281-61d0-4c4a-bd0e-139ebf1d0f57",
        "colab": {
          "base_uri": "https://localhost:8080/",
          "height": 17
        }
      },
      "source": [
        "data_clas = TextClasDataBunch.from_df(path, train, valid, vocab=data_lm.train_ds.vocab, bs=128)"
      ],
      "execution_count": 14,
      "outputs": [
        {
          "output_type": "display_data",
          "data": {
            "text/html": [
              ""
            ],
            "text/plain": [
              "<IPython.core.display.HTML object>"
            ]
          },
          "metadata": {
            "tags": []
          }
        },
        {
          "output_type": "display_data",
          "data": {
            "text/html": [
              ""
            ],
            "text/plain": [
              "<IPython.core.display.HTML object>"
            ]
          },
          "metadata": {
            "tags": []
          }
        }
      ]
    },
    {
      "cell_type": "code",
      "metadata": {
        "id": "MD27Tf0Ke3ou",
        "colab_type": "code",
        "outputId": "8fa29c6b-e525-41fc-b6f3-fc2e7e1ac193",
        "colab": {
          "base_uri": "https://localhost:8080/",
          "height": 17
        }
      },
      "source": [
        "data_clas.add_test(test,label=0)"
      ],
      "execution_count": 15,
      "outputs": [
        {
          "output_type": "display_data",
          "data": {
            "text/html": [
              ""
            ],
            "text/plain": [
              "<IPython.core.display.HTML object>"
            ]
          },
          "metadata": {
            "tags": []
          }
        }
      ]
    },
    {
      "cell_type": "code",
      "metadata": {
        "id": "-dpjnk_rstwk",
        "colab_type": "code",
        "colab": {}
      },
      "source": [
        "data_lm.save()\n",
        "data_clas.save()"
      ],
      "execution_count": 0,
      "outputs": []
    },
    {
      "cell_type": "code",
      "metadata": {
        "id": "4OkiJa36sw5s",
        "colab_type": "code",
        "outputId": "4023afa8-2eda-4671-fd97-a45b9bfcf2dc",
        "colab": {
          "base_uri": "https://localhost:8080/",
          "height": 1000
        }
      },
      "source": [
        "data_lm.train_ds.vocab.itos"
      ],
      "execution_count": 17,
      "outputs": [
        {
          "output_type": "execute_result",
          "data": {
            "text/plain": [
              "['xxunk',\n",
              " 'xxpad',\n",
              " 'xxbos',\n",
              " 'xxeos',\n",
              " 'xxfld',\n",
              " 'xxmaj',\n",
              " 'xxup',\n",
              " 'xxrep',\n",
              " 'xxwrep',\n",
              " 'the',\n",
              " 'of',\n",
              " 'and',\n",
              " 'in',\n",
              " 'to',\n",
              " 'a',\n",
              " 'for',\n",
              " 'with',\n",
              " 'diclofenac',\n",
              " 'was',\n",
              " 'were',\n",
              " 'on',\n",
              " 'is',\n",
              " 'rt',\n",
              " 'sodium',\n",
              " 'by',\n",
              " 'that',\n",
              " 'as',\n",
              " 'at',\n",
              " 'patients',\n",
              " 'or',\n",
              " 'this',\n",
              " 'from',\n",
              " 'you',\n",
              " 'drug',\n",
              " 'i',\n",
              " 'mg',\n",
              " 'group',\n",
              " 'be',\n",
              " 'disease',\n",
              " 'study',\n",
              " 'are',\n",
              " 'treatment',\n",
              " 'pain',\n",
              " 'after',\n",
              " 'an',\n",
              " 'amp',\n",
              " 'not',\n",
              " 'it',\n",
              " 'have',\n",
              " 'p',\n",
              " 'release',\n",
              " 'gluten',\n",
              " 'we',\n",
              " 'all',\n",
              " 'than',\n",
              " 'effect',\n",
              " 'free',\n",
              " 'no',\n",
              " 'compared',\n",
              " 'new',\n",
              " 'using',\n",
              " 'more',\n",
              " 'effects',\n",
              " 'groups',\n",
              " 'our',\n",
              " 'both',\n",
              " 'your',\n",
              " 'time',\n",
              " 'two',\n",
              " 'its',\n",
              " 'between',\n",
              " 'inflammatory',\n",
              " 'h',\n",
              " 'about',\n",
              " 'my',\n",
              " 'significant',\n",
              " 'significantly',\n",
              " 'drugs',\n",
              " 'these',\n",
              " 'which',\n",
              " 'out',\n",
              " 'day',\n",
              " 'but',\n",
              " 'use',\n",
              " 'can',\n",
              " 'anti',\n",
              " 'used',\n",
              " 'has',\n",
              " 'potassium',\n",
              " 'placebo',\n",
              " 'voltaren',\n",
              " 'what',\n",
              " 'glutenfree',\n",
              " 'results',\n",
              " 'dose',\n",
              " 'also',\n",
              " 'one',\n",
              " 'do',\n",
              " 'nt',\n",
              " 'efficacy',\n",
              " 's',\n",
              " 'may',\n",
              " 'there',\n",
              " 'treated',\n",
              " 'days',\n",
              " 'ml',\n",
              " 'm',\n",
              " 'ds',\n",
              " 'celiac',\n",
              " 'w',\n",
              " 'showed',\n",
              " 'had',\n",
              " 'when',\n",
              " 'now',\n",
              " 'been',\n",
              " 'up',\n",
              " 'topical',\n",
              " 'oral',\n",
              " 'administration',\n",
              " 'rats',\n",
              " 'different',\n",
              " 'concentration',\n",
              " 'studies',\n",
              " 'products',\n",
              " 'via',\n",
              " 'control',\n",
              " 'c',\n",
              " 'during',\n",
              " 'other',\n",
              " 'their',\n",
              " 'if',\n",
              " 'test',\n",
              " 'non',\n",
              " 'how',\n",
              " 'food',\n",
              " 'clinical',\n",
              " 'respectively',\n",
              " 'into',\n",
              " 'well',\n",
              " 'right',\n",
              " 'nsaids',\n",
              " 'found',\n",
              " 'induced',\n",
              " 'plasma',\n",
              " 'formulation',\n",
              " 'high',\n",
              " 'who',\n",
              " 'rate',\n",
              " 'diet',\n",
              " 'hours',\n",
              " 'first',\n",
              " 'could',\n",
              " 'formulations',\n",
              " 'acid',\n",
              " 'did',\n",
              " 'mean',\n",
              " 'ph',\n",
              " 'method',\n",
              " 'post',\n",
              " 'g',\n",
              " 'solution',\n",
              " 'blood',\n",
              " 'effective',\n",
              " 'tablets',\n",
              " 'gel',\n",
              " 'tip',\n",
              " 'review',\n",
              " 'three',\n",
              " 'observed',\n",
              " 'received',\n",
              " 'those',\n",
              " 'over',\n",
              " 'n',\n",
              " 'controlled',\n",
              " 'd',\n",
              " 'adverse',\n",
              " 'increased',\n",
              " 'data',\n",
              " 'levels',\n",
              " 'so',\n",
              " 'only',\n",
              " 'kg',\n",
              " 'analysis',\n",
              " 'analgesic',\n",
              " 'each',\n",
              " 'vitro',\n",
              " 'concentrations',\n",
              " 'acute',\n",
              " 'atorvastatin',\n",
              " 'single',\n",
              " 'however',\n",
              " 'activity',\n",
              " 'less',\n",
              " 'dblclick',\n",
              " 'why',\n",
              " 'skin',\n",
              " 'period',\n",
              " 'following',\n",
              " 'week',\n",
              " 'pic',\n",
              " 'daily',\n",
              " 'patient',\n",
              " 'most',\n",
              " 'before',\n",
              " 'model',\n",
              " 'randomized',\n",
              " 'weeks',\n",
              " 'they',\n",
              " 'here',\n",
              " 'symptoms',\n",
              " 'low',\n",
              " 'surgery',\n",
              " 'similar',\n",
              " 'some',\n",
              " 'evaluated',\n",
              " 'therapy',\n",
              " 'know',\n",
              " 'years',\n",
              " 'difference',\n",
              " 'l',\n",
              " 'under',\n",
              " 'nsaid',\n",
              " 'lower',\n",
              " 'total',\n",
              " 'obtained',\n",
              " 'healthy',\n",
              " 'based',\n",
              " 'higher',\n",
              " 'good',\n",
              " 'will',\n",
              " 'double',\n",
              " 'increase',\n",
              " 'me',\n",
              " 'check',\n",
              " 'dissolution',\n",
              " 't',\n",
              " 'tablet',\n",
              " 'present',\n",
              " 'love',\n",
              " 'cells',\n",
              " 'any',\n",
              " 'postoperative',\n",
              " 'renal',\n",
              " 'application',\n",
              " 'just',\n",
              " 'b',\n",
              " 'studied',\n",
              " 'combination',\n",
              " 'water',\n",
              " 'relief',\n",
              " 'like',\n",
              " 'while',\n",
              " 'should',\n",
              " 'trial',\n",
              " 'reported',\n",
              " 'min',\n",
              " 'prepared',\n",
              " 'life',\n",
              " 'vs',\n",
              " 'doses',\n",
              " 'values',\n",
              " 'associated',\n",
              " 'administered',\n",
              " 'help',\n",
              " 'cell',\n",
              " 'get',\n",
              " 'subjects',\n",
              " 'order',\n",
              " 'thanks',\n",
              " 'conditions',\n",
              " 'serum',\n",
              " 'investigated',\n",
              " 'does',\n",
              " 're',\n",
              " 'changes',\n",
              " 'great',\n",
              " 'events',\n",
              " 'reduced',\n",
              " 'v',\n",
              " 'such',\n",
              " 'differences',\n",
              " 'better',\n",
              " 'developed',\n",
              " 'either',\n",
              " 'response',\n",
              " 'given',\n",
              " 'four',\n",
              " 'absorption',\n",
              " 'phase',\n",
              " 'nonsteroidal',\n",
              " 'within',\n",
              " 'performed',\n",
              " 'system',\n",
              " 'us',\n",
              " 'inflammation',\n",
              " 'need',\n",
              " 'decreased',\n",
              " 'type',\n",
              " 'cholesterol',\n",
              " 'parameters',\n",
              " 'side',\n",
              " 'blind',\n",
              " 'due',\n",
              " 'samples',\n",
              " 'containing',\n",
              " 'properties',\n",
              " 'times',\n",
              " 'delivery',\n",
              " 'safety',\n",
              " 'risk',\n",
              " 'assessed',\n",
              " 'liquid',\n",
              " 'auc',\n",
              " 'posted',\n",
              " 'gfb',\n",
              " 'reduction',\n",
              " 'ca',\n",
              " 'people',\n",
              " 'recipe',\n",
              " 'without',\n",
              " 'minutes',\n",
              " 'statistically',\n",
              " 'through',\n",
              " 'size',\n",
              " 'steroidal',\n",
              " 'related',\n",
              " 'number',\n",
              " 'x',\n",
              " 'year',\n",
              " 'show',\n",
              " 'potential',\n",
              " 'mm',\n",
              " 'function',\n",
              " 'being',\n",
              " 'lipitor',\n",
              " 'range',\n",
              " 'level',\n",
              " 'measured',\n",
              " 'indomethacin',\n",
              " 'e',\n",
              " 'included',\n",
              " 'best',\n",
              " 'k',\n",
              " 'vivo',\n",
              " '30',\n",
              " 'injection',\n",
              " 'compare',\n",
              " 'ng',\n",
              " 'form',\n",
              " 'ratio',\n",
              " 'primary',\n",
              " 'scale',\n",
              " 'evaluate',\n",
              " 'intolerance',\n",
              " 'make',\n",
              " 'heres',\n",
              " 'development',\n",
              " 'gastrointestinal',\n",
              " 'sustained',\n",
              " 'therapeutic',\n",
              " 'many',\n",
              " 'sensitivity',\n",
              " 'applied',\n",
              " 'active',\n",
              " 'medication',\n",
              " '\\r \\n ',\n",
              " 'oa',\n",
              " 'health',\n",
              " 'read',\n",
              " 'jennieo',\n",
              " 'normal',\n",
              " 'baseline',\n",
              " 'very',\n",
              " 'human',\n",
              " 'tested',\n",
              " 'visual',\n",
              " 'scores',\n",
              " 'tolerability',\n",
              " 'greater',\n",
              " 'bioavailability',\n",
              " 'determined',\n",
              " 'osteoarthritis',\n",
              " 'then',\n",
              " 'going',\n",
              " 'available',\n",
              " 'addition',\n",
              " 'change',\n",
              " 'revealed',\n",
              " 'article',\n",
              " 'living',\n",
              " 'tips',\n",
              " 'aqueous',\n",
              " 'cox',\n",
              " 'eat',\n",
              " 'improvement',\n",
              " 'process',\n",
              " 'knee',\n",
              " 'because',\n",
              " 'months',\n",
              " 'demonstrated',\n",
              " 'arthritis',\n",
              " 'area',\n",
              " 'same',\n",
              " 'polymer',\n",
              " 'matrix',\n",
              " 'dependent',\n",
              " 'end',\n",
              " 'tissue',\n",
              " 'archives',\n",
              " 'severe',\n",
              " 'action',\n",
              " 'think',\n",
              " 'per',\n",
              " 'ibuprofen',\n",
              " 'suggest',\n",
              " 'further',\n",
              " 'chicken',\n",
              " 'swelling',\n",
              " 'news',\n",
              " 'chronic',\n",
              " 'agent',\n",
              " 'long',\n",
              " 'dosage',\n",
              " 'inhibitor',\n",
              " 'made',\n",
              " 'na',\n",
              " 'important',\n",
              " 'gastric',\n",
              " 'trials',\n",
              " 'coated',\n",
              " 'treatments',\n",
              " 'follow',\n",
              " 'volunteers',\n",
              " 'decrease',\n",
              " 'standard',\n",
              " 'ii',\n",
              " 'followed',\n",
              " 'safe',\n",
              " 'presence',\n",
              " 'much',\n",
              " 'intensity',\n",
              " 'six',\n",
              " 'formation',\n",
              " 'provide',\n",
              " 'moderate',\n",
              " 'hour',\n",
              " 'weight',\n",
              " 'aim',\n",
              " '1',\n",
              " 'caused',\n",
              " 'cm',\n",
              " 'mice',\n",
              " 'whereas',\n",
              " 'take',\n",
              " 'inhibition',\n",
              " 'shown',\n",
              " 'migraine',\n",
              " 'mechanism',\n",
              " 'case',\n",
              " 'rat',\n",
              " 'randomly',\n",
              " 'cases',\n",
              " 'product',\n",
              " 'among',\n",
              " 'diagnosis',\n",
              " 'go',\n",
              " 'indicated',\n",
              " 'content',\n",
              " 'pharmaceutical',\n",
              " 'local',\n",
              " 'determine',\n",
              " 'part',\n",
              " 'relative',\n",
              " '2',\n",
              " 'tolerated',\n",
              " 'th',\n",
              " 'age',\n",
              " 'reaction',\n",
              " 'versus',\n",
              " 'today',\n",
              " 'way',\n",
              " 'eye',\n",
              " 'conducted',\n",
              " 'exposure',\n",
              " 'male',\n",
              " 'profiles',\n",
              " 'growth',\n",
              " 'score',\n",
              " 'f',\n",
              " 'various',\n",
              " 'permeation',\n",
              " 'pharmacokinetic',\n",
              " 'cd',\n",
              " 'r',\n",
              " 'big',\n",
              " 'agents',\n",
              " 'vehicle',\n",
              " 'share',\n",
              " 'eating',\n",
              " 'profile',\n",
              " 'peak',\n",
              " 'pre',\n",
              " 'evaluation',\n",
              " 'divided',\n",
              " 'pressure',\n",
              " 'experimental',\n",
              " 'alone',\n",
              " 'would',\n",
              " 'diagnosed',\n",
              " 'systemic',\n",
              " 'improved',\n",
              " 'although',\n",
              " 'animals',\n",
              " 'awareness',\n",
              " 'cmax',\n",
              " 'care',\n",
              " 'including',\n",
              " '\\r \\n \\r \\n ',\n",
              " 'microspheres',\n",
              " 'old',\n",
              " 'please',\n",
              " 'find',\n",
              " 'rapid',\n",
              " 'lesions',\n",
              " 'common',\n",
              " 'according',\n",
              " 'least',\n",
              " 'plus',\n",
              " 'combined',\n",
              " 'evidence',\n",
              " 'onset',\n",
              " 'blog',\n",
              " 'body',\n",
              " 'linked',\n",
              " 'protein',\n",
              " 'multiple',\n",
              " 'research',\n",
              " 'want',\n",
              " 'corneal',\n",
              " 'resulted',\n",
              " 'month',\n",
              " 'cross',\n",
              " 'surface',\n",
              " 'quality',\n",
              " 'ci',\n",
              " 'o',\n",
              " 'vas',\n",
              " 'achieved',\n",
              " 'rates',\n",
              " 'sensitive',\n",
              " 'happy',\n",
              " 'duration',\n",
              " 'participants',\n",
              " 'urine',\n",
              " 'five',\n",
              " 'even',\n",
              " 'edema',\n",
              " 'secondary',\n",
              " 'pizza',\n",
              " 'third',\n",
              " 'preparation',\n",
              " 'reference',\n",
              " 'joint',\n",
              " 'assessment',\n",
              " '4',\n",
              " 'temperature',\n",
              " 'still',\n",
              " 'comparison',\n",
              " 'analgesia',\n",
              " 'ever',\n",
              " 'might',\n",
              " 'enteric',\n",
              " 'produced',\n",
              " 'dr',\n",
              " 'medium',\n",
              " 'aspirin',\n",
              " 'cause',\n",
              " 'diffusion',\n",
              " 'muscle',\n",
              " 'super',\n",
              " 'global',\n",
              " 'efficiency',\n",
              " 'technique',\n",
              " 'u',\n",
              " 'physical',\n",
              " 'see',\n",
              " 'overall',\n",
              " 'cookbook',\n",
              " 'possible',\n",
              " 'examined',\n",
              " 'expression',\n",
              " 'gf',\n",
              " 'synthesis',\n",
              " 'beads',\n",
              " 'complete',\n",
              " 'medical',\n",
              " 'methods',\n",
              " 'volume',\n",
              " 'specific',\n",
              " 'where',\n",
              " 'women',\n",
              " 'considered',\n",
              " 'saline',\n",
              " 'state',\n",
              " 'against',\n",
              " 'investigate',\n",
              " 'novel',\n",
              " 'solid',\n",
              " 'characterized',\n",
              " 'term',\n",
              " 'second',\n",
              " 'misoprostol',\n",
              " 'every',\n",
              " 'models',\n",
              " 'small',\n",
              " 'interaction',\n",
              " 'work',\n",
              " 'carried',\n",
              " 'degrees',\n",
              " 'superior',\n",
              " 'rofecoxib',\n",
              " 'solubility',\n",
              " 'extent',\n",
              " 'children',\n",
              " 'initial',\n",
              " 'inhibited',\n",
              " 'value',\n",
              " 'prostaglandin',\n",
              " 'damage',\n",
              " 'try',\n",
              " 'intestinal',\n",
              " 'once',\n",
              " 'others',\n",
              " 'commercial',\n",
              " 'calcium',\n",
              " 'intramuscular',\n",
              " 'complex',\n",
              " 'recorded',\n",
              " 'alternative',\n",
              " 'increasing',\n",
              " 'soup',\n",
              " 'delicious',\n",
              " 'maximum',\n",
              " 'loaded',\n",
              " 'performance',\n",
              " 'flow',\n",
              " '5',\n",
              " 'patch',\n",
              " 'production',\n",
              " 'additional',\n",
              " 'co',\n",
              " 'pellets',\n",
              " 'membrane',\n",
              " 'current',\n",
              " 'comparable',\n",
              " 'findings',\n",
              " 'receiving',\n",
              " 'ocular',\n",
              " 'amount',\n",
              " 'bone',\n",
              " 'provided',\n",
              " 'needed',\n",
              " 'mild',\n",
              " 'influence',\n",
              " 'dic',\n",
              " 'wheat',\n",
              " 'detection',\n",
              " 'since',\n",
              " 'site',\n",
              " 'affect',\n",
              " 'microg',\n",
              " 'them',\n",
              " 'whether',\n",
              " 'got',\n",
              " 'thus',\n",
              " 'paracetamol',\n",
              " 'hplc',\n",
              " 'medications',\n",
              " 'incidence',\n",
              " 'degree',\n",
              " 'design',\n",
              " 'clinically',\n",
              " 'liver',\n",
              " 'naproxen',\n",
              " 'determination',\n",
              " 'taking',\n",
              " 'easy',\n",
              " 'autographed',\n",
              " 'early',\n",
              " 'cataract',\n",
              " 'affected',\n",
              " 'index',\n",
              " 'nm',\n",
              " 'therefore',\n",
              " 'tests',\n",
              " 'brain',\n",
              " 'simple',\n",
              " 'factor',\n",
              " 'ketorolac',\n",
              " 'back',\n",
              " 'inhibitors',\n",
              " 'story',\n",
              " 'few',\n",
              " 'twice',\n",
              " 'beta',\n",
              " 'lipid',\n",
              " 'indicate',\n",
              " 'assess',\n",
              " 'aged',\n",
              " 'last',\n",
              " 'antiinflammatory',\n",
              " 'friends',\n",
              " 'preparations',\n",
              " 'looking',\n",
              " 'analyzed',\n",
              " 'characteristics',\n",
              " 'drops',\n",
              " 'treat',\n",
              " 'released',\n",
              " 'capsules',\n",
              " 'celecoxib',\n",
              " 'max',\n",
              " 'chocolate',\n",
              " 'cardiovascular',\n",
              " 'open',\n",
              " 'rheumatoid',\n",
              " 'rabbits',\n",
              " 'eyes',\n",
              " '2014',\n",
              " 'clearance',\n",
              " 'having',\n",
              " 'too',\n",
              " 'bread',\n",
              " 'thank',\n",
              " 'prolonged',\n",
              " 'gi',\n",
              " 'point',\n",
              " 'exhibited',\n",
              " 'responses',\n",
              " 'learn',\n",
              " 'syndrome',\n",
              " 'tissues',\n",
              " 'vascular',\n",
              " 'buffer',\n",
              " 'activities',\n",
              " 'pge',\n",
              " 'objective',\n",
              " 'cream',\n",
              " 'de',\n",
              " 'collected',\n",
              " 'known',\n",
              " 'penetration',\n",
              " 'next',\n",
              " 'bowl',\n",
              " 'outcome',\n",
              " 'alpha',\n",
              " 'crossover',\n",
              " 'child',\n",
              " 'several',\n",
              " 'faster',\n",
              " 'options',\n",
              " 'top',\n",
              " 'modified',\n",
              " 'solutions',\n",
              " 'salt',\n",
              " 'special',\n",
              " 'information',\n",
              " 'role',\n",
              " 'terms',\n",
              " 'transdermal',\n",
              " 'event',\n",
              " 'ability',\n",
              " 'phosphate',\n",
              " 'interesting',\n",
              " 've',\n",
              " 'dpsgc',\n",
              " 'support',\n",
              " 'death',\n",
              " 'ldl',\n",
              " 'management',\n",
              " 'extraction',\n",
              " 'kinetics',\n",
              " '10',\n",
              " 'foods',\n",
              " 'chitosan',\n",
              " 'positive',\n",
              " 'scanning',\n",
              " 'issues',\n",
              " 'capsule',\n",
              " 'forms',\n",
              " 'peg',\n",
              " 'america',\n",
              " 'cyclooxygenase',\n",
              " 'ak',\n",
              " 'enhanced',\n",
              " 'factors',\n",
              " 'density',\n",
              " 'short',\n",
              " 'arthrotec',\n",
              " 'another',\n",
              " 'fluid',\n",
              " 'dfs',\n",
              " 'develop',\n",
              " 'major',\n",
              " 'giveaway',\n",
              " 'recipes',\n",
              " 'intravenous',\n",
              " 'microm',\n",
              " 'randomised',\n",
              " 'receive',\n",
              " 'info',\n",
              " 'experience',\n",
              " 'analgesics',\n",
              " 'chloride',\n",
              " 'systems',\n",
              " 'tmax',\n",
              " 'sd',\n",
              " 'average',\n",
              " 'hp',\n",
              " 'dcf',\n",
              " 'testing',\n",
              " 'serious',\n",
              " 'microscopy',\n",
              " 'market',\n",
              " 'required',\n",
              " 'reasons',\n",
              " 'quinoa',\n",
              " 'binding',\n",
              " 'especially',\n",
              " 'hr',\n",
              " 'getting',\n",
              " 'injury',\n",
              " 'reduce',\n",
              " 'stability',\n",
              " 'coeliac',\n",
              " 'percent',\n",
              " 'suggested',\n",
              " 'across',\n",
              " 'laser',\n",
              " 'criteria',\n",
              " 'structure',\n",
              " 'flare',\n",
              " 'il',\n",
              " 'useful',\n",
              " 'headache',\n",
              " 'live',\n",
              " 'oil',\n",
              " 'feel',\n",
              " 'always',\n",
              " 'yes',\n",
              " 'orally',\n",
              " 'sr',\n",
              " 'particle',\n",
              " 'effectiveness',\n",
              " 'cs',\n",
              " 'likely',\n",
              " 'hpmc',\n",
              " 'excretion',\n",
              " 'drop',\n",
              " 'kcnq',\n",
              " 'selected',\n",
              " 'selective',\n",
              " 'potent',\n",
              " 'experiments',\n",
              " 'operative',\n",
              " 'morning',\n",
              " 'reducing',\n",
              " 'book',\n",
              " 'confirmed',\n",
              " 'eudragit',\n",
              " 'independent',\n",
              " 'percentage',\n",
              " 'analogue',\n",
              " 'kids',\n",
              " 'laboratory',\n",
              " 'interview',\n",
              " 'series',\n",
              " 'dosing',\n",
              " 'sunday',\n",
              " 'recently',\n",
              " 'injected',\n",
              " 'fed',\n",
              " 'list',\n",
              " 'experienced',\n",
              " 'df',\n",
              " 'variables',\n",
              " 'designed',\n",
              " 'really',\n",
              " 'measurements',\n",
              " 'result',\n",
              " 'metabolism',\n",
              " 'toxicity',\n",
              " 'ask',\n",
              " 'hospital',\n",
              " 'proposed',\n",
              " 'creatinine',\n",
              " 'acetaminophen',\n",
              " 'distribution',\n",
              " 'outcomes',\n",
              " 'rescue',\n",
              " 'cambia',\n",
              " 'individual',\n",
              " 'allergy',\n",
              " 'start',\n",
              " 'stem',\n",
              " 'limit',\n",
              " 'condition',\n",
              " 'community',\n",
              " 'highly',\n",
              " 'noted',\n",
              " 'coating',\n",
              " 'urinary',\n",
              " 'aes',\n",
              " 'seen',\n",
              " 'approximately',\n",
              " 'things',\n",
              " 'cookies',\n",
              " 'generic',\n",
              " 'molecular',\n",
              " 'curve',\n",
              " 'collagen',\n",
              " 'convention',\n",
              " 'diseases',\n",
              " 'able',\n",
              " 'involved',\n",
              " 'later',\n",
              " 'loading',\n",
              " 'must',\n",
              " 'validated',\n",
              " 'adult',\n",
              " 'occurred',\n",
              " 'seven',\n",
              " 'he',\n",
              " 'never',\n",
              " 'hip',\n",
              " 'behavior',\n",
              " 'prior',\n",
              " 'compounds',\n",
              " 'direct',\n",
              " 'link',\n",
              " 'procedure',\n",
              " 'assigned',\n",
              " 'optimized',\n",
              " 'ir',\n",
              " 'friendly',\n",
              " 'large',\n",
              " 'widely',\n",
              " '2013',\n",
              " 'pharmacokinetics',\n",
              " 'breakfast',\n",
              " 'central',\n",
              " 'twenty',\n",
              " 'parallel',\n",
              " 'respect',\n",
              " 'eight',\n",
              " 'chromatography',\n",
              " 'world',\n",
              " 'alginate',\n",
              " 'severity',\n",
              " 'chemical',\n",
              " 'fast',\n",
              " 'spectroscopy',\n",
              " 'ophthalmic',\n",
              " 'slow',\n",
              " 'median',\n",
              " 'absence',\n",
              " 'assay',\n",
              " 'powder',\n",
              " 'recommended',\n",
              " 'general',\n",
              " 'hand',\n",
              " 'suggests',\n",
              " 'detected',\n",
              " 'sample',\n",
              " 'electron',\n",
              " 'analog',\n",
              " 'mt',\n",
              " 'cost',\n",
              " 'metabolites',\n",
              " 'improve',\n",
              " 'micrograms',\n",
              " 'cake',\n",
              " 'population',\n",
              " 'recent',\n",
              " 'established',\n",
              " 'generally',\n",
              " 'visit',\n",
              " 'breaking',\n",
              " 'postoperatively',\n",
              " 'signs',\n",
              " 'suitable',\n",
              " 'half',\n",
              " 'degradation',\n",
              " 'differential',\n",
              " 'female',\n",
              " 'ray',\n",
              " 'target',\n",
              " 'medicine',\n",
              " 'relaxation',\n",
              " 'examination',\n",
              " ...]"
            ]
          },
          "metadata": {
            "tags": []
          },
          "execution_count": 17
        }
      ]
    },
    {
      "cell_type": "code",
      "metadata": {
        "id": "yPWr03mls3VT",
        "colab_type": "code",
        "outputId": "d45fddd3-da2f-47f5-a9c7-d690dfa70cde",
        "colab": {
          "base_uri": "https://localhost:8080/",
          "height": 17
        }
      },
      "source": [
        "model_path = path/'models'\n",
        "model_path.mkdir(exist_ok=True)\n",
        "url = 'http://files.fast.ai/models/wt103_v1/'\n",
        "download_url(f'{url}lstm_wt103.pth', model_path/'lstm_wt103.pth')\n",
        "download_url(f'{url}itos_wt103.pkl', model_path/'itos_wt103.pkl')"
      ],
      "execution_count": 18,
      "outputs": [
        {
          "output_type": "display_data",
          "data": {
            "text/html": [
              ""
            ],
            "text/plain": [
              "<IPython.core.display.HTML object>"
            ]
          },
          "metadata": {
            "tags": []
          }
        },
        {
          "output_type": "display_data",
          "data": {
            "text/html": [
              ""
            ],
            "text/plain": [
              "<IPython.core.display.HTML object>"
            ]
          },
          "metadata": {
            "tags": []
          }
        }
      ]
    },
    {
      "cell_type": "code",
      "metadata": {
        "id": "JRzvWg8RtGGr",
        "colab_type": "code",
        "colab": {
          "base_uri": "https://localhost:8080/",
          "height": 35
        },
        "outputId": "445b97a8-1d9f-448b-8150-310284170b04"
      },
      "source": [
        "learn = language_model_learner(data_lm, AWD_LSTM, drop_mult=0.5)"
      ],
      "execution_count": 19,
      "outputs": [
        {
          "output_type": "stream",
          "text": [
            "Downloading https://s3.amazonaws.com/fast-ai-modelzoo/wt103-fwd\n"
          ],
          "name": "stdout"
        },
        {
          "output_type": "display_data",
          "data": {
            "text/html": [
              ""
            ],
            "text/plain": [
              "<IPython.core.display.HTML object>"
            ]
          },
          "metadata": {
            "tags": []
          }
        }
      ]
    },
    {
      "cell_type": "code",
      "metadata": {
        "id": "xKK7GeBev7Xn",
        "colab_type": "code",
        "colab": {
          "base_uri": "https://localhost:8080/",
          "height": 79
        },
        "outputId": "75d9a3f2-56a3-4658-b861-ebade57b2275"
      },
      "source": [
        "learn.fit_one_cycle(1, 1e-2)"
      ],
      "execution_count": 20,
      "outputs": [
        {
          "output_type": "display_data",
          "data": {
            "text/html": [
              "<table border=\"1\" class=\"dataframe\">\n",
              "  <thead>\n",
              "    <tr style=\"text-align: left;\">\n",
              "      <th>epoch</th>\n",
              "      <th>train_loss</th>\n",
              "      <th>valid_loss</th>\n",
              "      <th>accuracy</th>\n",
              "      <th>time</th>\n",
              "    </tr>\n",
              "  </thead>\n",
              "  <tbody>\n",
              "    <tr>\n",
              "      <td>0</td>\n",
              "      <td>5.196001</td>\n",
              "      <td>4.581454</td>\n",
              "      <td>0.256901</td>\n",
              "      <td>22:04</td>\n",
              "    </tr>\n",
              "  </tbody>\n",
              "</table>"
            ],
            "text/plain": [
              "<IPython.core.display.HTML object>"
            ]
          },
          "metadata": {
            "tags": []
          }
        }
      ]
    },
    {
      "cell_type": "code",
      "metadata": {
        "id": "iB7rHGQCwd12",
        "colab_type": "code",
        "colab": {
          "base_uri": "https://localhost:8080/",
          "height": 79
        },
        "outputId": "a7b76ca7-821d-4e0b-d717-f740bd615002"
      },
      "source": [
        "learn.fit_one_cycle(1, 1e-2)"
      ],
      "execution_count": 21,
      "outputs": [
        {
          "output_type": "display_data",
          "data": {
            "text/html": [
              "<table border=\"1\" class=\"dataframe\">\n",
              "  <thead>\n",
              "    <tr style=\"text-align: left;\">\n",
              "      <th>epoch</th>\n",
              "      <th>train_loss</th>\n",
              "      <th>valid_loss</th>\n",
              "      <th>accuracy</th>\n",
              "      <th>time</th>\n",
              "    </tr>\n",
              "  </thead>\n",
              "  <tbody>\n",
              "    <tr>\n",
              "      <td>0</td>\n",
              "      <td>4.441399</td>\n",
              "      <td>4.245159</td>\n",
              "      <td>0.290420</td>\n",
              "      <td>22:06</td>\n",
              "    </tr>\n",
              "  </tbody>\n",
              "</table>"
            ],
            "text/plain": [
              "<IPython.core.display.HTML object>"
            ]
          },
          "metadata": {
            "tags": []
          }
        }
      ]
    },
    {
      "cell_type": "code",
      "metadata": {
        "id": "_BnSuAeCwkBe",
        "colab_type": "code",
        "colab": {
          "base_uri": "https://localhost:8080/",
          "height": 79
        },
        "outputId": "0c871e51-a0bd-4c87-f10d-15eebd776b55"
      },
      "source": [
        "learn.fit_one_cycle(1, 1e-3)"
      ],
      "execution_count": 22,
      "outputs": [
        {
          "output_type": "display_data",
          "data": {
            "text/html": [
              "<table border=\"1\" class=\"dataframe\">\n",
              "  <thead>\n",
              "    <tr style=\"text-align: left;\">\n",
              "      <th>epoch</th>\n",
              "      <th>train_loss</th>\n",
              "      <th>valid_loss</th>\n",
              "      <th>accuracy</th>\n",
              "      <th>time</th>\n",
              "    </tr>\n",
              "  </thead>\n",
              "  <tbody>\n",
              "    <tr>\n",
              "      <td>0</td>\n",
              "      <td>4.112816</td>\n",
              "      <td>4.205045</td>\n",
              "      <td>0.294355</td>\n",
              "      <td>22:11</td>\n",
              "    </tr>\n",
              "  </tbody>\n",
              "</table>"
            ],
            "text/plain": [
              "<IPython.core.display.HTML object>"
            ]
          },
          "metadata": {
            "tags": []
          }
        }
      ]
    },
    {
      "cell_type": "code",
      "metadata": {
        "id": "MuTm-RFjwrEX",
        "colab_type": "code",
        "colab": {
          "base_uri": "https://localhost:8080/",
          "height": 95
        },
        "outputId": "16c5db7b-1524-43f6-dc1b-f5e03a46d8c1"
      },
      "source": [
        "learn.fit_one_cycle(1, 1e-3)"
      ],
      "execution_count": 0,
      "outputs": [
        {
          "output_type": "display_data",
          "data": {
            "text/html": [
              "\n",
              "    <div>\n",
              "        <style>\n",
              "            /* Turns off some styling */\n",
              "            progress {\n",
              "                /* gets rid of default border in Firefox and Opera. */\n",
              "                border: none;\n",
              "                /* Needs to be in here for Safari polyfill so background images work as expected. */\n",
              "                background-size: auto;\n",
              "            }\n",
              "            .progress-bar-interrupted, .progress-bar-interrupted::-webkit-progress-bar {\n",
              "                background: #F44336;\n",
              "            }\n",
              "        </style>\n",
              "      <progress value='0' class='' max='1', style='width:300px; height:20px; vertical-align: middle;'></progress>\n",
              "      0.00% [0/1 00:00<00:00]\n",
              "    </div>\n",
              "    \n",
              "<table border=\"1\" class=\"dataframe\">\n",
              "  <thead>\n",
              "    <tr style=\"text-align: left;\">\n",
              "      <th>epoch</th>\n",
              "      <th>train_loss</th>\n",
              "      <th>valid_loss</th>\n",
              "      <th>accuracy</th>\n",
              "      <th>time</th>\n",
              "    </tr>\n",
              "  </thead>\n",
              "  <tbody>\n",
              "  </tbody>\n",
              "</table><p>\n",
              "\n",
              "    <div>\n",
              "        <style>\n",
              "            /* Turns off some styling */\n",
              "            progress {\n",
              "                /* gets rid of default border in Firefox and Opera. */\n",
              "                border: none;\n",
              "                /* Needs to be in here for Safari polyfill so background images work as expected. */\n",
              "                background-size: auto;\n",
              "            }\n",
              "            .progress-bar-interrupted, .progress-bar-interrupted::-webkit-progress-bar {\n",
              "                background: #F44336;\n",
              "            }\n",
              "        </style>\n",
              "      <progress value='7' class='' max='24', style='width:300px; height:20px; vertical-align: middle;'></progress>\n",
              "      29.17% [7/24 00:31<01:16]\n",
              "    </div>\n",
              "    "
            ],
            "text/plain": [
              "<IPython.core.display.HTML object>"
            ]
          },
          "metadata": {
            "tags": []
          }
        }
      ]
    },
    {
      "cell_type": "code",
      "metadata": {
        "id": "1Er2ExO8wr7Y",
        "colab_type": "code",
        "colab": {}
      },
      "source": [
        "learn.save_encoder('tuning_pubmed_bigtweet_overlap_0_first')"
      ],
      "execution_count": 0,
      "outputs": []
    },
    {
      "cell_type": "code",
      "metadata": {
        "id": "z52cZs2qwvad",
        "colab_type": "code",
        "colab": {}
      },
      "source": [
        "learn = text_classifier_learner(data_clas,AWD_LSTM, drop_mult=0.5)\n",
        "learn.load_encoder('tuning_pubmed_bigtweet_overlap_0_first')\n",
        "learn.fit_one_cycle(1, 1e-2)"
      ],
      "execution_count": 0,
      "outputs": []
    },
    {
      "cell_type": "code",
      "metadata": {
        "id": "ImwQP1PJwzxd",
        "colab_type": "code",
        "colab": {}
      },
      "source": [
        "learn.freeze_to(-2)\n",
        "learn.fit_one_cycle(1, slice(5e-3/2., 5e-3))"
      ],
      "execution_count": 0,
      "outputs": []
    },
    {
      "cell_type": "code",
      "metadata": {
        "id": "Owff_BJXw53u",
        "colab_type": "code",
        "colab": {}
      },
      "source": [
        "learn.unfreeze()\n",
        "learn.fit_one_cycle(1, slice(2e-3/100, 2e-3))"
      ],
      "execution_count": 0,
      "outputs": []
    },
    {
      "cell_type": "code",
      "metadata": {
        "id": "lqAyu56V8Waq",
        "colab_type": "code",
        "colab": {}
      },
      "source": [
        "learn.fit_one_cycle(2, slice(2e-3/100, 2e-3))"
      ],
      "execution_count": 0,
      "outputs": []
    },
    {
      "cell_type": "code",
      "metadata": {
        "id": "a7I1xMRp8bUd",
        "colab_type": "code",
        "colab": {}
      },
      "source": [
        "learn.fit_one_cycle(2, slice(2e-3/100, 2e-3))"
      ],
      "execution_count": 0,
      "outputs": []
    },
    {
      "cell_type": "code",
      "metadata": {
        "id": "UAnti-XmGVfO",
        "colab_type": "code",
        "colab": {}
      },
      "source": [
        "learn.fit_one_cycle(2, slice(2e-3/100, 2e-3))"
      ],
      "execution_count": 0,
      "outputs": []
    },
    {
      "cell_type": "code",
      "metadata": {
        "id": "bIft7W25GwSu",
        "colab_type": "code",
        "colab": {}
      },
      "source": [
        "learn.fit_one_cycle(2, slice(2e-3/100, 2e-3))"
      ],
      "execution_count": 0,
      "outputs": []
    },
    {
      "cell_type": "code",
      "metadata": {
        "id": "EEHszVRvGyFt",
        "colab_type": "code",
        "colab": {}
      },
      "source": [
        "learn.fit_one_cycle(2, slice(2e-3/100, 2e-3))"
      ],
      "execution_count": 0,
      "outputs": []
    },
    {
      "cell_type": "code",
      "metadata": {
        "id": "XsHfrhCHG3dN",
        "colab_type": "code",
        "colab": {}
      },
      "source": [
        "learn.fit_one_cycle(4, slice(2e-3/100, 2e-3))"
      ],
      "execution_count": 0,
      "outputs": []
    },
    {
      "cell_type": "code",
      "metadata": {
        "id": "0Zsd99isb9EQ",
        "colab_type": "code",
        "colab": {}
      },
      "source": [
        "learn.fit_one_cycle(4, slice(2e-3/100, 2e-3))"
      ],
      "execution_count": 0,
      "outputs": []
    },
    {
      "cell_type": "code",
      "metadata": {
        "id": "atNWNKDFPbuI",
        "colab_type": "code",
        "colab": {}
      },
      "source": [
        "learn.fit_one_cycle(4, slice(2e-3/100, 2e-3))"
      ],
      "execution_count": 0,
      "outputs": []
    },
    {
      "cell_type": "code",
      "metadata": {
        "id": "rKrBTZ0T1uVA",
        "colab_type": "code",
        "colab": {}
      },
      "source": [
        "learn.fit_one_cycle(4, slice(2e-3/100, 2e-3))"
      ],
      "execution_count": 0,
      "outputs": []
    },
    {
      "cell_type": "code",
      "metadata": {
        "id": "ajQC6WDg1yA9",
        "colab_type": "code",
        "colab": {}
      },
      "source": [
        "learn.fit_one_cycle(4, slice(2e-3/100, 2e-3))"
      ],
      "execution_count": 0,
      "outputs": []
    },
    {
      "cell_type": "code",
      "metadata": {
        "id": "KKydb0B4BKGk",
        "colab_type": "code",
        "colab": {}
      },
      "source": [
        "learn.fit_one_cycle(4, slice(2e-3/100, 2e-3))"
      ],
      "execution_count": 0,
      "outputs": []
    },
    {
      "cell_type": "code",
      "metadata": {
        "id": "T2APKtFKBpGY",
        "colab_type": "code",
        "colab": {}
      },
      "source": [
        "learn.fit_one_cycle(4, slice(2e-3/100, 2e-3))"
      ],
      "execution_count": 0,
      "outputs": []
    },
    {
      "cell_type": "code",
      "metadata": {
        "id": "qtTypA1sPgLU",
        "colab_type": "code",
        "colab": {}
      },
      "source": [
        "learn.fit_one_cycle(2, slice(2e-3/100, 2e-3))"
      ],
      "execution_count": 0,
      "outputs": []
    },
    {
      "cell_type": "code",
      "metadata": {
        "id": "b242kBsTUp9Y",
        "colab_type": "code",
        "colab": {}
      },
      "source": [
        "learn.fit_one_cycle(2, slice(2e-3/100, 2e-3))"
      ],
      "execution_count": 0,
      "outputs": []
    },
    {
      "cell_type": "code",
      "metadata": {
        "id": "Duwf1Ih5VeDZ",
        "colab_type": "code",
        "colab": {}
      },
      "source": [
        "learn.fit_one_cycle(1, slice(2e-3/100, 2e-3))"
      ],
      "execution_count": 0,
      "outputs": []
    },
    {
      "cell_type": "code",
      "metadata": {
        "id": "c65d-osfDUXm",
        "colab_type": "code",
        "colab": {}
      },
      "source": [
        "# save the best model\n",
        "\n",
        "learn.save_encoder('tuning_pubmed_bigtweet_overlap_0_last')"
      ],
      "execution_count": 0,
      "outputs": []
    },
    {
      "cell_type": "markdown",
      "metadata": {
        "id": "rCwZU0E2RgM6",
        "colab_type": "text"
      },
      "source": [
        "# Part three: Predict on the test dataset"
      ]
    },
    {
      "cell_type": "code",
      "metadata": {
        "id": "gDm72c-dOu7d",
        "colab_type": "code",
        "colab": {}
      },
      "source": [
        "# use the test data for prediction\n",
        "\n",
        "preds, y = learn.get_preds(DatasetType.Test)"
      ],
      "execution_count": 0,
      "outputs": []
    },
    {
      "cell_type": "code",
      "metadata": {
        "id": "6tFSQcsWPvxn",
        "colab_type": "code",
        "colab": {}
      },
      "source": [
        "predictions, *_ = learn.get_preds(DatasetType.Test)\n",
        "labels = np.argmax(predictions, 1)\n",
        "predict_list = labels.tolist()\n",
        "standard_list = test[0].tolist()\n",
        "\n",
        "print(len(predict_list))\n",
        "print(len(standard_list))\n",
        "\n",
        "print(predict_list)\n",
        "print(standard_list)"
      ],
      "execution_count": 0,
      "outputs": []
    },
    {
      "cell_type": "code",
      "metadata": {
        "id": "XIC4zufnMxtq",
        "colab_type": "code",
        "colab": {}
      },
      "source": [
        "correct_num = 0\n",
        "\n",
        "for i in range(0, len(standard_list)):\n",
        "  if predict_list[i] == standard_list[i]:\n",
        "    correct_num = correct_num+1\n",
        "  else:\n",
        "    pass\n",
        "print(correct_num)\n",
        "\n",
        "predict_accuracy = correct_num/len(predict_list)\n",
        "print(predict_accuracy)"
      ],
      "execution_count": 0,
      "outputs": []
    }
  ]
}