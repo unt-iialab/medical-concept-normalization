{
  "nbformat": 4,
  "nbformat_minor": 0,
  "metadata": {
    "colab": {
      "name": "twadr_pubmed_tweet_overlap_20.ipynb",
      "provenance": [],
      "collapsed_sections": [],
      "toc_visible": true,
      "include_colab_link": true
    },
    "kernelspec": {
      "name": "python3",
      "display_name": "Python 3"
    },
    "accelerator": "TPU"
  },
  "cells": [
    {
      "cell_type": "markdown",
      "metadata": {
        "id": "view-in-github",
        "colab_type": "text"
      },
      "source": [
        "<a href=\"https://colab.research.google.com/github/unt-iialab/medical-concept-normalization/blob/master/TwADR-L/Code/twadr_pubmed_tweet_overlap_20.ipynb\" target=\"_parent\"><img src=\"https://colab.research.google.com/assets/colab-badge.svg\" alt=\"Open In Colab\"/></a>"
      ]
    },
    {
      "cell_type": "code",
      "metadata": {
        "id": "adSi6i2-dWxy",
        "colab_type": "code",
        "colab": {}
      },
      "source": [
        "import os"
      ],
      "execution_count": 0,
      "outputs": []
    },
    {
      "cell_type": "code",
      "metadata": {
        "id": "E7xYCRGPjd9B",
        "colab_type": "code",
        "colab": {}
      },
      "source": [
        "base_dir = 'medical-concept-normalization'"
      ],
      "execution_count": 0,
      "outputs": []
    },
    {
      "cell_type": "code",
      "metadata": {
        "id": "yvIW3aUDjYNS",
        "colab_type": "code",
        "colab": {}
      },
      "source": [
        "if os.path.exists('medical-concept-normalization'):\n",
        "  print('folder exist')\n",
        "else:\n",
        "  os.mkdir(base_dir)"
      ],
      "execution_count": 0,
      "outputs": []
    },
    {
      "cell_type": "code",
      "metadata": {
        "id": "es-FFLlfk6SG",
        "colab_type": "code",
        "colab": {}
      },
      "source": [
        "if os.path.exists('medical-concept-normalization/data_collection'):\n",
        "  print('folder exist')\n",
        "else:\n",
        "  os.mkdir('medical-concept-normalization/data_collection')"
      ],
      "execution_count": 0,
      "outputs": []
    },
    {
      "cell_type": "markdown",
      "metadata": {
        "id": "0R-Guw_VoJXm",
        "colab_type": "text"
      },
      "source": [
        "**Install fastai and clone the fastai for text classification**\n",
        "\n"
      ]
    },
    {
      "cell_type": "code",
      "metadata": {
        "id": "QVZa3Z0PmHFH",
        "colab_type": "code",
        "outputId": "364e7a6b-524e-4efa-bd31-579ff8fca36e",
        "colab": {
          "base_uri": "https://localhost:8080/",
          "height": 89
        }
      },
      "source": [
        "!curl https://course-v3.fast.ai/setup/colab | bash"
      ],
      "execution_count": 5,
      "outputs": [
        {
          "output_type": "stream",
          "text": [
            "  % Total    % Received % Xferd  Average Speed   Time    Time     Time  Current\n",
            "                                 Dload  Upload   Total   Spent    Left  Speed\n",
            "\r  0     0    0     0    0     0      0      0 --:--:-- --:--:-- --:--:--     0curl: (6) Could not resolve host: course-v3.fast.ai\n"
          ],
          "name": "stdout"
        }
      ]
    },
    {
      "cell_type": "code",
      "metadata": {
        "id": "_FBFFEBrmJC0",
        "colab_type": "code",
        "outputId": "6167d5ee-926f-48f1-cf24-d6f3fdb01350",
        "colab": {
          "base_uri": "https://localhost:8080/",
          "height": 87
        }
      },
      "source": [
        "!git clone https://github.com/wshuyi/demo-nlp-classification-fastai.git"
      ],
      "execution_count": 6,
      "outputs": [
        {
          "output_type": "stream",
          "text": [
            "Cloning into 'demo-nlp-classification-fastai'...\n",
            "remote: Enumerating objects: 9, done.\u001b[K\n",
            "remote: Total 9 (delta 0), reused 0 (delta 0), pack-reused 9\u001b[K\n",
            "Unpacking objects: 100% (9/9), done.\n"
          ],
          "name": "stdout"
        }
      ]
    },
    {
      "cell_type": "code",
      "metadata": {
        "id": "66zfh_JqmWMU",
        "colab_type": "code",
        "colab": {}
      },
      "source": [
        "from fastai import *\n",
        "from fastai.text import *"
      ],
      "execution_count": 0,
      "outputs": []
    },
    {
      "cell_type": "markdown",
      "metadata": {
        "id": "mNIw-yALdBU9",
        "colab_type": "text"
      },
      "source": [
        "**Set the path of the data collections**"
      ]
    },
    {
      "cell_type": "code",
      "metadata": {
        "id": "pzH7VMh4mqCL",
        "colab_type": "code",
        "colab": {}
      },
      "source": [
        "path = Path('medical-concept-normalization/data_collection')"
      ],
      "execution_count": 0,
      "outputs": []
    },
    {
      "cell_type": "code",
      "metadata": {
        "id": "r8cdqCa-Oeog",
        "colab_type": "code",
        "colab": {}
      },
      "source": [
        "# datasets\n",
        "\n",
        "train_csv = 'https://raw.githubusercontent.com/unt-iialab/medical-concept-normalization/master/TwADR-L/Experiment%20(Change%20test%20dataset)/Training%20set/tward_training_folder_0.csv'\n",
        "valid_csv = 'https://raw.githubusercontent.com/unt-iialab/medical-concept-normalization/master/TwADR-L/Experiment%20(Change%20test%20dataset)/Validation%20set/tward_validation_folder_0.csv'\n",
        "test_csv = 'https://raw.githubusercontent.com/unt-iialab/medical-concept-normalization/master/TwADR-L/Experiment%20(Change%20test%20dataset)/Testing%20set/tward_testing_overlap_20.csv'\n",
        "fine_tuning_data = 'fine_tuning_language_model_pubmed_bigtweet_mixed.csv'"
      ],
      "execution_count": 0,
      "outputs": []
    },
    {
      "cell_type": "code",
      "metadata": {
        "id": "b8fjI6yyn4aS",
        "colab_type": "code",
        "outputId": "b047610a-52c9-4ce8-aafc-c2c78cadfe41",
        "colab": {
          "base_uri": "https://localhost:8080/",
          "height": 121
        }
      },
      "source": [
        "# training data set\n",
        "train = pd.read_csv(train_csv, header=None)\n",
        "print(train.head())\n",
        "\n",
        "# validating data set\n",
        "valid = pd.read_csv(valid_csv,header=None)\n",
        "# valid.head()\n",
        "\n",
        "# testing data set\n",
        "test = pd.read_csv(test_csv,header=None)\n",
        "# test.head()"
      ],
      "execution_count": 10,
      "outputs": [
        {
          "output_type": "stream",
          "text": [
            "      0                      1\n",
            "0  1945    Adrenergic syndrome\n",
            "1  1586  Hearing Loss, Partial\n",
            "2   580          Typhoid Fever\n",
            "3   784      Carcinoma of lung\n",
            "4   660              Pregnancy\n"
          ],
          "name": "stdout"
        }
      ]
    },
    {
      "cell_type": "code",
      "metadata": {
        "id": "Vo-YNvVYoaH6",
        "colab_type": "code",
        "outputId": "3df56e7e-38f9-4c41-95d2-7232a408e181",
        "colab": {
          "base_uri": "https://localhost:8080/",
          "height": 17
        }
      },
      "source": [
        "# Creating DataBunch for language modelling\n",
        "data_lm = TextLMDataBunch.from_csv(path, fine_tuning_data)"
      ],
      "execution_count": 12,
      "outputs": [
        {
          "output_type": "display_data",
          "data": {
            "text/html": [
              ""
            ],
            "text/plain": [
              "<IPython.core.display.HTML object>"
            ]
          },
          "metadata": {
            "tags": []
          }
        },
        {
          "output_type": "display_data",
          "data": {
            "text/html": [
              ""
            ],
            "text/plain": [
              "<IPython.core.display.HTML object>"
            ]
          },
          "metadata": {
            "tags": []
          }
        }
      ]
    },
    {
      "cell_type": "code",
      "metadata": {
        "id": "1ScY9afDsnvE",
        "colab_type": "code",
        "colab": {}
      },
      "source": [
        "# Creating DataBunch for classification\n",
        "\n",
        "# data_clas = TextClasDataBunch.from_df(path, train, valid, test, vocab=data_lm.train_ds.vocab, bs=128)"
      ],
      "execution_count": 0,
      "outputs": []
    },
    {
      "cell_type": "code",
      "metadata": {
        "id": "gzrSdQcvey9p",
        "colab_type": "code",
        "outputId": "f2a36470-a620-45cf-db16-35f932eaca49",
        "colab": {
          "base_uri": "https://localhost:8080/",
          "height": 17
        }
      },
      "source": [
        "data_clas = TextClasDataBunch.from_df(path, train, valid, vocab=data_lm.train_ds.vocab, bs=128)"
      ],
      "execution_count": 14,
      "outputs": [
        {
          "output_type": "display_data",
          "data": {
            "text/html": [
              ""
            ],
            "text/plain": [
              "<IPython.core.display.HTML object>"
            ]
          },
          "metadata": {
            "tags": []
          }
        },
        {
          "output_type": "display_data",
          "data": {
            "text/html": [
              ""
            ],
            "text/plain": [
              "<IPython.core.display.HTML object>"
            ]
          },
          "metadata": {
            "tags": []
          }
        }
      ]
    },
    {
      "cell_type": "code",
      "metadata": {
        "id": "MD27Tf0Ke3ou",
        "colab_type": "code",
        "outputId": "17ad9c0f-b765-4f24-c01e-22939442f97a",
        "colab": {
          "base_uri": "https://localhost:8080/",
          "height": 17
        }
      },
      "source": [
        "data_clas.add_test(test,label=0)"
      ],
      "execution_count": 15,
      "outputs": [
        {
          "output_type": "display_data",
          "data": {
            "text/html": [
              ""
            ],
            "text/plain": [
              "<IPython.core.display.HTML object>"
            ]
          },
          "metadata": {
            "tags": []
          }
        }
      ]
    },
    {
      "cell_type": "code",
      "metadata": {
        "id": "-dpjnk_rstwk",
        "colab_type": "code",
        "colab": {}
      },
      "source": [
        "data_lm.save()\n",
        "data_clas.save()"
      ],
      "execution_count": 0,
      "outputs": []
    },
    {
      "cell_type": "code",
      "metadata": {
        "id": "4OkiJa36sw5s",
        "colab_type": "code",
        "outputId": "ec697cd6-eaa6-4434-aab1-3e547454aa9b",
        "colab": {
          "base_uri": "https://localhost:8080/",
          "height": 1000
        }
      },
      "source": [
        "data_lm.train_ds.vocab.itos"
      ],
      "execution_count": 17,
      "outputs": [
        {
          "output_type": "execute_result",
          "data": {
            "text/plain": [
              "['xxunk',\n",
              " 'xxpad',\n",
              " 'xxbos',\n",
              " 'xxeos',\n",
              " 'xxfld',\n",
              " 'xxmaj',\n",
              " 'xxup',\n",
              " 'xxrep',\n",
              " 'xxwrep',\n",
              " 'the',\n",
              " 'of',\n",
              " 'and',\n",
              " 'in',\n",
              " 'to',\n",
              " 'a',\n",
              " 'for',\n",
              " 'with',\n",
              " 'diclofenac',\n",
              " 'was',\n",
              " 'were',\n",
              " 'on',\n",
              " 'is',\n",
              " 'rt',\n",
              " 'sodium',\n",
              " 'by',\n",
              " 'that',\n",
              " 'as',\n",
              " 'at',\n",
              " 'patients',\n",
              " 'or',\n",
              " 'this',\n",
              " 'from',\n",
              " 'drug',\n",
              " 'you',\n",
              " 'i',\n",
              " 'group',\n",
              " 'be',\n",
              " 'mg',\n",
              " 'study',\n",
              " 'disease',\n",
              " 'are',\n",
              " 'treatment',\n",
              " 'pain',\n",
              " 'after',\n",
              " 'an',\n",
              " 'not',\n",
              " 'amp',\n",
              " 'it',\n",
              " 'have',\n",
              " 'p',\n",
              " 'release',\n",
              " 'gluten',\n",
              " 'we',\n",
              " 'free',\n",
              " 'than',\n",
              " 'all',\n",
              " 'effect',\n",
              " 'no',\n",
              " 'new',\n",
              " 'compared',\n",
              " 'effects',\n",
              " 'using',\n",
              " 'more',\n",
              " 'groups',\n",
              " 'inflammatory',\n",
              " 'two',\n",
              " 'your',\n",
              " 'about',\n",
              " 'its',\n",
              " 'both',\n",
              " 'between',\n",
              " 'our',\n",
              " 'time',\n",
              " 'significantly',\n",
              " 'h',\n",
              " 'anti',\n",
              " 'drugs',\n",
              " 'significant',\n",
              " 'my',\n",
              " 'these',\n",
              " 'out',\n",
              " 'day',\n",
              " 'but',\n",
              " 'used',\n",
              " 'use',\n",
              " 'voltaren',\n",
              " 'which',\n",
              " 'can',\n",
              " 'dose',\n",
              " 'also',\n",
              " 'potassium',\n",
              " 'has',\n",
              " 'placebo',\n",
              " 'results',\n",
              " 'what',\n",
              " 'one',\n",
              " 'glutenfree',\n",
              " 'do',\n",
              " 'there',\n",
              " 's',\n",
              " 'efficacy',\n",
              " 'nt',\n",
              " 'may',\n",
              " 'days',\n",
              " 'celiac',\n",
              " 'ds',\n",
              " 'treated',\n",
              " 'm',\n",
              " 'w',\n",
              " 'ml',\n",
              " 'when',\n",
              " 'showed',\n",
              " 'had',\n",
              " 'topical',\n",
              " 'different',\n",
              " 'up',\n",
              " 'now',\n",
              " 'been',\n",
              " 'administration',\n",
              " 'via',\n",
              " 'oral',\n",
              " 'rats',\n",
              " 'studies',\n",
              " 'products',\n",
              " 'concentration',\n",
              " 'test',\n",
              " 'food',\n",
              " 'c',\n",
              " 'control',\n",
              " 'their',\n",
              " 'non',\n",
              " 'found',\n",
              " 'clinical',\n",
              " 'how',\n",
              " 'during',\n",
              " 'into',\n",
              " 'if',\n",
              " 'well',\n",
              " 'induced',\n",
              " 'method',\n",
              " 'did',\n",
              " 'could',\n",
              " 'respectively',\n",
              " 'formulations',\n",
              " 'acid',\n",
              " 'plasma',\n",
              " 'who',\n",
              " 'other',\n",
              " 'first',\n",
              " 'right',\n",
              " 'nsaids',\n",
              " 'hours',\n",
              " 'tablets',\n",
              " 'high',\n",
              " 'formulation',\n",
              " 'post',\n",
              " 'mean',\n",
              " 'solution',\n",
              " 'ph',\n",
              " 'effective',\n",
              " 'diet',\n",
              " 'n',\n",
              " 'review',\n",
              " 'rate',\n",
              " 'those',\n",
              " 'gel',\n",
              " 'three',\n",
              " 'observed',\n",
              " 'over',\n",
              " 'tip',\n",
              " 'g',\n",
              " 'blood',\n",
              " 'received',\n",
              " 'increased',\n",
              " 'only',\n",
              " 'analgesic',\n",
              " 'd',\n",
              " 'vitro',\n",
              " 'each',\n",
              " 'kg',\n",
              " 'adverse',\n",
              " 'analysis',\n",
              " 'so',\n",
              " 'controlled',\n",
              " 'activity',\n",
              " 'acute',\n",
              " 'levels',\n",
              " 'single',\n",
              " 'data',\n",
              " 'less',\n",
              " 'total',\n",
              " 'period',\n",
              " 'patient',\n",
              " 'atorvastatin',\n",
              " 'dblclick',\n",
              " 'following',\n",
              " 'concentrations',\n",
              " 'however',\n",
              " 'skin',\n",
              " 'randomized',\n",
              " 'low',\n",
              " 'pic',\n",
              " 'symptoms',\n",
              " 'l',\n",
              " 'week',\n",
              " 'evaluated',\n",
              " 'most',\n",
              " 'daily',\n",
              " 'model',\n",
              " 'before',\n",
              " 'they',\n",
              " 'here',\n",
              " 't',\n",
              " 'lower',\n",
              " 'surgery',\n",
              " 'good',\n",
              " 'why',\n",
              " 'under',\n",
              " 'postoperative',\n",
              " 'some',\n",
              " 'difference',\n",
              " 'renal',\n",
              " 'similar',\n",
              " 'nsaid',\n",
              " 'dissolution',\n",
              " 'years',\n",
              " 'obtained',\n",
              " 'check',\n",
              " 'cells',\n",
              " 'will',\n",
              " 'weeks',\n",
              " 'based',\n",
              " 'therapy',\n",
              " 'me',\n",
              " 'tablet',\n",
              " 'relief',\n",
              " 'know',\n",
              " 'increase',\n",
              " 'higher',\n",
              " 'b',\n",
              " 'should',\n",
              " 'double',\n",
              " 'any',\n",
              " 'present',\n",
              " 'combination',\n",
              " 'conditions',\n",
              " 'life',\n",
              " 'water',\n",
              " 'application',\n",
              " 'like',\n",
              " 'love',\n",
              " 'administered',\n",
              " 'prepared',\n",
              " 'healthy',\n",
              " 'values',\n",
              " 'just',\n",
              " 'four',\n",
              " 'get',\n",
              " 'associated',\n",
              " 'doses',\n",
              " 'reported',\n",
              " 'studied',\n",
              " 'trial',\n",
              " 're',\n",
              " 'order',\n",
              " 'vs',\n",
              " 'differences',\n",
              " 'while',\n",
              " 'changes',\n",
              " 'such',\n",
              " 'help',\n",
              " 'nonsteroidal',\n",
              " 'serum',\n",
              " 'containing',\n",
              " 'system',\n",
              " 'inflammation',\n",
              " 'reduced',\n",
              " 'performed',\n",
              " 'events',\n",
              " 'great',\n",
              " 'given',\n",
              " 'response',\n",
              " 'cell',\n",
              " 'subjects',\n",
              " 'gfb',\n",
              " 'due',\n",
              " 'us',\n",
              " 'min',\n",
              " 'within',\n",
              " 'investigated',\n",
              " 'absorption',\n",
              " 'side',\n",
              " 'better',\n",
              " 'x',\n",
              " 'developed',\n",
              " 'properties',\n",
              " 'need',\n",
              " 'blind',\n",
              " 'times',\n",
              " 'delivery',\n",
              " 'either',\n",
              " 'parameters',\n",
              " 'decreased',\n",
              " 'thanks',\n",
              " 'risk',\n",
              " 'safety',\n",
              " 'posted',\n",
              " 'steroidal',\n",
              " 'liquid',\n",
              " 'measured',\n",
              " 'phase',\n",
              " 'cholesterol',\n",
              " 'does',\n",
              " 'show',\n",
              " 'assessed',\n",
              " 'type',\n",
              " 'number',\n",
              " 'v',\n",
              " 'samples',\n",
              " 'reduction',\n",
              " 'ca',\n",
              " 'ratio',\n",
              " 'indomethacin',\n",
              " 'ng',\n",
              " 'injection',\n",
              " 'statistically',\n",
              " 'potential',\n",
              " 'vivo',\n",
              " 'recipe',\n",
              " 'people',\n",
              " 'auc',\n",
              " 'through',\n",
              " 'related',\n",
              " 'k',\n",
              " 'being',\n",
              " 'compare',\n",
              " 'e',\n",
              " 'level',\n",
              " 'without',\n",
              " 'function',\n",
              " 'primary',\n",
              " 'make',\n",
              " 'size',\n",
              " 'heres',\n",
              " 'health',\n",
              " 'intolerance',\n",
              " 'therapeutic',\n",
              " 'included',\n",
              " 'applied',\n",
              " 'lipitor',\n",
              " 'bioavailability',\n",
              " 'year',\n",
              " 'oa',\n",
              " 'development',\n",
              " '30',\n",
              " 'evaluate',\n",
              " 'medication',\n",
              " 'because',\n",
              " 'mm',\n",
              " 'living',\n",
              " 'human',\n",
              " 'available',\n",
              " 'very',\n",
              " 'determined',\n",
              " 'gastrointestinal',\n",
              " 'going',\n",
              " 'many',\n",
              " '\\r \\n ',\n",
              " 'scale',\n",
              " 'read',\n",
              " 'archives',\n",
              " 'best',\n",
              " 'sustained',\n",
              " 'area',\n",
              " 'eat',\n",
              " 'then',\n",
              " 'minutes',\n",
              " 'osteoarthritis',\n",
              " 'greater',\n",
              " 'range',\n",
              " 'months',\n",
              " 'visual',\n",
              " 'gastric',\n",
              " 'scores',\n",
              " 'cox',\n",
              " 'jennieo',\n",
              " 'sensitivity',\n",
              " 'tolerability',\n",
              " 'active',\n",
              " 'normal',\n",
              " 'form',\n",
              " 'tissue',\n",
              " 'coated',\n",
              " 'same',\n",
              " 'aim',\n",
              " 'change',\n",
              " 'arthritis',\n",
              " 'weight',\n",
              " 'end',\n",
              " 'aqueous',\n",
              " 'tips',\n",
              " 'polymer',\n",
              " 'dependent',\n",
              " 'action',\n",
              " 'baseline',\n",
              " 'news',\n",
              " 'revealed',\n",
              " 'per',\n",
              " 'severe',\n",
              " 'process',\n",
              " 'knee',\n",
              " 'matrix',\n",
              " 'think',\n",
              " 'demonstrated',\n",
              " 'case',\n",
              " 'article',\n",
              " 'addition',\n",
              " 'swelling',\n",
              " 'today',\n",
              " 'important',\n",
              " 'randomly',\n",
              " 'agent',\n",
              " 'long',\n",
              " 'cd',\n",
              " 'tested',\n",
              " 'chronic',\n",
              " 'inhibitor',\n",
              " 'various',\n",
              " 'standard',\n",
              " '1',\n",
              " 'local',\n",
              " 'presence',\n",
              " 'safe',\n",
              " 'score',\n",
              " 'dosage',\n",
              " 'animals',\n",
              " 'suggest',\n",
              " 'na',\n",
              " 'tolerated',\n",
              " 'exposure',\n",
              " 'inhibition',\n",
              " 'chicken',\n",
              " 'shown',\n",
              " 'treatments',\n",
              " 'follow',\n",
              " 'intensity',\n",
              " 'whereas',\n",
              " 'made',\n",
              " 'ii',\n",
              " 'further',\n",
              " 'relative',\n",
              " 'diagnosis',\n",
              " 'eye',\n",
              " 'decrease',\n",
              " 'product',\n",
              " 'improvement',\n",
              " 'volunteers',\n",
              " 'provide',\n",
              " 'part',\n",
              " 'mechanism',\n",
              " 'big',\n",
              " 'care',\n",
              " 'among',\n",
              " 'peak',\n",
              " 'way',\n",
              " 'hour',\n",
              " 'determine',\n",
              " 'mice',\n",
              " 'six',\n",
              " 'followed',\n",
              " 'pressure',\n",
              " 'reaction',\n",
              " '2',\n",
              " 'conducted',\n",
              " 'much',\n",
              " 'agents',\n",
              " 'formation',\n",
              " 'alone',\n",
              " 'awareness',\n",
              " 'indicated',\n",
              " 'caused',\n",
              " 'divided',\n",
              " 'old',\n",
              " 'although',\n",
              " 'age',\n",
              " 'misoprostol',\n",
              " 'combined',\n",
              " 'cases',\n",
              " 'trials',\n",
              " 'permeation',\n",
              " 'profiles',\n",
              " 'o',\n",
              " 'multiple',\n",
              " 'rat',\n",
              " 'sensitive',\n",
              " 'pizza',\n",
              " 'experimental',\n",
              " 'go',\n",
              " 'migraine',\n",
              " 'least',\n",
              " 'diagnosed',\n",
              " 'please',\n",
              " 'would',\n",
              " 'moderate',\n",
              " 'evaluation',\n",
              " 'protein',\n",
              " 'ibuprofen',\n",
              " 'resulted',\n",
              " '\\r \\n \\r \\n ',\n",
              " 'vehicle',\n",
              " 'profile',\n",
              " 'take',\n",
              " 'damage',\n",
              " 'r',\n",
              " 'including',\n",
              " 'share',\n",
              " 'blog',\n",
              " 'corneal',\n",
              " 'according',\n",
              " 'improved',\n",
              " 'pharmaceutical',\n",
              " 'microspheres',\n",
              " 'growth',\n",
              " 'secondary',\n",
              " 'content',\n",
              " 'cm',\n",
              " 'five',\n",
              " 'surface',\n",
              " 'pre',\n",
              " 'term',\n",
              " 'systemic',\n",
              " 'beads',\n",
              " 'vas',\n",
              " 'find',\n",
              " 'eating',\n",
              " '4',\n",
              " 'male',\n",
              " 'participants',\n",
              " 'month',\n",
              " 'analgesia',\n",
              " 'ever',\n",
              " 'versus',\n",
              " 'technique',\n",
              " 'happy',\n",
              " 'preparation',\n",
              " 'common',\n",
              " 'physical',\n",
              " 'th',\n",
              " 'carried',\n",
              " 'enteric',\n",
              " 'see',\n",
              " 'still',\n",
              " 'investigate',\n",
              " 'complete',\n",
              " 'reference',\n",
              " 'cross',\n",
              " 'where',\n",
              " 'efficiency',\n",
              " 'rapid',\n",
              " 'linked',\n",
              " 'f',\n",
              " 'temperature',\n",
              " 'commercial',\n",
              " 'achieved',\n",
              " 'assessment',\n",
              " 'synthesis',\n",
              " 'u',\n",
              " 'lesions',\n",
              " 'research',\n",
              " 'pharmacokinetic',\n",
              " 'cookbook',\n",
              " 'evidence',\n",
              " 'body',\n",
              " 'third',\n",
              " 'even',\n",
              " 'specific',\n",
              " 'want',\n",
              " 'de',\n",
              " 'cmax',\n",
              " 'onset',\n",
              " 'overall',\n",
              " 'duration',\n",
              " 'saline',\n",
              " 'soup',\n",
              " 'comparison',\n",
              " 'production',\n",
              " 'plus',\n",
              " 'pellets',\n",
              " 'dr',\n",
              " 'eyes',\n",
              " 'urine',\n",
              " 'muscle',\n",
              " 'cause',\n",
              " 'interaction',\n",
              " 'intestinal',\n",
              " 'second',\n",
              " 'rofecoxib',\n",
              " 'calcium',\n",
              " 'medical',\n",
              " 'thus',\n",
              " 'current',\n",
              " 'might',\n",
              " 'models',\n",
              " 'aspirin',\n",
              " 'global',\n",
              " 'produced',\n",
              " 'naproxen',\n",
              " 'prostaglandin',\n",
              " 'quality',\n",
              " 'work',\n",
              " 'ci',\n",
              " '5',\n",
              " 'co',\n",
              " 'expression',\n",
              " 'determination',\n",
              " 'degrees',\n",
              " 'amount',\n",
              " 'state',\n",
              " 'every',\n",
              " 'volume',\n",
              " 'design',\n",
              " 'edema',\n",
              " 'easy',\n",
              " 'intramuscular',\n",
              " 'paracetamol',\n",
              " 'solid',\n",
              " 'women',\n",
              " 'hplc',\n",
              " 'super',\n",
              " 'try',\n",
              " '2014',\n",
              " 'medium',\n",
              " 'therefore',\n",
              " 'diffusion',\n",
              " 'phosphate',\n",
              " 'increasing',\n",
              " 'preparations',\n",
              " 'methods',\n",
              " 'examined',\n",
              " 'liver',\n",
              " 'them',\n",
              " 'early',\n",
              " 'inhibited',\n",
              " 'detection',\n",
              " 'joint',\n",
              " 'considered',\n",
              " 'value',\n",
              " 'bone',\n",
              " 'autographed',\n",
              " 'loaded',\n",
              " 'against',\n",
              " 'extent',\n",
              " 'initial',\n",
              " 'maximum',\n",
              " 'simple',\n",
              " 'open',\n",
              " 'patch',\n",
              " 'possible',\n",
              " 'antiinflammatory',\n",
              " 'needed',\n",
              " 'influence',\n",
              " 'tissues',\n",
              " 'max',\n",
              " 'novel',\n",
              " 'indicate',\n",
              " 'once',\n",
              " 'beta',\n",
              " 'membrane',\n",
              " 'story',\n",
              " 'complex',\n",
              " 'additional',\n",
              " 'superior',\n",
              " 'rheumatoid',\n",
              " 'characterized',\n",
              " 'responses',\n",
              " 'terms',\n",
              " 'site',\n",
              " 'small',\n",
              " 'released',\n",
              " 'comparable',\n",
              " 'delicious',\n",
              " 'dic',\n",
              " 'gf',\n",
              " 'too',\n",
              " 'performance',\n",
              " 'friends',\n",
              " 'index',\n",
              " 'affect',\n",
              " 'cream',\n",
              " 'bread',\n",
              " 'got',\n",
              " 'rates',\n",
              " 'medications',\n",
              " 'drops',\n",
              " 'foods',\n",
              " 'incidence',\n",
              " 'provided',\n",
              " 'characteristics',\n",
              " 'syndrome',\n",
              " 'alternative',\n",
              " 'gi',\n",
              " 'assess',\n",
              " 'clinically',\n",
              " 'recorded',\n",
              " 'inhibitors',\n",
              " 'cataract',\n",
              " 'lipid',\n",
              " 'whether',\n",
              " 'extraction',\n",
              " 'children',\n",
              " 'affected',\n",
              " 'point',\n",
              " 'capsules',\n",
              " 'ketorolac',\n",
              " 'others',\n",
              " 'few',\n",
              " 'buffer',\n",
              " 'receiving',\n",
              " 'ocular',\n",
              " 'solubility',\n",
              " 'pge',\n",
              " 'nm',\n",
              " 'hp',\n",
              " 'outcome',\n",
              " 'chitosan',\n",
              " 'factor',\n",
              " 'twice',\n",
              " 'findings',\n",
              " 'fluid',\n",
              " 'back',\n",
              " 'thank',\n",
              " 'analyzed',\n",
              " 'wheat',\n",
              " 'learn',\n",
              " 'cardiovascular',\n",
              " 'top',\n",
              " 'degree',\n",
              " 'mild',\n",
              " 'major',\n",
              " 'support',\n",
              " 'giveaway',\n",
              " 'transdermal',\n",
              " 'vascular',\n",
              " 'enhanced',\n",
              " 'information',\n",
              " 'looking',\n",
              " 'rabbits',\n",
              " 'recipes',\n",
              " 'activities',\n",
              " 'across',\n",
              " 'brain',\n",
              " 'known',\n",
              " 'crossover',\n",
              " 'kinetics',\n",
              " 'next',\n",
              " 'cambia',\n",
              " 'cyclooxygenase',\n",
              " 'systems',\n",
              " 'treat',\n",
              " 'dpsgc',\n",
              " 'flow',\n",
              " 'hospital',\n",
              " 'alpha',\n",
              " 'capsule',\n",
              " 'management',\n",
              " 'issues',\n",
              " 'tests',\n",
              " 'allergy',\n",
              " 'role',\n",
              " 'feel',\n",
              " 'chocolate',\n",
              " 'modified',\n",
              " 'solutions',\n",
              " 'clearance',\n",
              " 'testing',\n",
              " 'required',\n",
              " 'factors',\n",
              " 'exhibited',\n",
              " 'experiments',\n",
              " 'since',\n",
              " 'options',\n",
              " 'particle',\n",
              " 'ldl',\n",
              " 'positive',\n",
              " 'procedure',\n",
              " 'later',\n",
              " 'ability',\n",
              " 'orally',\n",
              " 'short',\n",
              " 'taking',\n",
              " 'receive',\n",
              " 've',\n",
              " 'penetration',\n",
              " 'analgesics',\n",
              " 'ophthalmic',\n",
              " 'microg',\n",
              " 'another',\n",
              " 'seen',\n",
              " 'experience',\n",
              " 'useful',\n",
              " 'il',\n",
              " 'develop',\n",
              " 'especially',\n",
              " 'arthrotec',\n",
              " 'improve',\n",
              " 'forms',\n",
              " 'collected',\n",
              " 'bowl',\n",
              " 'serious',\n",
              " 'operative',\n",
              " 'signs',\n",
              " 'objective',\n",
              " 'dfs',\n",
              " 'child',\n",
              " 'market',\n",
              " 'prolonged',\n",
              " 'death',\n",
              " 'aes',\n",
              " 'selective',\n",
              " 'really',\n",
              " 'faster',\n",
              " 'several',\n",
              " 'last',\n",
              " 'suggested',\n",
              " 'scanning',\n",
              " 'always',\n",
              " 'special',\n",
              " 'oil',\n",
              " 'list',\n",
              " 'likely',\n",
              " 'quinoa',\n",
              " 'ak',\n",
              " 'occurred',\n",
              " 'alginate',\n",
              " 'info',\n",
              " 'start',\n",
              " 'aged',\n",
              " '10',\n",
              " 'rescue',\n",
              " 'density',\n",
              " 'prior',\n",
              " 'microscopy',\n",
              " 'structure',\n",
              " 'flare',\n",
              " 'eudragit',\n",
              " 'stability',\n",
              " 'drop',\n",
              " 'percentage',\n",
              " 'interview',\n",
              " 'coeliac',\n",
              " 'laser',\n",
              " 'having',\n",
              " 'microm',\n",
              " 'whole',\n",
              " 'he',\n",
              " 'intravenous',\n",
              " 'america',\n",
              " 'event',\n",
              " 'reducing',\n",
              " 'injury',\n",
              " 'tmax',\n",
              " 'assigned',\n",
              " 'dcf',\n",
              " 'page',\n",
              " 'potent',\n",
              " 'assay',\n",
              " 'confirmed',\n",
              " 'acetaminophen',\n",
              " 'generic',\n",
              " 'book',\n",
              " 'electron',\n",
              " 'getting',\n",
              " 'headache',\n",
              " 'toxicity',\n",
              " 'sr',\n",
              " 'experienced',\n",
              " 'injected',\n",
              " 'average',\n",
              " 'hr',\n",
              " 'sd',\n",
              " 'highly',\n",
              " 'interesting',\n",
              " 'designed',\n",
              " 'target',\n",
              " 'chloride',\n",
              " 'peg',\n",
              " 'selected',\n",
              " 'metabolites',\n",
              " 'celecoxib',\n",
              " 'live',\n",
              " 'df',\n",
              " 'distribution',\n",
              " 'dosing',\n",
              " 'widely',\n",
              " 'compounds',\n",
              " 'plant',\n",
              " 'validated',\n",
              " 'reduce',\n",
              " 'measurements',\n",
              " 'loading',\n",
              " 'curve',\n",
              " 'analogue',\n",
              " 'hip',\n",
              " 'report',\n",
              " 'hpmc',\n",
              " 'effectiveness',\n",
              " 'diseases',\n",
              " 'individual',\n",
              " 'postoperatively',\n",
              " 'limit',\n",
              " 'creatinine',\n",
              " 'avoid',\n",
              " 'independent',\n",
              " 'metabolism',\n",
              " 'interactions',\n",
              " 'adsorption',\n",
              " 'own',\n",
              " 'excretion',\n",
              " 'criteria',\n",
              " 'her',\n",
              " 'result',\n",
              " 'friendly',\n",
              " 'condition',\n",
              " 'population',\n",
              " 'established',\n",
              " 'prescribed',\n",
              " 'yes',\n",
              " 'molecular',\n",
              " 'chromatography',\n",
              " 'outcomes',\n",
              " 'makes',\n",
              " 'interval',\n",
              " 'sample',\n",
              " 'breakfast',\n",
              " 'hand',\n",
              " 'slow',\n",
              " 'world',\n",
              " 'randomised',\n",
              " 'approach',\n",
              " 'link',\n",
              " 'community',\n",
              " 'ask',\n",
              " 'able',\n",
              " 'binding',\n",
              " 'chemical',\n",
              " 'proposed',\n",
              " 'recently',\n",
              " 'ty',\n",
              " 'central',\n",
              " 'series',\n",
              " 'urinary',\n",
              " 'recommended',\n",
              " 'activation',\n",
              " 'behavior',\n",
              " 'morning',\n",
              " 'equivalent',\n",
              " 'laboratory',\n",
              " 'percent',\n",
              " 'stem',\n",
              " 'statin',\n",
              " '3',\n",
              " 'cookies',\n",
              " 'salt',\n",
              " 'spectroscopy',\n",
              " 'female',\n",
              " 'respect',\n",
              " 'approximately',\n",
              " 'breaking',\n",
              " 'media',\n",
              " 'mt',\n",
              " 'reasons',\n",
              " 'statins',\n",
              " 'zero',\n",
              " 'detected',\n",
              " 'cs',\n",
              " 'adult',\n",
              " 'variables',\n",
              " 'oh',\n",
              " 'latest',\n",
              " 'relaxation',\n",
              " 'down',\n",
              " 'analog',\n",
              " 'dsg',\n",
              " 'cellulose',\n",
              " 'lowering',\n",
              " 'medicine',\n",
              " 'direct',\n",
              " 'collagen',\n",
              " 'large',\n",
              " 'reactions',\n",
              " 'often',\n",
              " 'sunday',\n",
              " 'his',\n",
              " 'encapsulation',\n",
              " 'involved',\n",
              " 'frequently',\n",
              " 'ten',\n",
              " 'kids',\n",
              " 'suitable',\n",
              " 'fast',\n",
              " ...]"
            ]
          },
          "metadata": {
            "tags": []
          },
          "execution_count": 17
        }
      ]
    },
    {
      "cell_type": "code",
      "metadata": {
        "id": "yPWr03mls3VT",
        "colab_type": "code",
        "outputId": "725cf683-52dd-4975-b00e-e637ece44a3b",
        "colab": {
          "base_uri": "https://localhost:8080/",
          "height": 17
        }
      },
      "source": [
        "model_path = path/'models'\n",
        "model_path.mkdir(exist_ok=True)\n",
        "url = 'http://files.fast.ai/models/wt103_v1/'\n",
        "download_url(f'{url}lstm_wt103.pth', model_path/'lstm_wt103.pth')\n",
        "download_url(f'{url}itos_wt103.pkl', model_path/'itos_wt103.pkl')"
      ],
      "execution_count": 18,
      "outputs": [
        {
          "output_type": "display_data",
          "data": {
            "text/html": [
              ""
            ],
            "text/plain": [
              "<IPython.core.display.HTML object>"
            ]
          },
          "metadata": {
            "tags": []
          }
        },
        {
          "output_type": "display_data",
          "data": {
            "text/html": [
              ""
            ],
            "text/plain": [
              "<IPython.core.display.HTML object>"
            ]
          },
          "metadata": {
            "tags": []
          }
        }
      ]
    },
    {
      "cell_type": "code",
      "metadata": {
        "id": "JRzvWg8RtGGr",
        "colab_type": "code",
        "colab": {
          "base_uri": "https://localhost:8080/",
          "height": 35
        },
        "outputId": "39077b64-2476-4220-81f5-f03d2ec02ef7"
      },
      "source": [
        "learn = language_model_learner(data_lm, AWD_LSTM, drop_mult=0.5)"
      ],
      "execution_count": 19,
      "outputs": [
        {
          "output_type": "stream",
          "text": [
            "Downloading https://s3.amazonaws.com/fast-ai-modelzoo/wt103-fwd\n"
          ],
          "name": "stdout"
        },
        {
          "output_type": "display_data",
          "data": {
            "text/html": [
              ""
            ],
            "text/plain": [
              "<IPython.core.display.HTML object>"
            ]
          },
          "metadata": {
            "tags": []
          }
        }
      ]
    },
    {
      "cell_type": "code",
      "metadata": {
        "id": "xKK7GeBev7Xn",
        "colab_type": "code",
        "colab": {
          "base_uri": "https://localhost:8080/",
          "height": 79
        },
        "outputId": "42a33e74-e3c2-43f1-fd09-7aae21ba84a3"
      },
      "source": [
        "learn.fit_one_cycle(1, 1e-2)"
      ],
      "execution_count": 20,
      "outputs": [
        {
          "output_type": "display_data",
          "data": {
            "text/html": [
              "<table border=\"1\" class=\"dataframe\">\n",
              "  <thead>\n",
              "    <tr style=\"text-align: left;\">\n",
              "      <th>epoch</th>\n",
              "      <th>train_loss</th>\n",
              "      <th>valid_loss</th>\n",
              "      <th>accuracy</th>\n",
              "      <th>time</th>\n",
              "    </tr>\n",
              "  </thead>\n",
              "  <tbody>\n",
              "    <tr>\n",
              "      <td>0</td>\n",
              "      <td>5.188019</td>\n",
              "      <td>4.615873</td>\n",
              "      <td>0.251321</td>\n",
              "      <td>21:50</td>\n",
              "    </tr>\n",
              "  </tbody>\n",
              "</table>"
            ],
            "text/plain": [
              "<IPython.core.display.HTML object>"
            ]
          },
          "metadata": {
            "tags": []
          }
        }
      ]
    },
    {
      "cell_type": "code",
      "metadata": {
        "id": "iB7rHGQCwd12",
        "colab_type": "code",
        "colab": {
          "base_uri": "https://localhost:8080/",
          "height": 79
        },
        "outputId": "2cddfe16-7999-4114-acc0-8394a4a7902b"
      },
      "source": [
        "learn.fit_one_cycle(1, 1e-2)"
      ],
      "execution_count": 21,
      "outputs": [
        {
          "output_type": "display_data",
          "data": {
            "text/html": [
              "<table border=\"1\" class=\"dataframe\">\n",
              "  <thead>\n",
              "    <tr style=\"text-align: left;\">\n",
              "      <th>epoch</th>\n",
              "      <th>train_loss</th>\n",
              "      <th>valid_loss</th>\n",
              "      <th>accuracy</th>\n",
              "      <th>time</th>\n",
              "    </tr>\n",
              "  </thead>\n",
              "  <tbody>\n",
              "    <tr>\n",
              "      <td>0</td>\n",
              "      <td>4.434154</td>\n",
              "      <td>4.271044</td>\n",
              "      <td>0.285370</td>\n",
              "      <td>21:49</td>\n",
              "    </tr>\n",
              "  </tbody>\n",
              "</table>"
            ],
            "text/plain": [
              "<IPython.core.display.HTML object>"
            ]
          },
          "metadata": {
            "tags": []
          }
        }
      ]
    },
    {
      "cell_type": "code",
      "metadata": {
        "id": "_BnSuAeCwkBe",
        "colab_type": "code",
        "colab": {
          "base_uri": "https://localhost:8080/",
          "height": 79
        },
        "outputId": "4e652ddd-73e7-4732-b48c-f7e3167b1167"
      },
      "source": [
        "learn.fit_one_cycle(1, 1e-3)"
      ],
      "execution_count": 22,
      "outputs": [
        {
          "output_type": "display_data",
          "data": {
            "text/html": [
              "<table border=\"1\" class=\"dataframe\">\n",
              "  <thead>\n",
              "    <tr style=\"text-align: left;\">\n",
              "      <th>epoch</th>\n",
              "      <th>train_loss</th>\n",
              "      <th>valid_loss</th>\n",
              "      <th>accuracy</th>\n",
              "      <th>time</th>\n",
              "    </tr>\n",
              "  </thead>\n",
              "  <tbody>\n",
              "    <tr>\n",
              "      <td>0</td>\n",
              "      <td>4.123131</td>\n",
              "      <td>4.231622</td>\n",
              "      <td>0.289462</td>\n",
              "      <td>21:50</td>\n",
              "    </tr>\n",
              "  </tbody>\n",
              "</table>"
            ],
            "text/plain": [
              "<IPython.core.display.HTML object>"
            ]
          },
          "metadata": {
            "tags": []
          }
        }
      ]
    },
    {
      "cell_type": "code",
      "metadata": {
        "id": "MuTm-RFjwrEX",
        "colab_type": "code",
        "colab": {
          "base_uri": "https://localhost:8080/",
          "height": 79
        },
        "outputId": "e05b0611-a437-45d7-f929-9c755fa9e83d"
      },
      "source": [
        "learn.fit_one_cycle(1, 1e-3)"
      ],
      "execution_count": 23,
      "outputs": [
        {
          "output_type": "display_data",
          "data": {
            "text/html": [
              "<table border=\"1\" class=\"dataframe\">\n",
              "  <thead>\n",
              "    <tr style=\"text-align: left;\">\n",
              "      <th>epoch</th>\n",
              "      <th>train_loss</th>\n",
              "      <th>valid_loss</th>\n",
              "      <th>accuracy</th>\n",
              "      <th>time</th>\n",
              "    </tr>\n",
              "  </thead>\n",
              "  <tbody>\n",
              "    <tr>\n",
              "      <td>0</td>\n",
              "      <td>4.076591</td>\n",
              "      <td>4.200237</td>\n",
              "      <td>0.292773</td>\n",
              "      <td>21:40</td>\n",
              "    </tr>\n",
              "  </tbody>\n",
              "</table>"
            ],
            "text/plain": [
              "<IPython.core.display.HTML object>"
            ]
          },
          "metadata": {
            "tags": []
          }
        }
      ]
    },
    {
      "cell_type": "code",
      "metadata": {
        "id": "1Er2ExO8wr7Y",
        "colab_type": "code",
        "colab": {}
      },
      "source": [
        "learn.save_encoder('tuning_pubmed_bigtweet_overlap_0_first')"
      ],
      "execution_count": 0,
      "outputs": []
    },
    {
      "cell_type": "code",
      "metadata": {
        "id": "z52cZs2qwvad",
        "colab_type": "code",
        "colab": {
          "base_uri": "https://localhost:8080/",
          "height": 79
        },
        "outputId": "1049fa8f-574a-4a8a-a84b-4dfca1dac21d"
      },
      "source": [
        "learn = text_classifier_learner(data_clas,AWD_LSTM, drop_mult=0.5)\n",
        "learn.load_encoder('tuning_pubmed_bigtweet_overlap_0_first')\n",
        "learn.fit_one_cycle(1, 1e-2)"
      ],
      "execution_count": 25,
      "outputs": [
        {
          "output_type": "display_data",
          "data": {
            "text/html": [
              "<table border=\"1\" class=\"dataframe\">\n",
              "  <thead>\n",
              "    <tr style=\"text-align: left;\">\n",
              "      <th>epoch</th>\n",
              "      <th>train_loss</th>\n",
              "      <th>valid_loss</th>\n",
              "      <th>accuracy</th>\n",
              "      <th>time</th>\n",
              "    </tr>\n",
              "  </thead>\n",
              "  <tbody>\n",
              "    <tr>\n",
              "      <td>0</td>\n",
              "      <td>7.103562</td>\n",
              "      <td>6.363090</td>\n",
              "      <td>0.130435</td>\n",
              "      <td>00:52</td>\n",
              "    </tr>\n",
              "  </tbody>\n",
              "</table>"
            ],
            "text/plain": [
              "<IPython.core.display.HTML object>"
            ]
          },
          "metadata": {
            "tags": []
          }
        }
      ]
    },
    {
      "cell_type": "code",
      "metadata": {
        "id": "ImwQP1PJwzxd",
        "colab_type": "code",
        "colab": {
          "base_uri": "https://localhost:8080/",
          "height": 79
        },
        "outputId": "b5ab0ea3-ccd9-43d7-fe92-237832a71b22"
      },
      "source": [
        "learn.freeze_to(-2)\n",
        "learn.fit_one_cycle(1, slice(5e-3/2., 5e-3))"
      ],
      "execution_count": 26,
      "outputs": [
        {
          "output_type": "display_data",
          "data": {
            "text/html": [
              "<table border=\"1\" class=\"dataframe\">\n",
              "  <thead>\n",
              "    <tr style=\"text-align: left;\">\n",
              "      <th>epoch</th>\n",
              "      <th>train_loss</th>\n",
              "      <th>valid_loss</th>\n",
              "      <th>accuracy</th>\n",
              "      <th>time</th>\n",
              "    </tr>\n",
              "  </thead>\n",
              "  <tbody>\n",
              "    <tr>\n",
              "      <td>0</td>\n",
              "      <td>6.210863</td>\n",
              "      <td>5.227492</td>\n",
              "      <td>0.165217</td>\n",
              "      <td>00:51</td>\n",
              "    </tr>\n",
              "  </tbody>\n",
              "</table>"
            ],
            "text/plain": [
              "<IPython.core.display.HTML object>"
            ]
          },
          "metadata": {
            "tags": []
          }
        }
      ]
    },
    {
      "cell_type": "code",
      "metadata": {
        "id": "Owff_BJXw53u",
        "colab_type": "code",
        "colab": {
          "base_uri": "https://localhost:8080/",
          "height": 79
        },
        "outputId": "e79e0ab7-2e2d-4a7f-9bc5-470c900c71a9"
      },
      "source": [
        "learn.unfreeze()\n",
        "learn.fit_one_cycle(1, slice(2e-3/100, 2e-3))"
      ],
      "execution_count": 27,
      "outputs": [
        {
          "output_type": "display_data",
          "data": {
            "text/html": [
              "<table border=\"1\" class=\"dataframe\">\n",
              "  <thead>\n",
              "    <tr style=\"text-align: left;\">\n",
              "      <th>epoch</th>\n",
              "      <th>train_loss</th>\n",
              "      <th>valid_loss</th>\n",
              "      <th>accuracy</th>\n",
              "      <th>time</th>\n",
              "    </tr>\n",
              "  </thead>\n",
              "  <tbody>\n",
              "    <tr>\n",
              "      <td>0</td>\n",
              "      <td>5.744867</td>\n",
              "      <td>4.817636</td>\n",
              "      <td>0.173913</td>\n",
              "      <td>01:08</td>\n",
              "    </tr>\n",
              "  </tbody>\n",
              "</table>"
            ],
            "text/plain": [
              "<IPython.core.display.HTML object>"
            ]
          },
          "metadata": {
            "tags": []
          }
        }
      ]
    },
    {
      "cell_type": "code",
      "metadata": {
        "id": "lqAyu56V8Waq",
        "colab_type": "code",
        "colab": {
          "base_uri": "https://localhost:8080/",
          "height": 110
        },
        "outputId": "42cb2b2d-7e07-4176-bd2f-059b52566738"
      },
      "source": [
        "learn.fit_one_cycle(2, slice(2e-3/100, 2e-3))"
      ],
      "execution_count": 28,
      "outputs": [
        {
          "output_type": "display_data",
          "data": {
            "text/html": [
              "<table border=\"1\" class=\"dataframe\">\n",
              "  <thead>\n",
              "    <tr style=\"text-align: left;\">\n",
              "      <th>epoch</th>\n",
              "      <th>train_loss</th>\n",
              "      <th>valid_loss</th>\n",
              "      <th>accuracy</th>\n",
              "      <th>time</th>\n",
              "    </tr>\n",
              "  </thead>\n",
              "  <tbody>\n",
              "    <tr>\n",
              "      <td>0</td>\n",
              "      <td>5.478954</td>\n",
              "      <td>4.497169</td>\n",
              "      <td>0.200000</td>\n",
              "      <td>01:04</td>\n",
              "    </tr>\n",
              "    <tr>\n",
              "      <td>1</td>\n",
              "      <td>5.291551</td>\n",
              "      <td>4.397794</td>\n",
              "      <td>0.165217</td>\n",
              "      <td>01:09</td>\n",
              "    </tr>\n",
              "  </tbody>\n",
              "</table>"
            ],
            "text/plain": [
              "<IPython.core.display.HTML object>"
            ]
          },
          "metadata": {
            "tags": []
          }
        }
      ]
    },
    {
      "cell_type": "code",
      "metadata": {
        "id": "a7I1xMRp8bUd",
        "colab_type": "code",
        "colab": {
          "base_uri": "https://localhost:8080/",
          "height": 110
        },
        "outputId": "98458dc5-b184-4b7c-a00f-9f7334742535"
      },
      "source": [
        "learn.fit_one_cycle(2, slice(2e-3/100, 2e-3))"
      ],
      "execution_count": 29,
      "outputs": [
        {
          "output_type": "display_data",
          "data": {
            "text/html": [
              "<table border=\"1\" class=\"dataframe\">\n",
              "  <thead>\n",
              "    <tr style=\"text-align: left;\">\n",
              "      <th>epoch</th>\n",
              "      <th>train_loss</th>\n",
              "      <th>valid_loss</th>\n",
              "      <th>accuracy</th>\n",
              "      <th>time</th>\n",
              "    </tr>\n",
              "  </thead>\n",
              "  <tbody>\n",
              "    <tr>\n",
              "      <td>0</td>\n",
              "      <td>5.086654</td>\n",
              "      <td>4.228884</td>\n",
              "      <td>0.226087</td>\n",
              "      <td>01:08</td>\n",
              "    </tr>\n",
              "    <tr>\n",
              "      <td>1</td>\n",
              "      <td>4.927964</td>\n",
              "      <td>4.174865</td>\n",
              "      <td>0.226087</td>\n",
              "      <td>01:05</td>\n",
              "    </tr>\n",
              "  </tbody>\n",
              "</table>"
            ],
            "text/plain": [
              "<IPython.core.display.HTML object>"
            ]
          },
          "metadata": {
            "tags": []
          }
        }
      ]
    },
    {
      "cell_type": "code",
      "metadata": {
        "id": "UAnti-XmGVfO",
        "colab_type": "code",
        "colab": {
          "base_uri": "https://localhost:8080/",
          "height": 110
        },
        "outputId": "8b6af879-38f4-473a-b984-5af7054e4ce0"
      },
      "source": [
        "learn.fit_one_cycle(2, slice(2e-3/100, 2e-3))"
      ],
      "execution_count": 30,
      "outputs": [
        {
          "output_type": "display_data",
          "data": {
            "text/html": [
              "<table border=\"1\" class=\"dataframe\">\n",
              "  <thead>\n",
              "    <tr style=\"text-align: left;\">\n",
              "      <th>epoch</th>\n",
              "      <th>train_loss</th>\n",
              "      <th>valid_loss</th>\n",
              "      <th>accuracy</th>\n",
              "      <th>time</th>\n",
              "    </tr>\n",
              "  </thead>\n",
              "  <tbody>\n",
              "    <tr>\n",
              "      <td>0</td>\n",
              "      <td>4.785192</td>\n",
              "      <td>4.023246</td>\n",
              "      <td>0.269565</td>\n",
              "      <td>01:07</td>\n",
              "    </tr>\n",
              "    <tr>\n",
              "      <td>1</td>\n",
              "      <td>4.640033</td>\n",
              "      <td>3.981030</td>\n",
              "      <td>0.269565</td>\n",
              "      <td>01:04</td>\n",
              "    </tr>\n",
              "  </tbody>\n",
              "</table>"
            ],
            "text/plain": [
              "<IPython.core.display.HTML object>"
            ]
          },
          "metadata": {
            "tags": []
          }
        }
      ]
    },
    {
      "cell_type": "code",
      "metadata": {
        "id": "bIft7W25GwSu",
        "colab_type": "code",
        "colab": {
          "base_uri": "https://localhost:8080/",
          "height": 110
        },
        "outputId": "35a8330e-eecc-4d6d-8cb1-1cd60f5420d6"
      },
      "source": [
        "learn.fit_one_cycle(2, slice(2e-3/100, 2e-3))"
      ],
      "execution_count": 31,
      "outputs": [
        {
          "output_type": "display_data",
          "data": {
            "text/html": [
              "<table border=\"1\" class=\"dataframe\">\n",
              "  <thead>\n",
              "    <tr style=\"text-align: left;\">\n",
              "      <th>epoch</th>\n",
              "      <th>train_loss</th>\n",
              "      <th>valid_loss</th>\n",
              "      <th>accuracy</th>\n",
              "      <th>time</th>\n",
              "    </tr>\n",
              "  </thead>\n",
              "  <tbody>\n",
              "    <tr>\n",
              "      <td>0</td>\n",
              "      <td>4.462239</td>\n",
              "      <td>3.989191</td>\n",
              "      <td>0.234783</td>\n",
              "      <td>01:07</td>\n",
              "    </tr>\n",
              "    <tr>\n",
              "      <td>1</td>\n",
              "      <td>4.354757</td>\n",
              "      <td>3.915006</td>\n",
              "      <td>0.260870</td>\n",
              "      <td>01:03</td>\n",
              "    </tr>\n",
              "  </tbody>\n",
              "</table>"
            ],
            "text/plain": [
              "<IPython.core.display.HTML object>"
            ]
          },
          "metadata": {
            "tags": []
          }
        }
      ]
    },
    {
      "cell_type": "code",
      "metadata": {
        "id": "EEHszVRvGyFt",
        "colab_type": "code",
        "colab": {
          "base_uri": "https://localhost:8080/",
          "height": 110
        },
        "outputId": "c84c7077-1993-4bd3-b0d3-1d98f1a65d70"
      },
      "source": [
        "learn.fit_one_cycle(2, slice(2e-3/100, 2e-3))"
      ],
      "execution_count": 32,
      "outputs": [
        {
          "output_type": "display_data",
          "data": {
            "text/html": [
              "<table border=\"1\" class=\"dataframe\">\n",
              "  <thead>\n",
              "    <tr style=\"text-align: left;\">\n",
              "      <th>epoch</th>\n",
              "      <th>train_loss</th>\n",
              "      <th>valid_loss</th>\n",
              "      <th>accuracy</th>\n",
              "      <th>time</th>\n",
              "    </tr>\n",
              "  </thead>\n",
              "  <tbody>\n",
              "    <tr>\n",
              "      <td>0</td>\n",
              "      <td>4.234307</td>\n",
              "      <td>3.908525</td>\n",
              "      <td>0.226087</td>\n",
              "      <td>01:08</td>\n",
              "    </tr>\n",
              "    <tr>\n",
              "      <td>1</td>\n",
              "      <td>4.084385</td>\n",
              "      <td>3.905091</td>\n",
              "      <td>0.269565</td>\n",
              "      <td>01:02</td>\n",
              "    </tr>\n",
              "  </tbody>\n",
              "</table>"
            ],
            "text/plain": [
              "<IPython.core.display.HTML object>"
            ]
          },
          "metadata": {
            "tags": []
          }
        }
      ]
    },
    {
      "cell_type": "code",
      "metadata": {
        "id": "XsHfrhCHG3dN",
        "colab_type": "code",
        "colab": {
          "base_uri": "https://localhost:8080/",
          "height": 171
        },
        "outputId": "ff2964a9-634c-48de-9f40-38b64e19ff4b"
      },
      "source": [
        "learn.fit_one_cycle(4, slice(2e-3/100, 2e-3))"
      ],
      "execution_count": 33,
      "outputs": [
        {
          "output_type": "display_data",
          "data": {
            "text/html": [
              "<table border=\"1\" class=\"dataframe\">\n",
              "  <thead>\n",
              "    <tr style=\"text-align: left;\">\n",
              "      <th>epoch</th>\n",
              "      <th>train_loss</th>\n",
              "      <th>valid_loss</th>\n",
              "      <th>accuracy</th>\n",
              "      <th>time</th>\n",
              "    </tr>\n",
              "  </thead>\n",
              "  <tbody>\n",
              "    <tr>\n",
              "      <td>0</td>\n",
              "      <td>3.910795</td>\n",
              "      <td>3.915743</td>\n",
              "      <td>0.252174</td>\n",
              "      <td>01:06</td>\n",
              "    </tr>\n",
              "    <tr>\n",
              "      <td>1</td>\n",
              "      <td>3.872776</td>\n",
              "      <td>3.927238</td>\n",
              "      <td>0.269565</td>\n",
              "      <td>01:05</td>\n",
              "    </tr>\n",
              "    <tr>\n",
              "      <td>2</td>\n",
              "      <td>3.733199</td>\n",
              "      <td>3.842450</td>\n",
              "      <td>0.313043</td>\n",
              "      <td>01:06</td>\n",
              "    </tr>\n",
              "    <tr>\n",
              "      <td>3</td>\n",
              "      <td>3.592998</td>\n",
              "      <td>3.839024</td>\n",
              "      <td>0.304348</td>\n",
              "      <td>01:05</td>\n",
              "    </tr>\n",
              "  </tbody>\n",
              "</table>"
            ],
            "text/plain": [
              "<IPython.core.display.HTML object>"
            ]
          },
          "metadata": {
            "tags": []
          }
        }
      ]
    },
    {
      "cell_type": "code",
      "metadata": {
        "id": "0Zsd99isb9EQ",
        "colab_type": "code",
        "colab": {
          "base_uri": "https://localhost:8080/",
          "height": 171
        },
        "outputId": "054fa0f4-47d1-4873-c30e-751edbdf3fde"
      },
      "source": [
        "learn.fit_one_cycle(4, slice(2e-3/100, 2e-3))"
      ],
      "execution_count": 34,
      "outputs": [
        {
          "output_type": "display_data",
          "data": {
            "text/html": [
              "<table border=\"1\" class=\"dataframe\">\n",
              "  <thead>\n",
              "    <tr style=\"text-align: left;\">\n",
              "      <th>epoch</th>\n",
              "      <th>train_loss</th>\n",
              "      <th>valid_loss</th>\n",
              "      <th>accuracy</th>\n",
              "      <th>time</th>\n",
              "    </tr>\n",
              "  </thead>\n",
              "  <tbody>\n",
              "    <tr>\n",
              "      <td>0</td>\n",
              "      <td>3.433017</td>\n",
              "      <td>3.813226</td>\n",
              "      <td>0.304348</td>\n",
              "      <td>01:06</td>\n",
              "    </tr>\n",
              "    <tr>\n",
              "      <td>1</td>\n",
              "      <td>3.399888</td>\n",
              "      <td>3.863372</td>\n",
              "      <td>0.260870</td>\n",
              "      <td>01:03</td>\n",
              "    </tr>\n",
              "    <tr>\n",
              "      <td>2</td>\n",
              "      <td>3.240802</td>\n",
              "      <td>3.822291</td>\n",
              "      <td>0.278261</td>\n",
              "      <td>01:08</td>\n",
              "    </tr>\n",
              "    <tr>\n",
              "      <td>3</td>\n",
              "      <td>3.117996</td>\n",
              "      <td>3.801852</td>\n",
              "      <td>0.278261</td>\n",
              "      <td>01:09</td>\n",
              "    </tr>\n",
              "  </tbody>\n",
              "</table>"
            ],
            "text/plain": [
              "<IPython.core.display.HTML object>"
            ]
          },
          "metadata": {
            "tags": []
          }
        }
      ]
    },
    {
      "cell_type": "code",
      "metadata": {
        "id": "atNWNKDFPbuI",
        "colab_type": "code",
        "colab": {
          "base_uri": "https://localhost:8080/",
          "height": 171
        },
        "outputId": "bbe9e181-141c-4812-e1ff-42c51d9ea13d"
      },
      "source": [
        "learn.fit_one_cycle(4, slice(2e-3/100, 2e-3))"
      ],
      "execution_count": 35,
      "outputs": [
        {
          "output_type": "display_data",
          "data": {
            "text/html": [
              "<table border=\"1\" class=\"dataframe\">\n",
              "  <thead>\n",
              "    <tr style=\"text-align: left;\">\n",
              "      <th>epoch</th>\n",
              "      <th>train_loss</th>\n",
              "      <th>valid_loss</th>\n",
              "      <th>accuracy</th>\n",
              "      <th>time</th>\n",
              "    </tr>\n",
              "  </thead>\n",
              "  <tbody>\n",
              "    <tr>\n",
              "      <td>0</td>\n",
              "      <td>2.990614</td>\n",
              "      <td>3.840260</td>\n",
              "      <td>0.295652</td>\n",
              "      <td>01:04</td>\n",
              "    </tr>\n",
              "    <tr>\n",
              "      <td>1</td>\n",
              "      <td>2.984731</td>\n",
              "      <td>3.920793</td>\n",
              "      <td>0.252174</td>\n",
              "      <td>01:05</td>\n",
              "    </tr>\n",
              "    <tr>\n",
              "      <td>2</td>\n",
              "      <td>2.855926</td>\n",
              "      <td>3.857522</td>\n",
              "      <td>0.295652</td>\n",
              "      <td>01:07</td>\n",
              "    </tr>\n",
              "    <tr>\n",
              "      <td>3</td>\n",
              "      <td>2.730137</td>\n",
              "      <td>3.841486</td>\n",
              "      <td>0.304348</td>\n",
              "      <td>01:06</td>\n",
              "    </tr>\n",
              "  </tbody>\n",
              "</table>"
            ],
            "text/plain": [
              "<IPython.core.display.HTML object>"
            ]
          },
          "metadata": {
            "tags": []
          }
        }
      ]
    },
    {
      "cell_type": "code",
      "metadata": {
        "id": "rKrBTZ0T1uVA",
        "colab_type": "code",
        "colab": {
          "base_uri": "https://localhost:8080/",
          "height": 171
        },
        "outputId": "3711f28d-bd58-415d-8dfd-e53ca9c416ec"
      },
      "source": [
        "learn.fit_one_cycle(4, slice(2e-3/100, 2e-3))"
      ],
      "execution_count": 36,
      "outputs": [
        {
          "output_type": "display_data",
          "data": {
            "text/html": [
              "<table border=\"1\" class=\"dataframe\">\n",
              "  <thead>\n",
              "    <tr style=\"text-align: left;\">\n",
              "      <th>epoch</th>\n",
              "      <th>train_loss</th>\n",
              "      <th>valid_loss</th>\n",
              "      <th>accuracy</th>\n",
              "      <th>time</th>\n",
              "    </tr>\n",
              "  </thead>\n",
              "  <tbody>\n",
              "    <tr>\n",
              "      <td>0</td>\n",
              "      <td>2.629502</td>\n",
              "      <td>3.843346</td>\n",
              "      <td>0.304348</td>\n",
              "      <td>01:03</td>\n",
              "    </tr>\n",
              "    <tr>\n",
              "      <td>1</td>\n",
              "      <td>2.643148</td>\n",
              "      <td>3.853421</td>\n",
              "      <td>0.286957</td>\n",
              "      <td>01:07</td>\n",
              "    </tr>\n",
              "    <tr>\n",
              "      <td>2</td>\n",
              "      <td>2.536096</td>\n",
              "      <td>3.894631</td>\n",
              "      <td>0.278261</td>\n",
              "      <td>01:06</td>\n",
              "    </tr>\n",
              "    <tr>\n",
              "      <td>3</td>\n",
              "      <td>2.424392</td>\n",
              "      <td>3.875277</td>\n",
              "      <td>0.313043</td>\n",
              "      <td>01:04</td>\n",
              "    </tr>\n",
              "  </tbody>\n",
              "</table>"
            ],
            "text/plain": [
              "<IPython.core.display.HTML object>"
            ]
          },
          "metadata": {
            "tags": []
          }
        }
      ]
    },
    {
      "cell_type": "code",
      "metadata": {
        "id": "ajQC6WDg1yA9",
        "colab_type": "code",
        "colab": {
          "base_uri": "https://localhost:8080/",
          "height": 171
        },
        "outputId": "22f5e222-3e64-475a-c70b-d43593bf39d5"
      },
      "source": [
        "learn.fit_one_cycle(4, slice(2e-3/100, 2e-3))"
      ],
      "execution_count": 37,
      "outputs": [
        {
          "output_type": "display_data",
          "data": {
            "text/html": [
              "<table border=\"1\" class=\"dataframe\">\n",
              "  <thead>\n",
              "    <tr style=\"text-align: left;\">\n",
              "      <th>epoch</th>\n",
              "      <th>train_loss</th>\n",
              "      <th>valid_loss</th>\n",
              "      <th>accuracy</th>\n",
              "      <th>time</th>\n",
              "    </tr>\n",
              "  </thead>\n",
              "  <tbody>\n",
              "    <tr>\n",
              "      <td>0</td>\n",
              "      <td>2.332278</td>\n",
              "      <td>3.877383</td>\n",
              "      <td>0.313043</td>\n",
              "      <td>01:04</td>\n",
              "    </tr>\n",
              "    <tr>\n",
              "      <td>1</td>\n",
              "      <td>2.333051</td>\n",
              "      <td>3.867569</td>\n",
              "      <td>0.295652</td>\n",
              "      <td>01:08</td>\n",
              "    </tr>\n",
              "    <tr>\n",
              "      <td>2</td>\n",
              "      <td>2.318274</td>\n",
              "      <td>3.956567</td>\n",
              "      <td>0.295652</td>\n",
              "      <td>01:08</td>\n",
              "    </tr>\n",
              "    <tr>\n",
              "      <td>3</td>\n",
              "      <td>2.222308</td>\n",
              "      <td>3.923008</td>\n",
              "      <td>0.295652</td>\n",
              "      <td>01:02</td>\n",
              "    </tr>\n",
              "  </tbody>\n",
              "</table>"
            ],
            "text/plain": [
              "<IPython.core.display.HTML object>"
            ]
          },
          "metadata": {
            "tags": []
          }
        }
      ]
    },
    {
      "cell_type": "code",
      "metadata": {
        "id": "KKydb0B4BKGk",
        "colab_type": "code",
        "colab": {
          "base_uri": "https://localhost:8080/",
          "height": 171
        },
        "outputId": "843fe336-5277-40b4-fb1c-bc01ce041edf"
      },
      "source": [
        "learn.fit_one_cycle(4, slice(2e-3/100, 2e-3))"
      ],
      "execution_count": 38,
      "outputs": [
        {
          "output_type": "display_data",
          "data": {
            "text/html": [
              "<table border=\"1\" class=\"dataframe\">\n",
              "  <thead>\n",
              "    <tr style=\"text-align: left;\">\n",
              "      <th>epoch</th>\n",
              "      <th>train_loss</th>\n",
              "      <th>valid_loss</th>\n",
              "      <th>accuracy</th>\n",
              "      <th>time</th>\n",
              "    </tr>\n",
              "  </thead>\n",
              "  <tbody>\n",
              "    <tr>\n",
              "      <td>0</td>\n",
              "      <td>2.137910</td>\n",
              "      <td>3.940499</td>\n",
              "      <td>0.313043</td>\n",
              "      <td>01:04</td>\n",
              "    </tr>\n",
              "    <tr>\n",
              "      <td>1</td>\n",
              "      <td>2.182122</td>\n",
              "      <td>4.112158</td>\n",
              "      <td>0.286957</td>\n",
              "      <td>01:05</td>\n",
              "    </tr>\n",
              "    <tr>\n",
              "      <td>2</td>\n",
              "      <td>2.105710</td>\n",
              "      <td>4.099386</td>\n",
              "      <td>0.252174</td>\n",
              "      <td>01:08</td>\n",
              "    </tr>\n",
              "    <tr>\n",
              "      <td>3</td>\n",
              "      <td>2.025974</td>\n",
              "      <td>4.084437</td>\n",
              "      <td>0.269565</td>\n",
              "      <td>01:08</td>\n",
              "    </tr>\n",
              "  </tbody>\n",
              "</table>"
            ],
            "text/plain": [
              "<IPython.core.display.HTML object>"
            ]
          },
          "metadata": {
            "tags": []
          }
        }
      ]
    },
    {
      "cell_type": "code",
      "metadata": {
        "id": "T2APKtFKBpGY",
        "colab_type": "code",
        "colab": {
          "base_uri": "https://localhost:8080/",
          "height": 171
        },
        "outputId": "f5ac9716-2738-4791-b644-ff6493f643ce"
      },
      "source": [
        "learn.fit_one_cycle(4, slice(2e-3/100, 2e-3))"
      ],
      "execution_count": 39,
      "outputs": [
        {
          "output_type": "display_data",
          "data": {
            "text/html": [
              "<table border=\"1\" class=\"dataframe\">\n",
              "  <thead>\n",
              "    <tr style=\"text-align: left;\">\n",
              "      <th>epoch</th>\n",
              "      <th>train_loss</th>\n",
              "      <th>valid_loss</th>\n",
              "      <th>accuracy</th>\n",
              "      <th>time</th>\n",
              "    </tr>\n",
              "  </thead>\n",
              "  <tbody>\n",
              "    <tr>\n",
              "      <td>0</td>\n",
              "      <td>1.961349</td>\n",
              "      <td>4.032089</td>\n",
              "      <td>0.304348</td>\n",
              "      <td>01:06</td>\n",
              "    </tr>\n",
              "    <tr>\n",
              "      <td>1</td>\n",
              "      <td>1.968117</td>\n",
              "      <td>4.124346</td>\n",
              "      <td>0.286957</td>\n",
              "      <td>01:07</td>\n",
              "    </tr>\n",
              "    <tr>\n",
              "      <td>2</td>\n",
              "      <td>1.923880</td>\n",
              "      <td>4.076173</td>\n",
              "      <td>0.304348</td>\n",
              "      <td>01:07</td>\n",
              "    </tr>\n",
              "    <tr>\n",
              "      <td>3</td>\n",
              "      <td>1.862399</td>\n",
              "      <td>4.064598</td>\n",
              "      <td>0.313043</td>\n",
              "      <td>01:06</td>\n",
              "    </tr>\n",
              "  </tbody>\n",
              "</table>"
            ],
            "text/plain": [
              "<IPython.core.display.HTML object>"
            ]
          },
          "metadata": {
            "tags": []
          }
        }
      ]
    },
    {
      "cell_type": "code",
      "metadata": {
        "id": "qtTypA1sPgLU",
        "colab_type": "code",
        "colab": {
          "base_uri": "https://localhost:8080/",
          "height": 110
        },
        "outputId": "b2794cf4-c5e1-470a-e9e8-a1875d0c289d"
      },
      "source": [
        "learn.fit_one_cycle(2, slice(2e-3/100, 2e-3))"
      ],
      "execution_count": 40,
      "outputs": [
        {
          "output_type": "display_data",
          "data": {
            "text/html": [
              "<table border=\"1\" class=\"dataframe\">\n",
              "  <thead>\n",
              "    <tr style=\"text-align: left;\">\n",
              "      <th>epoch</th>\n",
              "      <th>train_loss</th>\n",
              "      <th>valid_loss</th>\n",
              "      <th>accuracy</th>\n",
              "      <th>time</th>\n",
              "    </tr>\n",
              "  </thead>\n",
              "  <tbody>\n",
              "    <tr>\n",
              "      <td>0</td>\n",
              "      <td>1.839153</td>\n",
              "      <td>4.205594</td>\n",
              "      <td>0.252174</td>\n",
              "      <td>01:08</td>\n",
              "    </tr>\n",
              "    <tr>\n",
              "      <td>1</td>\n",
              "      <td>1.819650</td>\n",
              "      <td>4.188605</td>\n",
              "      <td>0.252174</td>\n",
              "      <td>01:08</td>\n",
              "    </tr>\n",
              "  </tbody>\n",
              "</table>"
            ],
            "text/plain": [
              "<IPython.core.display.HTML object>"
            ]
          },
          "metadata": {
            "tags": []
          }
        }
      ]
    },
    {
      "cell_type": "code",
      "metadata": {
        "id": "b242kBsTUp9Y",
        "colab_type": "code",
        "colab": {
          "base_uri": "https://localhost:8080/",
          "height": 110
        },
        "outputId": "fa49edfb-9954-499e-b64e-2248247d25d5"
      },
      "source": [
        "learn.fit_one_cycle(2, slice(2e-3/100, 2e-3))"
      ],
      "execution_count": 41,
      "outputs": [
        {
          "output_type": "display_data",
          "data": {
            "text/html": [
              "<table border=\"1\" class=\"dataframe\">\n",
              "  <thead>\n",
              "    <tr style=\"text-align: left;\">\n",
              "      <th>epoch</th>\n",
              "      <th>train_loss</th>\n",
              "      <th>valid_loss</th>\n",
              "      <th>accuracy</th>\n",
              "      <th>time</th>\n",
              "    </tr>\n",
              "  </thead>\n",
              "  <tbody>\n",
              "    <tr>\n",
              "      <td>0</td>\n",
              "      <td>1.876571</td>\n",
              "      <td>4.283625</td>\n",
              "      <td>0.278261</td>\n",
              "      <td>01:06</td>\n",
              "    </tr>\n",
              "    <tr>\n",
              "      <td>1</td>\n",
              "      <td>1.832585</td>\n",
              "      <td>4.224254</td>\n",
              "      <td>0.278261</td>\n",
              "      <td>01:02</td>\n",
              "    </tr>\n",
              "  </tbody>\n",
              "</table>"
            ],
            "text/plain": [
              "<IPython.core.display.HTML object>"
            ]
          },
          "metadata": {
            "tags": []
          }
        }
      ]
    },
    {
      "cell_type": "code",
      "metadata": {
        "id": "Duwf1Ih5VeDZ",
        "colab_type": "code",
        "colab": {
          "base_uri": "https://localhost:8080/",
          "height": 79
        },
        "outputId": "0bcbcf9f-614f-4fa9-804a-557e73d5aa53"
      },
      "source": [
        "learn.fit_one_cycle(1, slice(2e-3/100, 2e-3))"
      ],
      "execution_count": 42,
      "outputs": [
        {
          "output_type": "display_data",
          "data": {
            "text/html": [
              "<table border=\"1\" class=\"dataframe\">\n",
              "  <thead>\n",
              "    <tr style=\"text-align: left;\">\n",
              "      <th>epoch</th>\n",
              "      <th>train_loss</th>\n",
              "      <th>valid_loss</th>\n",
              "      <th>accuracy</th>\n",
              "      <th>time</th>\n",
              "    </tr>\n",
              "  </thead>\n",
              "  <tbody>\n",
              "    <tr>\n",
              "      <td>0</td>\n",
              "      <td>1.820507</td>\n",
              "      <td>4.227181</td>\n",
              "      <td>0.252174</td>\n",
              "      <td>01:10</td>\n",
              "    </tr>\n",
              "  </tbody>\n",
              "</table>"
            ],
            "text/plain": [
              "<IPython.core.display.HTML object>"
            ]
          },
          "metadata": {
            "tags": []
          }
        }
      ]
    },
    {
      "cell_type": "code",
      "metadata": {
        "id": "c65d-osfDUXm",
        "colab_type": "code",
        "colab": {}
      },
      "source": [
        "# save the best model\n",
        "\n",
        "learn.save_encoder('tuning_pubmed_bigtweet_overlap_0_last')"
      ],
      "execution_count": 0,
      "outputs": []
    },
    {
      "cell_type": "markdown",
      "metadata": {
        "id": "rCwZU0E2RgM6",
        "colab_type": "text"
      },
      "source": [
        "# Part three: Predict on the test dataset"
      ]
    },
    {
      "cell_type": "code",
      "metadata": {
        "id": "gDm72c-dOu7d",
        "colab_type": "code",
        "colab": {
          "base_uri": "https://localhost:8080/",
          "height": 17
        },
        "outputId": "fbcf8c4e-e199-4038-d34d-b2bfd0526aa6"
      },
      "source": [
        "# use the test data for prediction\n",
        "\n",
        "preds, y = learn.get_preds(DatasetType.Test)"
      ],
      "execution_count": 44,
      "outputs": [
        {
          "output_type": "display_data",
          "data": {
            "text/html": [
              ""
            ],
            "text/plain": [
              "<IPython.core.display.HTML object>"
            ]
          },
          "metadata": {
            "tags": []
          }
        }
      ]
    },
    {
      "cell_type": "code",
      "metadata": {
        "id": "6tFSQcsWPvxn",
        "colab_type": "code",
        "colab": {
          "base_uri": "https://localhost:8080/",
          "height": 107
        },
        "outputId": "2652771d-6329-49b7-91e2-75921f856139"
      },
      "source": [
        "predictions, *_ = learn.get_preds(DatasetType.Test)\n",
        "labels = np.argmax(predictions, 1)\n",
        "predict_list = labels.tolist()\n",
        "standard_list = test[0].tolist()\n",
        "\n",
        "print(len(predict_list))\n",
        "print(len(standard_list))\n",
        "\n",
        "print(predict_list)\n",
        "print(standard_list)"
      ],
      "execution_count": 45,
      "outputs": [
        {
          "output_type": "display_data",
          "data": {
            "text/html": [
              ""
            ],
            "text/plain": [
              "<IPython.core.display.HTML object>"
            ]
          },
          "metadata": {
            "tags": []
          }
        },
        {
          "output_type": "stream",
          "text": [
            "180\n",
            "180\n",
            "[2099, 2099, 170, 1247, 2099, 1639, 2099, 803, 135, 1411, 135, 2099, 854, 854, 860, 1136, 854, 210, 965, 1072, 106, 803, 2099, 2099, 1802, 171, 1077, 2099, 1698, 1348, 491, 2099, 135, 1576, 2088, 1136, 2099, 2099, 2065, 1411, 2099, 1407, 1932, 171, 106, 1935, 1307, 621, 1307, 854, 803, 574, 2099, 1723, 135, 1546, 767, 1307, 854, 1308, 1038, 2065, 1932, 1932, 2099, 2099, 2099, 309, 1956, 860, 2099, 1811, 309, 52, 1570, 505, 2099, 2099, 978, 574, 724, 1038, 92, 309, 909, 1323, 135, 2195, 1307, 803, 230, 1811, 135, 2099, 621, 1307, 1570, 798, 378, 2099, 491, 2099, 931, 860, 854, 1034, 1478, 854, 309, 700, 1411, 1136, 135, 2099, 2046, 2099, 2099, 1956, 574, 2138, 1811, 1698, 2145, 2065, 1677, 135, 2099, 854, 1534, 2099, 170, 2099, 574, 309, 2099, 135, 2099, 1472, 2099, 2099, 1308, 621, 1773, 170, 702, 1247, 1034, 2099, 2099, 1811, 983, 189, 840, 170, 441, 2046, 2099, 2099, 700, 2099, 1392, 170, 135, 1308, 1376, 2046, 135, 1652, 2099, 170, 2099, 1576, 249, 89, 441, 909, 847, 2099, 2099, 1308]\n",
            "[1576, 2099, 1698, 1811, 476, 840, 440, 2099, 171, 309, 703, 135, 375, 1326, 860, 574, 2003, 210, 1408, 237, 106, 1576, 700, 1095, 1194, 1307, 239, 935, 833, 1076, 1935, 1008, 2176, 1576, 2088, 1407, 1411, 505, 1811, 1576, 803, 605, 1652, 931, 92, 974, 2088, 1075, 491, 1932, 1075, 574, 1220, 1032, 2048, 2088, 1583, 1043, 2188, 1095, 872, 854, 1307, 1950, 170, 700, 1698, 170, 451, 860, 1076, 2099, 309, 872, 210, 700, 237, 2003, 1077, 1299, 99, 1038, 106, 2218, 1698, 1666, 135, 1698, 171, 1534, 1811, 699, 854, 171, 621, 794, 941, 89, 965, 472, 1935, 574, 336, 1348, 803, 1403, 2027, 1811, 1752, 1025, 1411, 2099, 1932, 989, 2046, 2099, 724, 1308, 1106, 621, 1811, 699, 1307, 574, 268, 959, 2099, 1308, 1542, 860, 2201, 1308, 574, 309, 1472, 384, 384, 854, 833, 79, 467, 2165, 1049, 956, 2097, 1542, 1811, 384, 1220, 1811, 983, 378, 840, 170, 441, 2046, 2099, 1932, 700, 2099, 1392, 170, 135, 1308, 1376, 2046, 135, 79, 1962, 170, 2099, 79, 249, 89, 441, 909, 847, 1034, 931, 1308]\n"
          ],
          "name": "stdout"
        }
      ]
    },
    {
      "cell_type": "code",
      "metadata": {
        "id": "XIC4zufnMxtq",
        "colab_type": "code",
        "colab": {
          "base_uri": "https://localhost:8080/",
          "height": 52
        },
        "outputId": "2d1c82c0-8a91-4640-bf86-1ec9277f1c86"
      },
      "source": [
        "correct_num = 0\n",
        "\n",
        "for i in range(0, len(standard_list)):\n",
        "  if predict_list[i] == standard_list[i]:\n",
        "    correct_num = correct_num+1\n",
        "  else:\n",
        "    pass\n",
        "print(correct_num)\n",
        "\n",
        "predict_accuracy = correct_num/len(predict_list)\n",
        "print(predict_accuracy)"
      ],
      "execution_count": 46,
      "outputs": [
        {
          "output_type": "stream",
          "text": [
            "43\n",
            "0.2388888888888889\n"
          ],
          "name": "stdout"
        }
      ]
    }
  ]
}